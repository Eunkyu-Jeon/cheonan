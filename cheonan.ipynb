{
 "cells": [
  {
   "cell_type": "code",
   "execution_count": 1,
   "metadata": {
    "collapsed": true
   },
   "outputs": [
    {
     "ename": "NameError",
     "evalue": "name 'df' is not defined",
     "output_type": "error",
     "traceback": [
      "\u001B[0;31m---------------------------------------------------------------------------\u001B[0m",
      "\u001B[0;31mNameError\u001B[0m                                 Traceback (most recent call last)",
      "\u001B[0;32m/var/folders/r4/h5tmjmlj1wj54cmxzmf66mw40000gn/T/ipykernel_33359/982188411.py\u001B[0m in \u001B[0;36m<module>\u001B[0;34m\u001B[0m\n\u001B[0;32m----> 1\u001B[0;31m \u001B[0mfilt\u001B[0m \u001B[0;34m=\u001B[0m \u001B[0mdf\u001B[0m\u001B[0;34m[\u001B[0m\u001B[0;34m'시군구명'\u001B[0m\u001B[0;34m]\u001B[0m\u001B[0;34m==\u001B[0m\u001B[0;34m'천안시'\u001B[0m\u001B[0;34m\u001B[0m\u001B[0;34m\u001B[0m\u001B[0m\n\u001B[0m\u001B[1;32m      2\u001B[0m \u001B[0mdf\u001B[0m\u001B[0;34m[\u001B[0m\u001B[0mfilt\u001B[0m\u001B[0;34m]\u001B[0m\u001B[0;34m.\u001B[0m\u001B[0mto_csv\u001B[0m\u001B[0;34m(\u001B[0m\u001B[0;34m'cheonan_crosswalkdata.csv'\u001B[0m\u001B[0;34m)\u001B[0m\u001B[0;34m\u001B[0m\u001B[0;34m\u001B[0m\u001B[0m\n",
      "\u001B[0;31mNameError\u001B[0m: name 'df' is not defined"
     ]
    }
   ],
   "source": []
  },
  {
   "cell_type": "markdown",
   "source": [],
   "metadata": {
    "collapsed": false
   }
  },
  {
   "cell_type": "markdown",
   "source": [
    "# 연도별 교통사고 발생 횟수"
   ],
   "metadata": {
    "collapsed": false
   }
  },
  {
   "cell_type": "code",
   "execution_count": 12,
   "outputs": [
    {
     "name": "stdout",
     "output_type": "stream",
     "text": [
      "2930\n",
      "2887\n",
      "2798\n",
      "2676\n",
      "2814\n",
      "3015\n",
      "0\n",
      "0\n"
     ]
    }
   ],
   "source": [
    "import pandas as pd\n",
    "\n",
    "df20_22=pd.read_csv(\"/Users/jeon-eunkyu/Desktop/cheonanaccident20_22.csv\") # 파일명 바꾸기\n",
    "\n",
    "# 20~22년 교통사고 데이터\n",
    "filt20 = df20_22['사고일시'].str.contains('2020년')\n",
    "filt21 = df20_22['사고일시'].str.contains('2021년')\n",
    "filt22 = df20_22['사고일시'].str.contains('2022년')\n",
    "\n",
    "#20~22년 사고발생 횟수\n",
    "print(len(df20_22[filt20]))\n",
    "print(len(df20_22[filt21]))\n",
    "print(len(df20_22[filt22]))\n",
    "\n",
    "\n",
    "df17_19 = pd.read_csv(\"/Users/jeon-eunkyu/Desktop/cheonanAccident17_19.csv\") #파일바꾸기\n",
    "\n",
    "# 17~19년 교통사고 데이터\n",
    "filt17 = df17_19['사고일시'].str.contains('2017년')\n",
    "filt18 = df17_19['사고일시'].str.contains('2018년')\n",
    "filt19 = df17_19['사고일시'].str.contains('2019년')\n",
    "\n",
    "#17~19년 사고발생 횟수\n",
    "print(len(df17_19[filt17]))\n",
    "print(len(df17_19[filt18]))\n",
    "print(len(df17_19[filt19]))\n",
    "\n",
    "df14_16 = pd.read_csv(\"/Users/jeon-eunkyu/Desktop/cheonanAccident14_16.csv\")\n",
    "\n",
    "# 14~16년 교통사고 데이터\n",
    "filt14 = df14_16['사고일시'].str.contains('2014년')\n",
    "filt15 = df14_16['사고일시'].str.contains('2015년')\n",
    "filt16 = df14_16['사고일시'].str.contains('2016년')\n",
    "\n",
    "#14~16년 사고발생 횟수\n",
    "print(len(df14_16[filt14]))\n",
    "print(len(df14_16[filt15]))\n",
    "print(len(df14_16[filt16]))\n",
    "\n"
   ],
   "metadata": {
    "collapsed": false
   }
  },
  {
   "cell_type": "markdown",
   "source": [
    "# 사고유형 별 교통사고 횟수"
   ],
   "metadata": {
    "collapsed": false
   }
  },
  {
   "cell_type": "code",
   "execution_count": 8,
   "outputs": [
    {
     "name": "stdout",
     "output_type": "stream",
     "text": [
      "7118\n",
      "1315\n",
      "182\n",
      "6813\n",
      "1513\n",
      "179\n",
      "5345\n",
      "1495\n",
      "187\n"
     ]
    }
   ],
   "source": [
    "import pandas as pd\n",
    "\n",
    "\n",
    "#20~22\n",
    "df20_22=pd.read_csv(\"/Users/jeon-eunkyu/Desktop/cheonanaccident20_22.csv\") # 파일명 바꾸기\n",
    "\n",
    "filtCartoCar = df20_22['사고유형'].str.contains('차대차')\n",
    "filtCartoPerson = df20_22['사고유형'].str.contains('차대사람')\n",
    "filtCarOnly = df20_22['사고유형'].str.contains('차량단독')\n",
    "\n",
    "print(len(df20_22[filtCartoCar]))\n",
    "print(len(df20_22[filtCartoPerson]))\n",
    "print(len(df20_22[filtCarOnly]))\n",
    "\n",
    "#17~19\n",
    "df17_19=pd.read_csv(\"/Users/jeon-eunkyu/Desktop/cheonanaccident17_19.csv\") # 파일명 바꾸기\n",
    "\n",
    "filtCartoCar = df17_19['사고유형'].str.contains('차대차')\n",
    "filtCartoPerson = df17_19['사고유형'].str.contains('차대사람')\n",
    "filtCarOnly = df17_19['사고유형'].str.contains('차량단독')\n",
    "\n",
    "print(len(df17_19[filtCartoCar]))\n",
    "print(len(df17_19[filtCartoPerson]))\n",
    "print(len(df17_19[filtCarOnly]))\n",
    "\n",
    "\n",
    "#14~16\n",
    "df14_16=pd.read_csv(\"/Users/jeon-eunkyu/Desktop/cheonanaccident14_16.csv\") # 파일명 바꾸기\n",
    "\n",
    "filtCartoCar = df14_16['사고유형'].str.contains('차대차')\n",
    "filtCartoPerson = df14_16['사고유형'].str.contains('차대사람')\n",
    "filtCarOnly = df14_16['사고유형'].str.contains('차량단독')\n",
    "\n",
    "print(len(df14_16[filtCartoCar]))\n",
    "print(len(df14_16[filtCartoPerson]))\n",
    "print(len(df14_16[filtCarOnly]))"
   ],
   "metadata": {
    "collapsed": false
   }
  },
  {
   "cell_type": "code",
   "execution_count": 53,
   "outputs": [
    {
     "name": "stdout",
     "output_type": "stream",
     "text": [
      "246\n",
      "1719\n",
      "1852\n",
      "1613\n",
      "1610\n",
      "1321\n"
     ]
    }
   ],
   "source": [
    "import pandas as pd\n",
    "\n",
    "df20_22=pd.read_csv(\"/Users/jeon-eunkyu/Desktop/cheonanaccident20_22.csv\") # 파일명 바꾸기\n",
    "df20_22['피해운전자 연령'] = df20_22['피해운전자 연령'].fillna('0세')\n",
    "df20_22['피해운전자 연령'] = df20_22['피해운전자 연령'].replace('90세 이상','90세')\n",
    "df20_22['피해운전자 연령'] = df20_22['피해운전자 연령'].replace('미분류','0세')\n",
    "\n",
    "\n",
    "df20_22['피해운전자 연령'] = df20_22['피해운전자 연령'].str[:-1]\n",
    "df20_22['피해운전자 연령'] = df20_22['피해운전자 연령'].astype('int64')\n",
    "\n",
    "# filtage10 = df20_22[(df20_22['피해운전자 연령']>=10) & (df20_22['피해운전자 연령']<20)]\n",
    "# filtage20 = df20_22[(df20_22['피해운전자 연령']>=20) & (df20_22['피해운전자 연령']<30)]\n",
    "# filtage30 = df20_22[(df20_22['피해운전자 연령']>=30) & (df20_22['피해운전자 연령']<40)]\n",
    "# filtage40 = df20_22[(df20_22['피해운전자 연령']>=40) & (df20_22['피해운전자 연령']<50)]\n",
    "# filtage50 = df20_22[(df20_22['피해운전자 연령']>=50) & (df20_22['피해운전자 연령']<60)]\n",
    "# filtage60 = df20_22[(df20_22['피해운전자 연령']>=60)]\n",
    "\n",
    "print(len(df20_22.loc[(df20_22['피해운전자 연령']>=10) & (df20_22['피해운전자 연령']<20)]))\n",
    "print(len(df20_22.loc[(df20_22['피해운전자 연령']>=20) & (df20_22['피해운전자 연령']<30)]))\n",
    "print(len(df20_22.loc[(df20_22['피해운전자 연령']>=30) & (df20_22['피해운전자 연령']<40)]))\n",
    "print(len(df20_22.loc[(df20_22['피해운전자 연령']>=40) & (df20_22['피해운전자 연령']<50)]))\n",
    "print(len(df20_22.loc[(df20_22['피해운전자 연령']>=50) & (df20_22['피해운전자 연령']<60)]))\n",
    "print(len(df20_22.loc[(df20_22['피해운전자 연령']>=60)]))\n",
    "# print(df20_22[filtage10])\n",
    "\n"
   ],
   "metadata": {
    "collapsed": false
   }
  },
  {
   "cell_type": "code",
   "execution_count": null,
   "outputs": [],
   "source": [],
   "metadata": {
    "collapsed": false
   }
  }
 ],
 "metadata": {
  "kernelspec": {
   "display_name": "Python 3",
   "language": "python",
   "name": "python3"
  },
  "language_info": {
   "codemirror_mode": {
    "name": "ipython",
    "version": 2
   },
   "file_extension": ".py",
   "mimetype": "text/x-python",
   "name": "python",
   "nbconvert_exporter": "python",
   "pygments_lexer": "ipython2",
   "version": "2.7.6"
  }
 },
 "nbformat": 4,
 "nbformat_minor": 0
}
