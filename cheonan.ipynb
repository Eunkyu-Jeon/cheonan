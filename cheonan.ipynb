{
 "cells": [
  {
   "cell_type": "code",
   "execution_count": 1,
   "metadata": {
    "collapsed": true
   },
   "outputs": [
    {
     "ename": "NameError",
     "evalue": "name 'df' is not defined",
     "output_type": "error",
     "traceback": [
      "\u001B[0;31m---------------------------------------------------------------------------\u001B[0m",
      "\u001B[0;31mNameError\u001B[0m                                 Traceback (most recent call last)",
      "\u001B[0;32m/var/folders/r4/h5tmjmlj1wj54cmxzmf66mw40000gn/T/ipykernel_33359/982188411.py\u001B[0m in \u001B[0;36m<module>\u001B[0;34m\u001B[0m\n\u001B[0;32m----> 1\u001B[0;31m \u001B[0mfilt\u001B[0m \u001B[0;34m=\u001B[0m \u001B[0mdf\u001B[0m\u001B[0;34m[\u001B[0m\u001B[0;34m'시군구명'\u001B[0m\u001B[0;34m]\u001B[0m\u001B[0;34m==\u001B[0m\u001B[0;34m'천안시'\u001B[0m\u001B[0;34m\u001B[0m\u001B[0;34m\u001B[0m\u001B[0m\n\u001B[0m\u001B[1;32m      2\u001B[0m \u001B[0mdf\u001B[0m\u001B[0;34m[\u001B[0m\u001B[0mfilt\u001B[0m\u001B[0;34m]\u001B[0m\u001B[0;34m.\u001B[0m\u001B[0mto_csv\u001B[0m\u001B[0;34m(\u001B[0m\u001B[0;34m'cheonan_crosswalkdata.csv'\u001B[0m\u001B[0;34m)\u001B[0m\u001B[0;34m\u001B[0m\u001B[0;34m\u001B[0m\u001B[0m\n",
      "\u001B[0;31mNameError\u001B[0m: name 'df' is not defined"
     ]
    }
   ],
   "source": []
  },
  {
   "cell_type": "markdown",
   "source": [],
   "metadata": {
    "collapsed": false
   }
  },
  {
   "cell_type": "markdown",
   "source": [
    "# 연도별 교통사고 발생 횟수"
   ],
   "metadata": {
    "collapsed": false
   }
  },
  {
   "cell_type": "code",
   "execution_count": 75,
   "outputs": [
    {
     "data": {
      "text/plain": "(0.0, 4000.0)"
     },
     "execution_count": 75,
     "metadata": {},
     "output_type": "execute_result"
    },
    {
     "data": {
      "text/plain": "<Figure size 432x288 with 1 Axes>",
      "image/png": "[encoded data removed]"
     },
     "metadata": {
      "needs_background": "light"
     },
     "output_type": "display_data"
    }
   ],
   "source": [
    "import pandas as pd\n",
    "import matplotlib.pyplot as plt\n",
    "import numpy as np\n",
    "\n",
    "df20_22=pd.read_csv(\"/Users/jeon-eunkyu/Desktop/cheonanaccident20_22.csv\") # 파일명 바꾸기\n",
    "\n",
    "# 20~22년 교통사고 데이터\n",
    "filt20 = df20_22['사고일시'].str.contains('2020년')\n",
    "filt21 = df20_22['사고일시'].str.contains('2021년')\n",
    "filt22 = df20_22['사고일시'].str.contains('2022년')\n",
    "\n",
    "df17_19 = pd.read_csv(\"/Users/jeon-eunkyu/Desktop/cheonanAccident17_19.csv\") #파일바꾸기\n",
    "\n",
    "# 17~19년 교통사고 데이터\n",
    "filt17 = df17_19['사고일시'].str.contains('2017년')\n",
    "filt18 = df17_19['사고일시'].str.contains('2018년')\n",
    "filt19 = df17_19['사고일시'].str.contains('2019년')\n",
    "\n",
    "df14_16 = pd.read_csv(\"/Users/jeon-eunkyu/Desktop/cheonanAccident14_16.csv\")\n",
    "\n",
    "# 14~16년 교통사고 데이터\n",
    "filt14 = df14_16['사고일시'].str.contains('2014년')\n",
    "filt15 = df14_16['사고일시'].str.contains('2015년')\n",
    "filt16 = df14_16['사고일시'].str.contains('2016년')\n",
    "\n",
    "accident = []\n",
    "\n",
    "accident14 = len(df14_16[filt14])\n",
    "accident.append(accident14)\n",
    "accident15 = len(df14_16[filt15])\n",
    "accident.append(accident15)\n",
    "accident16 = len(df14_16[filt16])\n",
    "accident.append(accident16)\n",
    "accident17 = len(df17_19[filt17])\n",
    "accident.append(accident17)\n",
    "accident18 = len(df17_19[filt18])\n",
    "accident.append(accident18)\n",
    "accident19 = len(df17_19[filt19])\n",
    "accident.append(accident19)\n",
    "accident20 = len(df20_22[filt20])\n",
    "accident.append(accident20)\n",
    "accident21 = len(df20_22[filt21])\n",
    "accident.append(accident21)\n",
    "accident22 = len(df20_22[filt22])\n",
    "accident.append(accident22)\n",
    "\n",
    "years = [2014,2015,2016,2017,2018,2019,2020,2021,2022]\n",
    "plt.plot(years,accident)\n",
    "plt.ylim(0,4000)\n"
   ],
   "metadata": {
    "collapsed": false
   }
  },
  {
   "cell_type": "code",
   "execution_count": 89,
   "outputs": [
    {
     "ename": "TypeError",
     "evalue": "unhashable type: 'Series'",
     "output_type": "error",
     "traceback": [
      "\u001B[0;31m---------------------------------------------------------------------------\u001B[0m",
      "\u001B[0;31mTypeError\u001B[0m                                 Traceback (most recent call last)",
      "\u001B[0;32m/var/folders/r4/h5tmjmlj1wj54cmxzmf66mw40000gn/T/ipykernel_11558/3567549760.py\u001B[0m in \u001B[0;36m<module>\u001B[0;34m\u001B[0m\n\u001B[1;32m      3\u001B[0m \u001B[0mdf14_16\u001B[0m\u001B[0;34m[\u001B[0m\u001B[0;34m'사고일시'\u001B[0m\u001B[0;34m]\u001B[0m \u001B[0;34m=\u001B[0m \u001B[0mdf14_16\u001B[0m\u001B[0;34m[\u001B[0m\u001B[0;34m'사고일시'\u001B[0m\u001B[0;34m]\u001B[0m\u001B[0;34m.\u001B[0m\u001B[0mstr\u001B[0m\u001B[0;34m[\u001B[0m\u001B[0;34m:\u001B[0m\u001B[0;36m5\u001B[0m\u001B[0;34m]\u001B[0m\u001B[0;34m\u001B[0m\u001B[0;34m\u001B[0m\u001B[0m\n\u001B[1;32m      4\u001B[0m \u001B[0;34m\u001B[0m\u001B[0m\n\u001B[0;32m----> 5\u001B[0;31m \u001B[0mdf20_22\u001B[0m\u001B[0;34m.\u001B[0m\u001B[0mloc\u001B[0m\u001B[0;34m(\u001B[0m\u001B[0mdf20_22\u001B[0m\u001B[0;34m[\u001B[0m\u001B[0;34m'사고일시'\u001B[0m\u001B[0;34m]\u001B[0m\u001B[0;34m==\u001B[0m\u001B[0;34m'2020년'\u001B[0m\u001B[0;34m)\u001B[0m\u001B[0;34m\u001B[0m\u001B[0;34m\u001B[0m\u001B[0m\n\u001B[0m\u001B[1;32m      6\u001B[0m \u001B[0;34m\u001B[0m\u001B[0m\n\u001B[1;32m      7\u001B[0m \u001B[0;31m# filtCartoCar = df20_22['사고유형'].str.contains('차대차')\u001B[0m\u001B[0;34m\u001B[0m\u001B[0;34m\u001B[0m\u001B[0m\n",
      "\u001B[0;32m~/opt/anaconda3/lib/python3.9/site-packages/pandas/core/indexing.py\u001B[0m in \u001B[0;36m__call__\u001B[0;34m(self, axis)\u001B[0m\n\u001B[1;32m    635\u001B[0m \u001B[0;34m\u001B[0m\u001B[0m\n\u001B[1;32m    636\u001B[0m         \u001B[0;32mif\u001B[0m \u001B[0maxis\u001B[0m \u001B[0;32mis\u001B[0m \u001B[0;32mnot\u001B[0m \u001B[0;32mNone\u001B[0m\u001B[0;34m:\u001B[0m\u001B[0;34m\u001B[0m\u001B[0;34m\u001B[0m\u001B[0m\n\u001B[0;32m--> 637\u001B[0;31m             \u001B[0maxis\u001B[0m \u001B[0;34m=\u001B[0m \u001B[0mself\u001B[0m\u001B[0;34m.\u001B[0m\u001B[0mobj\u001B[0m\u001B[0;34m.\u001B[0m\u001B[0m_get_axis_number\u001B[0m\u001B[0;34m(\u001B[0m\u001B[0maxis\u001B[0m\u001B[0;34m)\u001B[0m\u001B[0;34m\u001B[0m\u001B[0;34m\u001B[0m\u001B[0m\n\u001B[0m\u001B[1;32m    638\u001B[0m         \u001B[0mnew_self\u001B[0m\u001B[0;34m.\u001B[0m\u001B[0maxis\u001B[0m \u001B[0;34m=\u001B[0m \u001B[0maxis\u001B[0m\u001B[0;34m\u001B[0m\u001B[0;34m\u001B[0m\u001B[0m\n\u001B[1;32m    639\u001B[0m         \u001B[0;32mreturn\u001B[0m \u001B[0mnew_self\u001B[0m\u001B[0;34m\u001B[0m\u001B[0;34m\u001B[0m\u001B[0m\n",
      "\u001B[0;32m~/opt/anaconda3/lib/python3.9/site-packages/pandas/core/generic.py\u001B[0m in \u001B[0;36m_get_axis_number\u001B[0;34m(cls, axis)\u001B[0m\n\u001B[1;32m    544\u001B[0m     \u001B[0;32mdef\u001B[0m \u001B[0m_get_axis_number\u001B[0m\u001B[0;34m(\u001B[0m\u001B[0mcls\u001B[0m\u001B[0;34m,\u001B[0m \u001B[0maxis\u001B[0m\u001B[0;34m:\u001B[0m \u001B[0mAxis\u001B[0m\u001B[0;34m)\u001B[0m \u001B[0;34m->\u001B[0m \u001B[0mint\u001B[0m\u001B[0;34m:\u001B[0m\u001B[0;34m\u001B[0m\u001B[0;34m\u001B[0m\u001B[0m\n\u001B[1;32m    545\u001B[0m         \u001B[0;32mtry\u001B[0m\u001B[0;34m:\u001B[0m\u001B[0;34m\u001B[0m\u001B[0;34m\u001B[0m\u001B[0m\n\u001B[0;32m--> 546\u001B[0;31m             \u001B[0;32mreturn\u001B[0m \u001B[0mcls\u001B[0m\u001B[0;34m.\u001B[0m\u001B[0m_AXIS_TO_AXIS_NUMBER\u001B[0m\u001B[0;34m[\u001B[0m\u001B[0maxis\u001B[0m\u001B[0;34m]\u001B[0m\u001B[0;34m\u001B[0m\u001B[0;34m\u001B[0m\u001B[0m\n\u001B[0m\u001B[1;32m    547\u001B[0m         \u001B[0;32mexcept\u001B[0m \u001B[0mKeyError\u001B[0m\u001B[0;34m:\u001B[0m\u001B[0;34m\u001B[0m\u001B[0;34m\u001B[0m\u001B[0m\n\u001B[1;32m    548\u001B[0m             \u001B[0;32mraise\u001B[0m \u001B[0mValueError\u001B[0m\u001B[0;34m(\u001B[0m\u001B[0;34mf\"No axis named {axis} for object type {cls.__name__}\"\u001B[0m\u001B[0;34m)\u001B[0m\u001B[0;34m\u001B[0m\u001B[0;34m\u001B[0m\u001B[0m\n",
      "\u001B[0;31mTypeError\u001B[0m: unhashable type: 'Series'"
     ]
    }
   ],
   "source": [
    "df20_22['사고일시'] = df20_22['사고일시'].str[:5]\n",
    "df17_19['사고일시'] = df17_19['사고일시'].str[:5]\n",
    "df14_16['사고일시'] = df14_16['사고일시'].str[:5]\n",
    "\n",
    "\n",
    "\n",
    "\n",
    "\n",
    "\n",
    "\n"
   ],
   "metadata": {
    "collapsed": false
   }
  },
  {
   "cell_type": "markdown",
   "source": [
    "# 사고유형 별 교통사고 횟수"
   ],
   "metadata": {
    "collapsed": false
   }
  },
  {
   "cell_type": "code",
   "execution_count": 98,
   "outputs": [
    {
     "data": {
      "text/plain": "[<matplotlib.lines.Line2D at 0x7f9e7b210d90>]"
     },
     "execution_count": 98,
     "metadata": {},
     "output_type": "execute_result"
    },
    {
     "data": {
      "text/plain": "<Figure size 432x288 with 1 Axes>",
      "image/png": "[encoded data removed]"
     },
     "metadata": {
      "needs_background": "light"
     },
     "output_type": "display_data"
    }
   ],
   "source": [
    "# import pandas as pd\n",
    "#\n",
    "#\n",
    "# #20~22\n",
    "# df20_22=pd.read_csv(\"/Users/jeon-eunkyu/Desktop/cheonanaccident20_22.csv\") # 파일명 바꾸기\n",
    "\n",
    "#20~22\n",
    "\n",
    "cartoCar20=len(df20_22[df20_22['사고유형'].str.contains('차대차') & df20_22['사고일시'].str.contains('2020년')])\n",
    "cartoPerson20=len(df20_22[df20_22['사고유형'].str.contains('차대사람') & df20_22['사고일시'].str.contains('2020년')])\n",
    "carOnly20=len(df20_22[df20_22['사고유형'].str.contains('차량단독') & df20_22['사고일시'].str.contains('2020년')])\n",
    "\n",
    "cartoCar21=len(df20_22[df20_22['사고유형'].str.contains('차대차') & df20_22['사고일시'].str.contains('2021년')])\n",
    "cartoPerson21=len(df20_22[df20_22['사고유형'].str.contains('차대사람') & df20_22['사고일시'].str.contains('2021년')])\n",
    "carOnly21=len(df20_22[df20_22['사고유형'].str.contains('차량단독') & df20_22['사고일시'].str.contains('2021년')])\n",
    "\n",
    "cartoCar22=len(df20_22[df20_22['사고유형'].str.contains('차대차') & df20_22['사고일시'].str.contains('2022년')])\n",
    "cartoPerson22=len(df20_22[df20_22['사고유형'].str.contains('차대사람') & df20_22['사고일시'].str.contains('2022년')])\n",
    "carOnly22=len(df20_22[df20_22['사고유형'].str.contains('차량단독') & df20_22['사고일시'].str.contains('2022년')])\n",
    "\n",
    "#17~19\n",
    "\n",
    "cartoCar17=len(df17_19[df17_19['사고유형'].str.contains('차대차') & df17_19['사고일시'].str.contains('2017년')])\n",
    "cartoPerson17=len(df17_19[df17_19['사고유형'].str.contains('차대사람') & df17_19['사고일시'].str.contains('2017년')])\n",
    "carOnly17=len(df17_19[df17_19['사고유형'].str.contains('차량단독') & df17_19['사고일시'].str.contains('2017년')])\n",
    "\n",
    "cartoCar18=len(df17_19[df17_19['사고유형'].str.contains('차대차') & df17_19['사고일시'].str.contains('2018년')])\n",
    "cartoPerson18=len(df17_19[df17_19['사고유형'].str.contains('차대사람') & df17_19['사고일시'].str.contains('2018년')])\n",
    "carOnly18=len(df17_19[df17_19['사고유형'].str.contains('차량단독') & df17_19['사고일시'].str.contains('2018년')])\n",
    "\n",
    "cartoCar19=len(df17_19[df17_19['사고유형'].str.contains('차대차') & df17_19['사고일시'].str.contains('2019년')])\n",
    "cartoPerson19=len(df17_19[df17_19['사고유형'].str.contains('차대사람') & df17_19['사고일시'].str.contains('2019년')])\n",
    "carOnly19=len(df17_19[df17_19['사고유형'].str.contains('차량단독') & df17_19['사고일시'].str.contains('2019년')])\n",
    "\n",
    "#14~16\n",
    "\n",
    "cartoCar14=len(df14_16[df14_16['사고유형'].str.contains('차대차') & df14_16['사고일시'].str.contains('2014년')])\n",
    "cartoPerson14=len(df14_16[df14_16['사고유형'].str.contains('차대사람') & df14_16['사고일시'].str.contains('2014년')])\n",
    "carOnly14=len(df14_16[df14_16['사고유형'].str.contains('차량단독') & df14_16['사고일시'].str.contains('2014년')])\n",
    "\n",
    "cartoCar15=len(df14_16[df14_16['사고유형'].str.contains('차대차') & df14_16['사고일시'].str.contains('2015년')])\n",
    "cartoPerson15=len(df14_16[df14_16['사고유형'].str.contains('차대사람') & df14_16['사고일시'].str.contains('2015년')])\n",
    "carOnly15=len(df14_16[df14_16['사고유형'].str.contains('차량단독') & df14_16['사고일시'].str.contains('2015년')])\n",
    "\n",
    "cartoCar16=len(df14_16[df14_16['사고유형'].str.contains('차대차') & df14_16['사고일시'].str.contains('2016년')])\n",
    "cartoPerson16=len(df14_16[df14_16['사고유형'].str.contains('차대사람') & df14_16['사고일시'].str.contains('2016년')])\n",
    "carOnly16=len(df14_16[df14_16['사고유형'].str.contains('차량단독') & df14_16['사고일시'].str.contains('2016년')])\n",
    "\n",
    "cartoCar = [cartoCar14,cartoCar15,cartoCar16,cartoCar17,cartoCar18,cartoCar19,cartoCar20,cartoCar21,cartoCar22]\n",
    "cartoPerson = [cartoPerson14,cartoPerson15,cartoPerson16,cartoPerson17,cartoPerson18,cartoPerson19,cartoPerson20,cartoPerson21,cartoPerson22]\n",
    "carOnly = [carOnly14,carOnly15,carOnly16,carOnly17,carOnly18,carOnly19,carOnly20,carOnly21,carOnly22]\n",
    "\n",
    "plt.plot(years,cartoCar)\n",
    "plt.plot(years,cartoPerson)\n",
    "plt.plot(years,carOnly)\n"
   ],
   "metadata": {
    "collapsed": false
   }
  },
  {
   "cell_type": "code",
   "execution_count": 110,
   "outputs": [
    {
     "name": "stdout",
     "output_type": "stream",
     "text": [
      "254\n",
      "246\n",
      "1719\n",
      "1852\n",
      "1613\n",
      "1610\n",
      "1321\n",
      "사고번호           int64\n",
      "사고일시          object\n",
      "요일            object\n",
      "시군구           object\n",
      "사고내용          object\n",
      "사망자수           int64\n",
      "중상자수           int64\n",
      "경상자수           int64\n",
      "부상신고자수         int64\n",
      "사고유형          object\n",
      "법규위반          object\n",
      "노면상태          object\n",
      "기상상태          object\n",
      "도로형태          object\n",
      "가해운전자 차종      object\n",
      "가해운전자 성별      object\n",
      "가해운전자 연령      object\n",
      "가해운전자 상해정도    object\n",
      "피해운전자 차종      object\n",
      "피해운전자 성별      object\n",
      "피해운전자 연령       int64\n",
      "피해운전자 상해정도    object\n",
      "dtype: object\n"
     ]
    },
    {
     "ename": "TypeError",
     "evalue": "unsupported operand type(s) for &: 'str' and 'bool'",
     "output_type": "error",
     "traceback": [
      "\u001B[0;31m---------------------------------------------------------------------------\u001B[0m",
      "\u001B[0;31mTypeError\u001B[0m                                 Traceback (most recent call last)",
      "\u001B[0;32m~/opt/anaconda3/lib/python3.9/site-packages/pandas/core/ops/array_ops.py\u001B[0m in \u001B[0;36mna_logical_op\u001B[0;34m(x, y, op)\u001B[0m\n\u001B[1;32m    301\u001B[0m         \u001B[0;31m#  (xint or xbool) and (yint or bool)\u001B[0m\u001B[0;34m\u001B[0m\u001B[0;34m\u001B[0m\u001B[0m\n\u001B[0;32m--> 302\u001B[0;31m         \u001B[0mresult\u001B[0m \u001B[0;34m=\u001B[0m \u001B[0mop\u001B[0m\u001B[0;34m(\u001B[0m\u001B[0mx\u001B[0m\u001B[0;34m,\u001B[0m \u001B[0my\u001B[0m\u001B[0;34m)\u001B[0m\u001B[0;34m\u001B[0m\u001B[0;34m\u001B[0m\u001B[0m\n\u001B[0m\u001B[1;32m    303\u001B[0m     \u001B[0;32mexcept\u001B[0m \u001B[0mTypeError\u001B[0m\u001B[0;34m:\u001B[0m\u001B[0;34m\u001B[0m\u001B[0;34m\u001B[0m\u001B[0m\n",
      "\u001B[0;31mTypeError\u001B[0m: unsupported operand type(s) for &: 'str' and 'bool'",
      "\nDuring handling of the above exception, another exception occurred:\n",
      "\u001B[0;31mTypeError\u001B[0m                                 Traceback (most recent call last)",
      "\u001B[0;32m/var/folders/r4/h5tmjmlj1wj54cmxzmf66mw40000gn/T/ipykernel_11558/1640378098.py\u001B[0m in \u001B[0;36m<module>\u001B[0;34m\u001B[0m\n\u001B[1;32m     27\u001B[0m \u001B[0mprint\u001B[0m\u001B[0;34m(\u001B[0m\u001B[0mdf20_22\u001B[0m\u001B[0;34m.\u001B[0m\u001B[0mdtypes\u001B[0m\u001B[0;34m)\u001B[0m\u001B[0;34m\u001B[0m\u001B[0;34m\u001B[0m\u001B[0m\n\u001B[1;32m     28\u001B[0m \u001B[0;34m\u001B[0m\u001B[0m\n\u001B[0;32m---> 29\u001B[0;31m \u001B[0mnum2\u001B[0m \u001B[0;34m=\u001B[0m \u001B[0mlen\u001B[0m\u001B[0;34m(\u001B[0m\u001B[0mdf20_22\u001B[0m\u001B[0;34m[\u001B[0m\u001B[0mfiltage10\u001B[0m \u001B[0;34m&\u001B[0m \u001B[0mfilt20\u001B[0m\u001B[0;34m]\u001B[0m\u001B[0;34m)\u001B[0m\u001B[0;34m\u001B[0m\u001B[0;34m\u001B[0m\u001B[0m\n\u001B[0m\u001B[1;32m     30\u001B[0m \u001B[0mprint\u001B[0m\u001B[0;34m(\u001B[0m\u001B[0mnum2\u001B[0m\u001B[0;34m)\u001B[0m\u001B[0;34m\u001B[0m\u001B[0;34m\u001B[0m\u001B[0m\n\u001B[1;32m     31\u001B[0m \u001B[0;34m\u001B[0m\u001B[0m\n",
      "\u001B[0;32m~/opt/anaconda3/lib/python3.9/site-packages/pandas/core/ops/common.py\u001B[0m in \u001B[0;36mnew_method\u001B[0;34m(self, other)\u001B[0m\n\u001B[1;32m     67\u001B[0m         \u001B[0mother\u001B[0m \u001B[0;34m=\u001B[0m \u001B[0mitem_from_zerodim\u001B[0m\u001B[0;34m(\u001B[0m\u001B[0mother\u001B[0m\u001B[0;34m)\u001B[0m\u001B[0;34m\u001B[0m\u001B[0;34m\u001B[0m\u001B[0m\n\u001B[1;32m     68\u001B[0m \u001B[0;34m\u001B[0m\u001B[0m\n\u001B[0;32m---> 69\u001B[0;31m         \u001B[0;32mreturn\u001B[0m \u001B[0mmethod\u001B[0m\u001B[0;34m(\u001B[0m\u001B[0mself\u001B[0m\u001B[0;34m,\u001B[0m \u001B[0mother\u001B[0m\u001B[0;34m)\u001B[0m\u001B[0;34m\u001B[0m\u001B[0;34m\u001B[0m\u001B[0m\n\u001B[0m\u001B[1;32m     70\u001B[0m \u001B[0;34m\u001B[0m\u001B[0m\n\u001B[1;32m     71\u001B[0m     \u001B[0;32mreturn\u001B[0m \u001B[0mnew_method\u001B[0m\u001B[0;34m\u001B[0m\u001B[0;34m\u001B[0m\u001B[0m\n",
      "\u001B[0;32m~/opt/anaconda3/lib/python3.9/site-packages/pandas/core/arraylike.py\u001B[0m in \u001B[0;36m__and__\u001B[0;34m(self, other)\u001B[0m\n\u001B[1;32m     60\u001B[0m     \u001B[0;34m@\u001B[0m\u001B[0munpack_zerodim_and_defer\u001B[0m\u001B[0;34m(\u001B[0m\u001B[0;34m\"__and__\"\u001B[0m\u001B[0;34m)\u001B[0m\u001B[0;34m\u001B[0m\u001B[0;34m\u001B[0m\u001B[0m\n\u001B[1;32m     61\u001B[0m     \u001B[0;32mdef\u001B[0m \u001B[0m__and__\u001B[0m\u001B[0;34m(\u001B[0m\u001B[0mself\u001B[0m\u001B[0;34m,\u001B[0m \u001B[0mother\u001B[0m\u001B[0;34m)\u001B[0m\u001B[0;34m:\u001B[0m\u001B[0;34m\u001B[0m\u001B[0;34m\u001B[0m\u001B[0m\n\u001B[0;32m---> 62\u001B[0;31m         \u001B[0;32mreturn\u001B[0m \u001B[0mself\u001B[0m\u001B[0;34m.\u001B[0m\u001B[0m_logical_method\u001B[0m\u001B[0;34m(\u001B[0m\u001B[0mother\u001B[0m\u001B[0;34m,\u001B[0m \u001B[0moperator\u001B[0m\u001B[0;34m.\u001B[0m\u001B[0mand_\u001B[0m\u001B[0;34m)\u001B[0m\u001B[0;34m\u001B[0m\u001B[0;34m\u001B[0m\u001B[0m\n\u001B[0m\u001B[1;32m     63\u001B[0m \u001B[0;34m\u001B[0m\u001B[0m\n\u001B[1;32m     64\u001B[0m     \u001B[0;34m@\u001B[0m\u001B[0munpack_zerodim_and_defer\u001B[0m\u001B[0;34m(\u001B[0m\u001B[0;34m\"__rand__\"\u001B[0m\u001B[0;34m)\u001B[0m\u001B[0;34m\u001B[0m\u001B[0;34m\u001B[0m\u001B[0m\n",
      "\u001B[0;32m~/opt/anaconda3/lib/python3.9/site-packages/pandas/core/frame.py\u001B[0m in \u001B[0;36m_arith_method\u001B[0;34m(self, other, op)\u001B[0m\n\u001B[1;32m   6864\u001B[0m         \u001B[0mself\u001B[0m\u001B[0;34m,\u001B[0m \u001B[0mother\u001B[0m \u001B[0;34m=\u001B[0m \u001B[0mops\u001B[0m\u001B[0;34m.\u001B[0m\u001B[0malign_method_FRAME\u001B[0m\u001B[0;34m(\u001B[0m\u001B[0mself\u001B[0m\u001B[0;34m,\u001B[0m \u001B[0mother\u001B[0m\u001B[0;34m,\u001B[0m \u001B[0maxis\u001B[0m\u001B[0;34m,\u001B[0m \u001B[0mflex\u001B[0m\u001B[0;34m=\u001B[0m\u001B[0;32mTrue\u001B[0m\u001B[0;34m,\u001B[0m \u001B[0mlevel\u001B[0m\u001B[0;34m=\u001B[0m\u001B[0;32mNone\u001B[0m\u001B[0;34m)\u001B[0m\u001B[0;34m\u001B[0m\u001B[0;34m\u001B[0m\u001B[0m\n\u001B[1;32m   6865\u001B[0m \u001B[0;34m\u001B[0m\u001B[0m\n\u001B[0;32m-> 6866\u001B[0;31m         \u001B[0mnew_data\u001B[0m \u001B[0;34m=\u001B[0m \u001B[0mself\u001B[0m\u001B[0;34m.\u001B[0m\u001B[0m_dispatch_frame_op\u001B[0m\u001B[0;34m(\u001B[0m\u001B[0mother\u001B[0m\u001B[0;34m,\u001B[0m \u001B[0mop\u001B[0m\u001B[0;34m,\u001B[0m \u001B[0maxis\u001B[0m\u001B[0;34m=\u001B[0m\u001B[0maxis\u001B[0m\u001B[0;34m)\u001B[0m\u001B[0;34m\u001B[0m\u001B[0;34m\u001B[0m\u001B[0m\n\u001B[0m\u001B[1;32m   6867\u001B[0m         \u001B[0;32mreturn\u001B[0m \u001B[0mself\u001B[0m\u001B[0;34m.\u001B[0m\u001B[0m_construct_result\u001B[0m\u001B[0;34m(\u001B[0m\u001B[0mnew_data\u001B[0m\u001B[0;34m)\u001B[0m\u001B[0;34m\u001B[0m\u001B[0;34m\u001B[0m\u001B[0m\n\u001B[1;32m   6868\u001B[0m \u001B[0;34m\u001B[0m\u001B[0m\n",
      "\u001B[0;32m~/opt/anaconda3/lib/python3.9/site-packages/pandas/core/frame.py\u001B[0m in \u001B[0;36m_dispatch_frame_op\u001B[0;34m(self, right, func, axis)\u001B[0m\n\u001B[1;32m   6903\u001B[0m             \u001B[0;31m# TODO operate_blockwise expects a manager of the same type\u001B[0m\u001B[0;34m\u001B[0m\u001B[0;34m\u001B[0m\u001B[0m\n\u001B[1;32m   6904\u001B[0m             \u001B[0;32mwith\u001B[0m \u001B[0mnp\u001B[0m\u001B[0;34m.\u001B[0m\u001B[0merrstate\u001B[0m\u001B[0;34m(\u001B[0m\u001B[0mall\u001B[0m\u001B[0;34m=\u001B[0m\u001B[0;34m\"ignore\"\u001B[0m\u001B[0;34m)\u001B[0m\u001B[0;34m:\u001B[0m\u001B[0;34m\u001B[0m\u001B[0;34m\u001B[0m\u001B[0m\n\u001B[0;32m-> 6905\u001B[0;31m                 bm = self._mgr.operate_blockwise(\n\u001B[0m\u001B[1;32m   6906\u001B[0m                     \u001B[0;31m# error: Argument 1 to \"operate_blockwise\" of \"ArrayManager\" has\u001B[0m\u001B[0;34m\u001B[0m\u001B[0;34m\u001B[0m\u001B[0m\n\u001B[1;32m   6907\u001B[0m                     \u001B[0;31m# incompatible type \"Union[ArrayManager, BlockManager]\"; expected\u001B[0m\u001B[0;34m\u001B[0m\u001B[0;34m\u001B[0m\u001B[0m\n",
      "\u001B[0;32m~/opt/anaconda3/lib/python3.9/site-packages/pandas/core/internals/managers.py\u001B[0m in \u001B[0;36moperate_blockwise\u001B[0;34m(self, other, array_op)\u001B[0m\n\u001B[1;32m   1301\u001B[0m         \u001B[0mApply\u001B[0m \u001B[0marray_op\u001B[0m \u001B[0mblockwise\u001B[0m \u001B[0;32mwith\u001B[0m \u001B[0manother\u001B[0m \u001B[0;34m(\u001B[0m\u001B[0maligned\u001B[0m\u001B[0;34m)\u001B[0m \u001B[0mBlockManager\u001B[0m\u001B[0;34m.\u001B[0m\u001B[0;34m\u001B[0m\u001B[0;34m\u001B[0m\u001B[0m\n\u001B[1;32m   1302\u001B[0m         \"\"\"\n\u001B[0;32m-> 1303\u001B[0;31m         \u001B[0;32mreturn\u001B[0m \u001B[0moperate_blockwise\u001B[0m\u001B[0;34m(\u001B[0m\u001B[0mself\u001B[0m\u001B[0;34m,\u001B[0m \u001B[0mother\u001B[0m\u001B[0;34m,\u001B[0m \u001B[0marray_op\u001B[0m\u001B[0;34m)\u001B[0m\u001B[0;34m\u001B[0m\u001B[0;34m\u001B[0m\u001B[0m\n\u001B[0m\u001B[1;32m   1304\u001B[0m \u001B[0;34m\u001B[0m\u001B[0m\n\u001B[1;32m   1305\u001B[0m     \u001B[0;32mdef\u001B[0m \u001B[0m_equal_values\u001B[0m\u001B[0;34m(\u001B[0m\u001B[0mself\u001B[0m\u001B[0;34m:\u001B[0m \u001B[0mBlockManager\u001B[0m\u001B[0;34m,\u001B[0m \u001B[0mother\u001B[0m\u001B[0;34m:\u001B[0m \u001B[0mBlockManager\u001B[0m\u001B[0;34m)\u001B[0m \u001B[0;34m->\u001B[0m \u001B[0mbool\u001B[0m\u001B[0;34m:\u001B[0m\u001B[0;34m\u001B[0m\u001B[0;34m\u001B[0m\u001B[0m\n",
      "\u001B[0;32m~/opt/anaconda3/lib/python3.9/site-packages/pandas/core/internals/ops.py\u001B[0m in \u001B[0;36moperate_blockwise\u001B[0;34m(left, right, array_op)\u001B[0m\n\u001B[1;32m     55\u001B[0m     \u001B[0mres_blks\u001B[0m\u001B[0;34m:\u001B[0m \u001B[0mlist\u001B[0m\u001B[0;34m[\u001B[0m\u001B[0mBlock\u001B[0m\u001B[0;34m]\u001B[0m \u001B[0;34m=\u001B[0m \u001B[0;34m[\u001B[0m\u001B[0;34m]\u001B[0m\u001B[0;34m\u001B[0m\u001B[0;34m\u001B[0m\u001B[0m\n\u001B[1;32m     56\u001B[0m     \u001B[0;32mfor\u001B[0m \u001B[0mlvals\u001B[0m\u001B[0;34m,\u001B[0m \u001B[0mrvals\u001B[0m\u001B[0;34m,\u001B[0m \u001B[0mlocs\u001B[0m\u001B[0;34m,\u001B[0m \u001B[0mleft_ea\u001B[0m\u001B[0;34m,\u001B[0m \u001B[0mright_ea\u001B[0m\u001B[0;34m,\u001B[0m \u001B[0mrblk\u001B[0m \u001B[0;32min\u001B[0m \u001B[0m_iter_block_pairs\u001B[0m\u001B[0;34m(\u001B[0m\u001B[0mleft\u001B[0m\u001B[0;34m,\u001B[0m \u001B[0mright\u001B[0m\u001B[0;34m)\u001B[0m\u001B[0;34m:\u001B[0m\u001B[0;34m\u001B[0m\u001B[0;34m\u001B[0m\u001B[0m\n\u001B[0;32m---> 57\u001B[0;31m         \u001B[0mres_values\u001B[0m \u001B[0;34m=\u001B[0m \u001B[0marray_op\u001B[0m\u001B[0;34m(\u001B[0m\u001B[0mlvals\u001B[0m\u001B[0;34m,\u001B[0m \u001B[0mrvals\u001B[0m\u001B[0;34m)\u001B[0m\u001B[0;34m\u001B[0m\u001B[0;34m\u001B[0m\u001B[0m\n\u001B[0m\u001B[1;32m     58\u001B[0m         \u001B[0;32mif\u001B[0m \u001B[0mleft_ea\u001B[0m \u001B[0;32mand\u001B[0m \u001B[0;32mnot\u001B[0m \u001B[0mright_ea\u001B[0m \u001B[0;32mand\u001B[0m \u001B[0mhasattr\u001B[0m\u001B[0;34m(\u001B[0m\u001B[0mres_values\u001B[0m\u001B[0;34m,\u001B[0m \u001B[0;34m\"reshape\"\u001B[0m\u001B[0;34m)\u001B[0m\u001B[0;34m:\u001B[0m\u001B[0;34m\u001B[0m\u001B[0;34m\u001B[0m\u001B[0m\n\u001B[1;32m     59\u001B[0m             \u001B[0mres_values\u001B[0m \u001B[0;34m=\u001B[0m \u001B[0mres_values\u001B[0m\u001B[0;34m.\u001B[0m\u001B[0mreshape\u001B[0m\u001B[0;34m(\u001B[0m\u001B[0;36m1\u001B[0m\u001B[0;34m,\u001B[0m \u001B[0;34m-\u001B[0m\u001B[0;36m1\u001B[0m\u001B[0;34m)\u001B[0m\u001B[0;34m\u001B[0m\u001B[0;34m\u001B[0m\u001B[0m\n",
      "\u001B[0;32m~/opt/anaconda3/lib/python3.9/site-packages/pandas/core/ops/array_ops.py\u001B[0m in \u001B[0;36mlogical_op\u001B[0;34m(left, right, op)\u001B[0m\n\u001B[1;32m    390\u001B[0m         \u001B[0mfiller\u001B[0m \u001B[0;34m=\u001B[0m \u001B[0mfill_int\u001B[0m \u001B[0;32mif\u001B[0m \u001B[0mis_self_int_dtype\u001B[0m \u001B[0;32mand\u001B[0m \u001B[0mis_other_int_dtype\u001B[0m \u001B[0;32melse\u001B[0m \u001B[0mfill_bool\u001B[0m\u001B[0;34m\u001B[0m\u001B[0;34m\u001B[0m\u001B[0m\n\u001B[1;32m    391\u001B[0m \u001B[0;34m\u001B[0m\u001B[0m\n\u001B[0;32m--> 392\u001B[0;31m         \u001B[0mres_values\u001B[0m \u001B[0;34m=\u001B[0m \u001B[0mna_logical_op\u001B[0m\u001B[0;34m(\u001B[0m\u001B[0mlvalues\u001B[0m\u001B[0;34m,\u001B[0m \u001B[0mrvalues\u001B[0m\u001B[0;34m,\u001B[0m \u001B[0mop\u001B[0m\u001B[0;34m)\u001B[0m\u001B[0;34m\u001B[0m\u001B[0;34m\u001B[0m\u001B[0m\n\u001B[0m\u001B[1;32m    393\u001B[0m         \u001B[0;31m# error: Cannot call function of unknown type\u001B[0m\u001B[0;34m\u001B[0m\u001B[0;34m\u001B[0m\u001B[0m\n\u001B[1;32m    394\u001B[0m         \u001B[0mres_values\u001B[0m \u001B[0;34m=\u001B[0m \u001B[0mfiller\u001B[0m\u001B[0;34m(\u001B[0m\u001B[0mres_values\u001B[0m\u001B[0;34m)\u001B[0m  \u001B[0;31m# type: ignore[operator]\u001B[0m\u001B[0;34m\u001B[0m\u001B[0;34m\u001B[0m\u001B[0m\n",
      "\u001B[0;32m~/opt/anaconda3/lib/python3.9/site-packages/pandas/core/ops/array_ops.py\u001B[0m in \u001B[0;36mna_logical_op\u001B[0;34m(x, y, op)\u001B[0m\n\u001B[1;32m    307\u001B[0m             \u001B[0mx\u001B[0m \u001B[0;34m=\u001B[0m \u001B[0mensure_object\u001B[0m\u001B[0;34m(\u001B[0m\u001B[0mx\u001B[0m\u001B[0;34m)\u001B[0m\u001B[0;34m\u001B[0m\u001B[0;34m\u001B[0m\u001B[0m\n\u001B[1;32m    308\u001B[0m             \u001B[0my\u001B[0m \u001B[0;34m=\u001B[0m \u001B[0mensure_object\u001B[0m\u001B[0;34m(\u001B[0m\u001B[0my\u001B[0m\u001B[0;34m)\u001B[0m\u001B[0;34m\u001B[0m\u001B[0;34m\u001B[0m\u001B[0m\n\u001B[0;32m--> 309\u001B[0;31m             \u001B[0mresult\u001B[0m \u001B[0;34m=\u001B[0m \u001B[0mlibops\u001B[0m\u001B[0;34m.\u001B[0m\u001B[0mvec_binop\u001B[0m\u001B[0;34m(\u001B[0m\u001B[0mx\u001B[0m\u001B[0;34m.\u001B[0m\u001B[0mravel\u001B[0m\u001B[0;34m(\u001B[0m\u001B[0;34m)\u001B[0m\u001B[0;34m,\u001B[0m \u001B[0my\u001B[0m\u001B[0;34m.\u001B[0m\u001B[0mravel\u001B[0m\u001B[0;34m(\u001B[0m\u001B[0;34m)\u001B[0m\u001B[0;34m,\u001B[0m \u001B[0mop\u001B[0m\u001B[0;34m)\u001B[0m\u001B[0;34m\u001B[0m\u001B[0;34m\u001B[0m\u001B[0m\n\u001B[0m\u001B[1;32m    310\u001B[0m         \u001B[0;32melse\u001B[0m\u001B[0;34m:\u001B[0m\u001B[0;34m\u001B[0m\u001B[0;34m\u001B[0m\u001B[0m\n\u001B[1;32m    311\u001B[0m             \u001B[0;31m# let null fall thru\u001B[0m\u001B[0;34m\u001B[0m\u001B[0;34m\u001B[0m\u001B[0m\n",
      "\u001B[0;32m~/opt/anaconda3/lib/python3.9/site-packages/pandas/_libs/ops.pyx\u001B[0m in \u001B[0;36mpandas._libs.ops.vec_binop\u001B[0;34m()\u001B[0m\n",
      "\u001B[0;32m~/opt/anaconda3/lib/python3.9/site-packages/pandas/_libs/ops.pyx\u001B[0m in \u001B[0;36mpandas._libs.ops.vec_binop\u001B[0;34m()\u001B[0m\n",
      "\u001B[0;31mTypeError\u001B[0m: unsupported operand type(s) for &: 'str' and 'bool'"
     ]
    }
   ],
   "source": [
    "import pandas as pd\n",
    "\n",
    "df20_22=pd.read_csv(\"/Users/jeon-eunkyu/Desktop/cheonanaccident20_22.csv\") # 파일명 바꾸기\n",
    "df20_22['피해운전자 연령'] = df20_22['피해운전자 연령'].fillna('0세')\n",
    "df20_22['피해운전자 연령'] = df20_22['피해운전자 연령'].replace('90세 이상','90세')\n",
    "df20_22['피해운전자 연령'] = df20_22['피해운전자 연령'].replace('미분류','0세')\n",
    "\n",
    "\n",
    "df20_22['피해운전자 연령'] = df20_22['피해운전자 연령'].str[:-1]\n",
    "df20_22['피해운전자 연령'] = df20_22['피해운전자 연령'].astype(int)\n",
    "df20_22['사고일시'] = df20_22['피해운전자 연령'].astype(int)\n",
    "\n",
    "# filtage10 = df20_22[(df20_22['피해운전자 연령']>=10) & (df20_22['피해운전자 연령']<20)]\n",
    "# filtage20 = df20_22[(df20_22['피해운전자 연령']>=20) & (df20_22['피해운전자 연령']<30)]\n",
    "# filtage30 = df20_22[(df20_22['피해운전자 연령']>=30) & (df20_22['피해운전자 연령']<40)]\n",
    "# filtage40 = df20_22[(df20_22['피해운전자 연령']>=40) & (df20_22['피해운전자 연령']<50)]\n",
    "# filtage50 = df20_22[(df20_22['피해운전자 연령']>=50) & (df20_22['피해운전자 연령']<60)]\n",
    "# filtage60 = df20_22[(df20_22['피해운전자 연령']>=60)]\n",
    "\n",
    "print(len(df20_22.loc[(df20_22['피해운전자 연령']<10)]))\n",
    "print(len(df20_22.loc[(df20_22['피해운전자 연령']>=10) & (df20_22['피해운전자 연령']<20)]))\n",
    "print(len(df20_22.loc[(df20_22['피해운전자 연령']>=20) & (df20_22['피해운전자 연령']<30)]))\n",
    "print(len(df20_22.loc[(df20_22['피해운전자 연령']>=30) & (df20_22['피해운전자 연령']<40)]))\n",
    "print(len(df20_22.loc[(df20_22['피해운전자 연령']>=40) & (df20_22['피해운전자 연령']<50)]))\n",
    "print(len(df20_22.loc[(df20_22['피해운전자 연령']>=50) & (df20_22['피해운전자 연령']<60)]))\n",
    "print(len(df20_22.loc[(df20_22['피해운전자 연령']>=60)]))\n",
    "\n",
    "\n"
   ],
   "metadata": {
    "collapsed": false
   }
  },
  {
   "cell_type": "markdown",
   "source": [
    "## 엑셀 가공"
   ],
   "metadata": {
    "collapsed": false
   }
  },
  {
   "cell_type": "code",
   "execution_count": 62,
   "outputs": [],
   "source": [
    "import pandas as pd\n",
    "\n",
    "df20_22=pd.read_csv(\"/Users/jeon-eunkyu/Desktop/cheonanaccident20_22.csv\") # 파일명 바꾸기\n",
    "df17_19=pd.read_csv(\"/Users/jeon-eunkyu/Desktop/cheonanaccident17_19.csv\") # 파일명 바꾸기\n",
    "df14_16=pd.read_csv(\"/Users/jeon-eunkyu/Desktop/cheonanaccident14_16.csv\") # 파일명 바꾸기\n",
    "\n",
    "df20_22['피해운전자 연령'] = df20_22['피해운전자 연령'].fillna('0세')\n",
    "df20_22['피해운전자 연령'].replace({'90세 이상': '90세', '미분류': '0세'},inplace=True, regex=True)\n",
    "\n",
    "\n",
    "df20_22['피해운전자 연령'] = df20_22['피해운전자 연령'].str[:-1]\n",
    "df20_22['피해운전자 연령'] = df20_22['피해운전자 연령'].astype('int64')\n",
    "\n",
    "df20_22['피해운전자 연령'].to_excel(\"cheonanAge20_22.xlsx\",encoding='utf-8')\n",
    "\n",
    "\n",
    "df17_19['피해운전자 연령'] = df17_19['피해운전자 연령'].fillna('0세')\n",
    "df17_19['피해운전자 연령'].replace({'90세 이상': '90세', '미분류': '0세'},inplace=True, regex=True)\n",
    "\n",
    "\n",
    "df17_19['피해운전자 연령'] = df17_19['피해운전자 연령'].str[:-1]\n",
    "df17_19['피해운전자 연령'] = df17_19['피해운전자 연령'].astype('int64')\n",
    "\n",
    "df17_19['피해운전자 연령'].to_excel(\"cheonanAge17_19.xlsx\",encoding='utf-8')\n",
    "\n",
    "\n",
    "df14_16['피해운전자 연령'] = df14_16['피해운전자 연령'].fillna('0세')\n",
    "df14_16['피해운전자 연령'].replace({'90세 이상': '90세', '미분류': '0세','기타불명':'0세'},inplace=True, regex=True)\n",
    "\n",
    "\n",
    "df14_16['피해운전자 연령'] = df14_16['피해운전자 연령'].str[:-1]\n",
    "df14_16['피해운전자 연령'] = df14_16['피해운전자 연령'].astype('int64')\n",
    "\n",
    "df14_16['피해운전자 연령'].to_excel(\"cheonanAge14_16.xlsx\",encoding='utf-8')"
   ],
   "metadata": {
    "collapsed": false
   }
  },
  {
   "cell_type": "code",
   "execution_count": 105,
   "outputs": [
    {
     "name": "stdout",
     "output_type": "stream",
     "text": [
      "2446\n"
     ]
    }
   ],
   "source": [
    "cartoCar20=len(df20_22[df20_22['사고유형'].str.contains('차대차') & df20_22['사고일시'].str.contains('2020년')])\n",
    "cartoPerson20=len(df20_22[df20_22['사고유형'].str.contains('차대사람') & df20_22['사고일시'].str.contains('2020년')])\n",
    "carOnly20=len(df20_22[df20_22['사고유형'].str.contains('차량단독') & df20_22['사고일시'].str.contains('2020년')])\n",
    "\n",
    "print(cartoCar20)\n",
    "\n",
    "filtCartoCar = df20_22['사고유형'].str.contains('차대차')\n",
    "\n",
    "\n",
    "num = len(df20_22[filtCartoCar & filt20])"
   ],
   "metadata": {
    "collapsed": false
   }
  },
  {
   "cell_type": "code",
   "execution_count": null,
   "outputs": [],
   "source": [],
   "metadata": {
    "collapsed": false
   }
  }
 ],
 "metadata": {
  "kernelspec": {
   "display_name": "Python 3",
   "language": "python",
   "name": "python3"
  },
  "language_info": {
   "codemirror_mode": {
    "name": "ipython",
    "version": 2
   },
   "file_extension": ".py",
   "mimetype": "text/x-python",
   "name": "python",
   "nbconvert_exporter": "python",
   "pygments_lexer": "ipython2",
   "version": "2.7.6"
  }
 },
 "nbformat": 4,
 "nbformat_minor": 0
}
