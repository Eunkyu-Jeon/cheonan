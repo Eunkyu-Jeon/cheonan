{
 "cells": [
  {
   "cell_type": "code",
   "execution_count": 1,
   "outputs": [],
   "source": [
    "ㅡimport pandas as pd\n"
   ],
   "metadata": {
    "collapsed": false
   }
  },
  {
   "cell_type": "code",
   "execution_count": 3,
   "outputs": [
    {
     "data": {
      "text/plain": "0   -20\n1   -10\n2    10\n3    20\ndtype: int64"
     },
     "execution_count": 3,
     "metadata": {},
     "output_type": "execute_result"
    }
   ],
   "source": [
    "temp = pd.Series([-20,-10,10,20])\n",
    "temp"
   ],
   "metadata": {
    "collapsed": false
   }
  },
  {
   "cell_type": "code",
   "execution_count": 4,
   "outputs": [
    {
     "data": {
      "text/plain": "-20"
     },
     "execution_count": 4,
     "metadata": {},
     "output_type": "execute_result"
    }
   ],
   "source": [
    "temp[0]"
   ],
   "metadata": {
    "collapsed": false
   }
  },
  {
   "cell_type": "code",
   "execution_count": 5,
   "outputs": [],
   "source": [
    "#Series 객체 생성"
   ],
   "metadata": {
    "collapsed": false
   }
  },
  {
   "cell_type": "code",
   "execution_count": 6,
   "outputs": [
    {
     "data": {
      "text/plain": "Jan   -20\nFeb   -10\nMar    10\nApr    20\ndtype: int64"
     },
     "execution_count": 6,
     "metadata": {},
     "output_type": "execute_result"
    }
   ],
   "source": [
    "temp = pd.Series([-20,-10,10,20], index=['Jan','Feb','Mar','Apr'] )\n",
    "temp"
   ],
   "metadata": {
    "collapsed": false
   }
  },
  {
   "cell_type": "code",
   "execution_count": 7,
   "outputs": [
    {
     "data": {
      "text/plain": "-20"
     },
     "execution_count": 7,
     "metadata": {},
     "output_type": "execute_result"
    }
   ],
   "source": [
    "temp['Jan']"
   ],
   "metadata": {
    "collapsed": false
   }
  },
  {
   "cell_type": "code",
   "execution_count": 8,
   "outputs": [
    {
     "ename": "SyntaxError",
     "evalue": "invalid syntax (3105766256.py, line 2)",
     "output_type": "error",
     "traceback": [
      "\u001B[0;36m  File \u001B[0;32m\"/var/folders/r4/h5tmjmlj1wj54cmxzmf66mw40000gn/T/ipykernel_49164/3105766256.py\"\u001B[0;36m, line \u001B[0;32m2\u001B[0m\n\u001B[0;31m    2차원 데이터\u001B[0m\n\u001B[0m     ^\u001B[0m\n\u001B[0;31mSyntaxError\u001B[0m\u001B[0;31m:\u001B[0m invalid syntax\n"
     ]
    }
   ],
   "source": [
    "#dataFrame 2차원 데이터"
   ],
   "metadata": {
    "collapsed": false
   }
  },
  {
   "cell_type": "code",
   "execution_count": 9,
   "outputs": [
    {
     "data": {
      "text/plain": "{'이름': ['채치수', '정대만', '송태섭', '서태웅', '강백호', '변덕규', '황태산', '윤대협'],\n '학교': ['북산고', '북산고', '북산고', '북산고', '북산고', '능남고', '능남고', '능남고'],\n '키': [197, 184, 168, 187, 188, 202, 188, 190],\n '국어': [90, 40, 80, 40, 15, 80, 55, 100],\n '영어': [85, 35, 75, 60, 20, 100, 65, 85],\n '수학': [100, 50, 70, 70, 10, 95, 45, 90],\n '과학': [95, 55, 80, 75, 35, 85, 40, 95],\n '사회': [85, 25, 75, 80, 10, 80, 35, 95],\n 'SW특기': ['Python', 'Java', 'Javascript', '', '', 'C', 'PYTHON', 'C#']}"
     },
     "execution_count": 9,
     "metadata": {},
     "output_type": "execute_result"
    }
   ],
   "source": [
    "data={\n",
    "    '이름' : ['채치수','정대만','송태섭','서태웅','강백호','변덕규','황태산','윤대협'],\n",
    "    '학교' : ['북산고', '북산고', '북산고', '북산고', '북산고', '능남고', '능남고', '능남고'],\n",
    "    '키' : [197, 184, 168, 187, 188, 202, 188, 190],\n",
    "    '국어' : [90, 40, 80, 40, 15, 80, 55, 100],\n",
    "    '영어' : [85, 35, 75, 60, 20, 100, 65, 85],\n",
    "    '수학' : [100, 50, 70, 70, 10, 95, 45, 90],\n",
    "    '과학' : [95, 55, 80, 75, 35, 85, 40, 95],\n",
    "    '사회' : [85, 25, 75, 80, 10, 80, 35, 95],\n",
    "    'SW특기' : ['Python', 'Java', 'Javascript', '', '', 'C', 'PYTHON', 'C#']\n",
    "}\n",
    "data"
   ],
   "metadata": {
    "collapsed": false
   }
  },
  {
   "cell_type": "code",
   "execution_count": 10,
   "outputs": [
    {
     "data": {
      "text/plain": "['채치수', '정대만', '송태섭', '서태웅', '강백호', '변덕규', '황태산', '윤대협']"
     },
     "execution_count": 10,
     "metadata": {},
     "output_type": "execute_result"
    }
   ],
   "source": [
    "data['이름']"
   ],
   "metadata": {
    "collapsed": false
   }
  },
  {
   "cell_type": "code",
   "execution_count": 11,
   "outputs": [
    {
     "data": {
      "text/plain": "[197, 184, 168, 187, 188, 202, 188, 190]"
     },
     "execution_count": 11,
     "metadata": {},
     "output_type": "execute_result"
    }
   ],
   "source": [
    "data['키']"
   ],
   "metadata": {
    "collapsed": false
   }
  },
  {
   "cell_type": "code",
   "execution_count": 12,
   "outputs": [],
   "source": [
    "df = pd.DataFrame(data)"
   ],
   "metadata": {
    "collapsed": false
   }
  },
  {
   "cell_type": "code",
   "execution_count": 13,
   "outputs": [
    {
     "data": {
      "text/plain": "    이름   학교    키   국어   영어   수학  과학  사회        SW특기\n0  채치수  북산고  197   90   85  100  95  85      Python\n1  정대만  북산고  184   40   35   50  55  25        Java\n2  송태섭  북산고  168   80   75   70  80  75  Javascript\n3  서태웅  북산고  187   40   60   70  75  80            \n4  강백호  북산고  188   15   20   10  35  10            \n5  변덕규  능남고  202   80  100   95  85  80           C\n6  황태산  능남고  188   55   65   45  40  35      PYTHON\n7  윤대협  능남고  190  100   85   90  95  95          C#",
      "text/html": "<div>\n<style scoped>\n    .dataframe tbody tr th:only-of-type {\n        vertical-align: middle;\n    }\n\n    .dataframe tbody tr th {\n        vertical-align: top;\n    }\n\n    .dataframe thead th {\n        text-align: right;\n    }\n</style>\n<table border=\"1\" class=\"dataframe\">\n  <thead>\n    <tr style=\"text-align: right;\">\n      <th></th>\n      <th>이름</th>\n      <th>학교</th>\n      <th>키</th>\n      <th>국어</th>\n      <th>영어</th>\n      <th>수학</th>\n      <th>과학</th>\n      <th>사회</th>\n      <th>SW특기</th>\n    </tr>\n  </thead>\n  <tbody>\n    <tr>\n      <th>0</th>\n      <td>채치수</td>\n      <td>북산고</td>\n      <td>197</td>\n      <td>90</td>\n      <td>85</td>\n      <td>100</td>\n      <td>95</td>\n      <td>85</td>\n      <td>Python</td>\n    </tr>\n    <tr>\n      <th>1</th>\n      <td>정대만</td>\n      <td>북산고</td>\n      <td>184</td>\n      <td>40</td>\n      <td>35</td>\n      <td>50</td>\n      <td>55</td>\n      <td>25</td>\n      <td>Java</td>\n    </tr>\n    <tr>\n      <th>2</th>\n      <td>송태섭</td>\n      <td>북산고</td>\n      <td>168</td>\n      <td>80</td>\n      <td>75</td>\n      <td>70</td>\n      <td>80</td>\n      <td>75</td>\n      <td>Javascript</td>\n    </tr>\n    <tr>\n      <th>3</th>\n      <td>서태웅</td>\n      <td>북산고</td>\n      <td>187</td>\n      <td>40</td>\n      <td>60</td>\n      <td>70</td>\n      <td>75</td>\n      <td>80</td>\n      <td></td>\n    </tr>\n    <tr>\n      <th>4</th>\n      <td>강백호</td>\n      <td>북산고</td>\n      <td>188</td>\n      <td>15</td>\n      <td>20</td>\n      <td>10</td>\n      <td>35</td>\n      <td>10</td>\n      <td></td>\n    </tr>\n    <tr>\n      <th>5</th>\n      <td>변덕규</td>\n      <td>능남고</td>\n      <td>202</td>\n      <td>80</td>\n      <td>100</td>\n      <td>95</td>\n      <td>85</td>\n      <td>80</td>\n      <td>C</td>\n    </tr>\n    <tr>\n      <th>6</th>\n      <td>황태산</td>\n      <td>능남고</td>\n      <td>188</td>\n      <td>55</td>\n      <td>65</td>\n      <td>45</td>\n      <td>40</td>\n      <td>35</td>\n      <td>PYTHON</td>\n    </tr>\n    <tr>\n      <th>7</th>\n      <td>윤대협</td>\n      <td>능남고</td>\n      <td>190</td>\n      <td>100</td>\n      <td>85</td>\n      <td>90</td>\n      <td>95</td>\n      <td>95</td>\n      <td>C#</td>\n    </tr>\n  </tbody>\n</table>\n</div>"
     },
     "execution_count": 13,
     "metadata": {},
     "output_type": "execute_result"
    }
   ],
   "source": [
    "df"
   ],
   "metadata": {
    "collapsed": false
   }
  },
  {
   "cell_type": "markdown",
   "source": [
    "##데이터 접근"
   ],
   "metadata": {
    "collapsed": false
   }
  },
  {
   "cell_type": "code",
   "execution_count": 14,
   "outputs": [
    {
     "data": {
      "text/plain": "0    채치수\n1    정대만\n2    송태섭\n3    서태웅\n4    강백호\n5    변덕규\n6    황태산\n7    윤대협\nName: 이름, dtype: object"
     },
     "execution_count": 14,
     "metadata": {},
     "output_type": "execute_result"
    }
   ],
   "source": [
    "df['이름']"
   ],
   "metadata": {
    "collapsed": false
   }
  },
  {
   "cell_type": "code",
   "execution_count": 15,
   "outputs": [
    {
     "data": {
      "text/plain": "0    197\n1    184\n2    168\n3    187\n4    188\n5    202\n6    188\n7    190\nName: 키, dtype: int64"
     },
     "execution_count": 15,
     "metadata": {},
     "output_type": "execute_result"
    }
   ],
   "source": [
    "df['키']"
   ],
   "metadata": {
    "collapsed": false
   }
  },
  {
   "cell_type": "code",
   "execution_count": 16,
   "outputs": [
    {
     "data": {
      "text/plain": "    이름    키\n0  채치수  197\n1  정대만  184\n2  송태섭  168\n3  서태웅  187\n4  강백호  188\n5  변덕규  202\n6  황태산  188\n7  윤대협  190",
      "text/html": "<div>\n<style scoped>\n    .dataframe tbody tr th:only-of-type {\n        vertical-align: middle;\n    }\n\n    .dataframe tbody tr th {\n        vertical-align: top;\n    }\n\n    .dataframe thead th {\n        text-align: right;\n    }\n</style>\n<table border=\"1\" class=\"dataframe\">\n  <thead>\n    <tr style=\"text-align: right;\">\n      <th></th>\n      <th>이름</th>\n      <th>키</th>\n    </tr>\n  </thead>\n  <tbody>\n    <tr>\n      <th>0</th>\n      <td>채치수</td>\n      <td>197</td>\n    </tr>\n    <tr>\n      <th>1</th>\n      <td>정대만</td>\n      <td>184</td>\n    </tr>\n    <tr>\n      <th>2</th>\n      <td>송태섭</td>\n      <td>168</td>\n    </tr>\n    <tr>\n      <th>3</th>\n      <td>서태웅</td>\n      <td>187</td>\n    </tr>\n    <tr>\n      <th>4</th>\n      <td>강백호</td>\n      <td>188</td>\n    </tr>\n    <tr>\n      <th>5</th>\n      <td>변덕규</td>\n      <td>202</td>\n    </tr>\n    <tr>\n      <th>6</th>\n      <td>황태산</td>\n      <td>188</td>\n    </tr>\n    <tr>\n      <th>7</th>\n      <td>윤대협</td>\n      <td>190</td>\n    </tr>\n  </tbody>\n</table>\n</div>"
     },
     "execution_count": 16,
     "metadata": {},
     "output_type": "execute_result"
    }
   ],
   "source": [
    "df[['이름','키']]"
   ],
   "metadata": {
    "collapsed": false
   }
  },
  {
   "cell_type": "markdown",
   "source": [
    "##dataFrame 객체 생성(index지정)"
   ],
   "metadata": {
    "collapsed": false
   }
  },
  {
   "cell_type": "markdown",
   "source": [],
   "metadata": {
    "collapsed": false
   }
  },
  {
   "cell_type": "code",
   "execution_count": 17,
   "outputs": [],
   "source": [
    "df = pd.DataFrame(data, index=['1번','2번','3번','4번','5번','6번','7번','8번'])"
   ],
   "metadata": {
    "collapsed": false
   }
  },
  {
   "cell_type": "code",
   "execution_count": 18,
   "outputs": [],
   "source": [
    "df?"
   ],
   "metadata": {
    "collapsed": false
   }
  },
  {
   "cell_type": "code",
   "execution_count": 19,
   "outputs": [
    {
     "data": {
      "text/plain": "     이름   학교    키   국어   영어   수학  과학  사회        SW특기\n1번  채치수  북산고  197   90   85  100  95  85      Python\n2번  정대만  북산고  184   40   35   50  55  25        Java\n3번  송태섭  북산고  168   80   75   70  80  75  Javascript\n4번  서태웅  북산고  187   40   60   70  75  80            \n5번  강백호  북산고  188   15   20   10  35  10            \n6번  변덕규  능남고  202   80  100   95  85  80           C\n7번  황태산  능남고  188   55   65   45  40  35      PYTHON\n8번  윤대협  능남고  190  100   85   90  95  95          C#",
      "text/html": "<div>\n<style scoped>\n    .dataframe tbody tr th:only-of-type {\n        vertical-align: middle;\n    }\n\n    .dataframe tbody tr th {\n        vertical-align: top;\n    }\n\n    .dataframe thead th {\n        text-align: right;\n    }\n</style>\n<table border=\"1\" class=\"dataframe\">\n  <thead>\n    <tr style=\"text-align: right;\">\n      <th></th>\n      <th>이름</th>\n      <th>학교</th>\n      <th>키</th>\n      <th>국어</th>\n      <th>영어</th>\n      <th>수학</th>\n      <th>과학</th>\n      <th>사회</th>\n      <th>SW특기</th>\n    </tr>\n  </thead>\n  <tbody>\n    <tr>\n      <th>1번</th>\n      <td>채치수</td>\n      <td>북산고</td>\n      <td>197</td>\n      <td>90</td>\n      <td>85</td>\n      <td>100</td>\n      <td>95</td>\n      <td>85</td>\n      <td>Python</td>\n    </tr>\n    <tr>\n      <th>2번</th>\n      <td>정대만</td>\n      <td>북산고</td>\n      <td>184</td>\n      <td>40</td>\n      <td>35</td>\n      <td>50</td>\n      <td>55</td>\n      <td>25</td>\n      <td>Java</td>\n    </tr>\n    <tr>\n      <th>3번</th>\n      <td>송태섭</td>\n      <td>북산고</td>\n      <td>168</td>\n      <td>80</td>\n      <td>75</td>\n      <td>70</td>\n      <td>80</td>\n      <td>75</td>\n      <td>Javascript</td>\n    </tr>\n    <tr>\n      <th>4번</th>\n      <td>서태웅</td>\n      <td>북산고</td>\n      <td>187</td>\n      <td>40</td>\n      <td>60</td>\n      <td>70</td>\n      <td>75</td>\n      <td>80</td>\n      <td></td>\n    </tr>\n    <tr>\n      <th>5번</th>\n      <td>강백호</td>\n      <td>북산고</td>\n      <td>188</td>\n      <td>15</td>\n      <td>20</td>\n      <td>10</td>\n      <td>35</td>\n      <td>10</td>\n      <td></td>\n    </tr>\n    <tr>\n      <th>6번</th>\n      <td>변덕규</td>\n      <td>능남고</td>\n      <td>202</td>\n      <td>80</td>\n      <td>100</td>\n      <td>95</td>\n      <td>85</td>\n      <td>80</td>\n      <td>C</td>\n    </tr>\n    <tr>\n      <th>7번</th>\n      <td>황태산</td>\n      <td>능남고</td>\n      <td>188</td>\n      <td>55</td>\n      <td>65</td>\n      <td>45</td>\n      <td>40</td>\n      <td>35</td>\n      <td>PYTHON</td>\n    </tr>\n    <tr>\n      <th>8번</th>\n      <td>윤대협</td>\n      <td>능남고</td>\n      <td>190</td>\n      <td>100</td>\n      <td>85</td>\n      <td>90</td>\n      <td>95</td>\n      <td>95</td>\n      <td>C#</td>\n    </tr>\n  </tbody>\n</table>\n</div>"
     },
     "execution_count": 19,
     "metadata": {},
     "output_type": "execute_result"
    }
   ],
   "source": [
    "df"
   ],
   "metadata": {
    "collapsed": false
   }
  },
  {
   "cell_type": "code",
   "execution_count": 22,
   "outputs": [],
   "source": [
    "df=pd.DataFrame(data, columns=['이름','학교','키'])"
   ],
   "metadata": {
    "collapsed": false
   }
  },
  {
   "cell_type": "code",
   "execution_count": 23,
   "outputs": [
    {
     "data": {
      "text/plain": "    이름   학교    키\n0  채치수  북산고  197\n1  정대만  북산고  184\n2  송태섭  북산고  168\n3  서태웅  북산고  187\n4  강백호  북산고  188\n5  변덕규  능남고  202\n6  황태산  능남고  188\n7  윤대협  능남고  190",
      "text/html": "<div>\n<style scoped>\n    .dataframe tbody tr th:only-of-type {\n        vertical-align: middle;\n    }\n\n    .dataframe tbody tr th {\n        vertical-align: top;\n    }\n\n    .dataframe thead th {\n        text-align: right;\n    }\n</style>\n<table border=\"1\" class=\"dataframe\">\n  <thead>\n    <tr style=\"text-align: right;\">\n      <th></th>\n      <th>이름</th>\n      <th>학교</th>\n      <th>키</th>\n    </tr>\n  </thead>\n  <tbody>\n    <tr>\n      <th>0</th>\n      <td>채치수</td>\n      <td>북산고</td>\n      <td>197</td>\n    </tr>\n    <tr>\n      <th>1</th>\n      <td>정대만</td>\n      <td>북산고</td>\n      <td>184</td>\n    </tr>\n    <tr>\n      <th>2</th>\n      <td>송태섭</td>\n      <td>북산고</td>\n      <td>168</td>\n    </tr>\n    <tr>\n      <th>3</th>\n      <td>서태웅</td>\n      <td>북산고</td>\n      <td>187</td>\n    </tr>\n    <tr>\n      <th>4</th>\n      <td>강백호</td>\n      <td>북산고</td>\n      <td>188</td>\n    </tr>\n    <tr>\n      <th>5</th>\n      <td>변덕규</td>\n      <td>능남고</td>\n      <td>202</td>\n    </tr>\n    <tr>\n      <th>6</th>\n      <td>황태산</td>\n      <td>능남고</td>\n      <td>188</td>\n    </tr>\n    <tr>\n      <th>7</th>\n      <td>윤대협</td>\n      <td>능남고</td>\n      <td>190</td>\n    </tr>\n  </tbody>\n</table>\n</div>"
     },
     "execution_count": 23,
     "metadata": {},
     "output_type": "execute_result"
    }
   ],
   "source": [
    "df"
   ],
   "metadata": {
    "collapsed": false
   }
  },
  {
   "cell_type": "code",
   "execution_count": 24,
   "outputs": [
    {
     "data": {
      "text/plain": "'유재석'"
     },
     "execution_count": 24,
     "metadata": {},
     "output_type": "execute_result"
    }
   ],
   "source": [
    "lst=['유재석','하하']\n",
    "lst[0]"
   ],
   "metadata": {
    "collapsed": false
   }
  },
  {
   "cell_type": "code",
   "execution_count": 25,
   "outputs": [
    {
     "data": {
      "text/plain": "     이름   학교    키   국어   영어   수학  과학  사회        SW특기\n1번  채치수  북산고  197   90   85  100  95  85      Python\n2번  정대만  북산고  184   40   35   50  55  25        Java\n3번  송태섭  북산고  168   80   75   70  80  75  Javascript\n4번  서태웅  북산고  187   40   60   70  75  80            \n5번  강백호  북산고  188   15   20   10  35  10            \n6번  변덕규  능남고  202   80  100   95  85  80           C\n7번  황태산  능남고  188   55   65   45  40  35      PYTHON\n8번  윤대협  능남고  190  100   85   90  95  95          C#",
      "text/html": "<div>\n<style scoped>\n    .dataframe tbody tr th:only-of-type {\n        vertical-align: middle;\n    }\n\n    .dataframe tbody tr th {\n        vertical-align: top;\n    }\n\n    .dataframe thead th {\n        text-align: right;\n    }\n</style>\n<table border=\"1\" class=\"dataframe\">\n  <thead>\n    <tr style=\"text-align: right;\">\n      <th></th>\n      <th>이름</th>\n      <th>학교</th>\n      <th>키</th>\n      <th>국어</th>\n      <th>영어</th>\n      <th>수학</th>\n      <th>과학</th>\n      <th>사회</th>\n      <th>SW특기</th>\n    </tr>\n  </thead>\n  <tbody>\n    <tr>\n      <th>1번</th>\n      <td>채치수</td>\n      <td>북산고</td>\n      <td>197</td>\n      <td>90</td>\n      <td>85</td>\n      <td>100</td>\n      <td>95</td>\n      <td>85</td>\n      <td>Python</td>\n    </tr>\n    <tr>\n      <th>2번</th>\n      <td>정대만</td>\n      <td>북산고</td>\n      <td>184</td>\n      <td>40</td>\n      <td>35</td>\n      <td>50</td>\n      <td>55</td>\n      <td>25</td>\n      <td>Java</td>\n    </tr>\n    <tr>\n      <th>3번</th>\n      <td>송태섭</td>\n      <td>북산고</td>\n      <td>168</td>\n      <td>80</td>\n      <td>75</td>\n      <td>70</td>\n      <td>80</td>\n      <td>75</td>\n      <td>Javascript</td>\n    </tr>\n    <tr>\n      <th>4번</th>\n      <td>서태웅</td>\n      <td>북산고</td>\n      <td>187</td>\n      <td>40</td>\n      <td>60</td>\n      <td>70</td>\n      <td>75</td>\n      <td>80</td>\n      <td></td>\n    </tr>\n    <tr>\n      <th>5번</th>\n      <td>강백호</td>\n      <td>북산고</td>\n      <td>188</td>\n      <td>15</td>\n      <td>20</td>\n      <td>10</td>\n      <td>35</td>\n      <td>10</td>\n      <td></td>\n    </tr>\n    <tr>\n      <th>6번</th>\n      <td>변덕규</td>\n      <td>능남고</td>\n      <td>202</td>\n      <td>80</td>\n      <td>100</td>\n      <td>95</td>\n      <td>85</td>\n      <td>80</td>\n      <td>C</td>\n    </tr>\n    <tr>\n      <th>7번</th>\n      <td>황태산</td>\n      <td>능남고</td>\n      <td>188</td>\n      <td>55</td>\n      <td>65</td>\n      <td>45</td>\n      <td>40</td>\n      <td>35</td>\n      <td>PYTHON</td>\n    </tr>\n    <tr>\n      <th>8번</th>\n      <td>윤대협</td>\n      <td>능남고</td>\n      <td>190</td>\n      <td>100</td>\n      <td>85</td>\n      <td>90</td>\n      <td>95</td>\n      <td>95</td>\n      <td>C#</td>\n    </tr>\n  </tbody>\n</table>\n</div>"
     },
     "execution_count": 25,
     "metadata": {},
     "output_type": "execute_result"
    }
   ],
   "source": [
    "df = pd.DataFrame(data, index=['1번','2번','3번','4번','5번','6번','7번','8번'])\n",
    "df"
   ],
   "metadata": {
    "collapsed": false
   }
  },
  {
   "cell_type": "code",
   "execution_count": 26,
   "outputs": [
    {
     "data": {
      "text/plain": "Index(['1번', '2번', '3번', '4번', '5번', '6번', '7번', '8번'], dtype='object')"
     },
     "execution_count": 26,
     "metadata": {},
     "output_type": "execute_result"
    }
   ],
   "source": [
    "df.index"
   ],
   "metadata": {
    "collapsed": false
   }
  },
  {
   "cell_type": "code",
   "execution_count": 27,
   "outputs": [
    {
     "data": {
      "text/plain": "       이름   학교    키   국어   영어   수학  과학  사회        SW특기\n지원번호                                                  \n1번    채치수  북산고  197   90   85  100  95  85      Python\n2번    정대만  북산고  184   40   35   50  55  25        Java\n3번    송태섭  북산고  168   80   75   70  80  75  Javascript\n4번    서태웅  북산고  187   40   60   70  75  80            \n5번    강백호  북산고  188   15   20   10  35  10            \n6번    변덕규  능남고  202   80  100   95  85  80           C\n7번    황태산  능남고  188   55   65   45  40  35      PYTHON\n8번    윤대협  능남고  190  100   85   90  95  95          C#",
      "text/html": "<div>\n<style scoped>\n    .dataframe tbody tr th:only-of-type {\n        vertical-align: middle;\n    }\n\n    .dataframe tbody tr th {\n        vertical-align: top;\n    }\n\n    .dataframe thead th {\n        text-align: right;\n    }\n</style>\n<table border=\"1\" class=\"dataframe\">\n  <thead>\n    <tr style=\"text-align: right;\">\n      <th></th>\n      <th>이름</th>\n      <th>학교</th>\n      <th>키</th>\n      <th>국어</th>\n      <th>영어</th>\n      <th>수학</th>\n      <th>과학</th>\n      <th>사회</th>\n      <th>SW특기</th>\n    </tr>\n    <tr>\n      <th>지원번호</th>\n      <th></th>\n      <th></th>\n      <th></th>\n      <th></th>\n      <th></th>\n      <th></th>\n      <th></th>\n      <th></th>\n      <th></th>\n    </tr>\n  </thead>\n  <tbody>\n    <tr>\n      <th>1번</th>\n      <td>채치수</td>\n      <td>북산고</td>\n      <td>197</td>\n      <td>90</td>\n      <td>85</td>\n      <td>100</td>\n      <td>95</td>\n      <td>85</td>\n      <td>Python</td>\n    </tr>\n    <tr>\n      <th>2번</th>\n      <td>정대만</td>\n      <td>북산고</td>\n      <td>184</td>\n      <td>40</td>\n      <td>35</td>\n      <td>50</td>\n      <td>55</td>\n      <td>25</td>\n      <td>Java</td>\n    </tr>\n    <tr>\n      <th>3번</th>\n      <td>송태섭</td>\n      <td>북산고</td>\n      <td>168</td>\n      <td>80</td>\n      <td>75</td>\n      <td>70</td>\n      <td>80</td>\n      <td>75</td>\n      <td>Javascript</td>\n    </tr>\n    <tr>\n      <th>4번</th>\n      <td>서태웅</td>\n      <td>북산고</td>\n      <td>187</td>\n      <td>40</td>\n      <td>60</td>\n      <td>70</td>\n      <td>75</td>\n      <td>80</td>\n      <td></td>\n    </tr>\n    <tr>\n      <th>5번</th>\n      <td>강백호</td>\n      <td>북산고</td>\n      <td>188</td>\n      <td>15</td>\n      <td>20</td>\n      <td>10</td>\n      <td>35</td>\n      <td>10</td>\n      <td></td>\n    </tr>\n    <tr>\n      <th>6번</th>\n      <td>변덕규</td>\n      <td>능남고</td>\n      <td>202</td>\n      <td>80</td>\n      <td>100</td>\n      <td>95</td>\n      <td>85</td>\n      <td>80</td>\n      <td>C</td>\n    </tr>\n    <tr>\n      <th>7번</th>\n      <td>황태산</td>\n      <td>능남고</td>\n      <td>188</td>\n      <td>55</td>\n      <td>65</td>\n      <td>45</td>\n      <td>40</td>\n      <td>35</td>\n      <td>PYTHON</td>\n    </tr>\n    <tr>\n      <th>8번</th>\n      <td>윤대협</td>\n      <td>능남고</td>\n      <td>190</td>\n      <td>100</td>\n      <td>85</td>\n      <td>90</td>\n      <td>95</td>\n      <td>95</td>\n      <td>C#</td>\n    </tr>\n  </tbody>\n</table>\n</div>"
     },
     "execution_count": 27,
     "metadata": {},
     "output_type": "execute_result"
    }
   ],
   "source": [
    "df.index.name='지원번호'\n",
    "df"
   ],
   "metadata": {
    "collapsed": false
   }
  },
  {
   "cell_type": "code",
   "execution_count": 28,
   "outputs": [
    {
     "data": {
      "text/plain": "  지원번호   이름   학교    키   국어   영어   수학  과학  사회        SW특기\n0   1번  채치수  북산고  197   90   85  100  95  85      Python\n1   2번  정대만  북산고  184   40   35   50  55  25        Java\n2   3번  송태섭  북산고  168   80   75   70  80  75  Javascript\n3   4번  서태웅  북산고  187   40   60   70  75  80            \n4   5번  강백호  북산고  188   15   20   10  35  10            \n5   6번  변덕규  능남고  202   80  100   95  85  80           C\n6   7번  황태산  능남고  188   55   65   45  40  35      PYTHON\n7   8번  윤대협  능남고  190  100   85   90  95  95          C#",
      "text/html": "<div>\n<style scoped>\n    .dataframe tbody tr th:only-of-type {\n        vertical-align: middle;\n    }\n\n    .dataframe tbody tr th {\n        vertical-align: top;\n    }\n\n    .dataframe thead th {\n        text-align: right;\n    }\n</style>\n<table border=\"1\" class=\"dataframe\">\n  <thead>\n    <tr style=\"text-align: right;\">\n      <th></th>\n      <th>지원번호</th>\n      <th>이름</th>\n      <th>학교</th>\n      <th>키</th>\n      <th>국어</th>\n      <th>영어</th>\n      <th>수학</th>\n      <th>과학</th>\n      <th>사회</th>\n      <th>SW특기</th>\n    </tr>\n  </thead>\n  <tbody>\n    <tr>\n      <th>0</th>\n      <td>1번</td>\n      <td>채치수</td>\n      <td>북산고</td>\n      <td>197</td>\n      <td>90</td>\n      <td>85</td>\n      <td>100</td>\n      <td>95</td>\n      <td>85</td>\n      <td>Python</td>\n    </tr>\n    <tr>\n      <th>1</th>\n      <td>2번</td>\n      <td>정대만</td>\n      <td>북산고</td>\n      <td>184</td>\n      <td>40</td>\n      <td>35</td>\n      <td>50</td>\n      <td>55</td>\n      <td>25</td>\n      <td>Java</td>\n    </tr>\n    <tr>\n      <th>2</th>\n      <td>3번</td>\n      <td>송태섭</td>\n      <td>북산고</td>\n      <td>168</td>\n      <td>80</td>\n      <td>75</td>\n      <td>70</td>\n      <td>80</td>\n      <td>75</td>\n      <td>Javascript</td>\n    </tr>\n    <tr>\n      <th>3</th>\n      <td>4번</td>\n      <td>서태웅</td>\n      <td>북산고</td>\n      <td>187</td>\n      <td>40</td>\n      <td>60</td>\n      <td>70</td>\n      <td>75</td>\n      <td>80</td>\n      <td></td>\n    </tr>\n    <tr>\n      <th>4</th>\n      <td>5번</td>\n      <td>강백호</td>\n      <td>북산고</td>\n      <td>188</td>\n      <td>15</td>\n      <td>20</td>\n      <td>10</td>\n      <td>35</td>\n      <td>10</td>\n      <td></td>\n    </tr>\n    <tr>\n      <th>5</th>\n      <td>6번</td>\n      <td>변덕규</td>\n      <td>능남고</td>\n      <td>202</td>\n      <td>80</td>\n      <td>100</td>\n      <td>95</td>\n      <td>85</td>\n      <td>80</td>\n      <td>C</td>\n    </tr>\n    <tr>\n      <th>6</th>\n      <td>7번</td>\n      <td>황태산</td>\n      <td>능남고</td>\n      <td>188</td>\n      <td>55</td>\n      <td>65</td>\n      <td>45</td>\n      <td>40</td>\n      <td>35</td>\n      <td>PYTHON</td>\n    </tr>\n    <tr>\n      <th>7</th>\n      <td>8번</td>\n      <td>윤대협</td>\n      <td>능남고</td>\n      <td>190</td>\n      <td>100</td>\n      <td>85</td>\n      <td>90</td>\n      <td>95</td>\n      <td>95</td>\n      <td>C#</td>\n    </tr>\n  </tbody>\n</table>\n</div>"
     },
     "execution_count": 28,
     "metadata": {},
     "output_type": "execute_result"
    }
   ],
   "source": [
    "df.reset_index()"
   ],
   "metadata": {
    "collapsed": false
   }
  },
  {
   "cell_type": "code",
   "execution_count": 29,
   "outputs": [
    {
     "data": {
      "text/plain": "    이름   학교    키   국어   영어   수학  과학  사회        SW특기\n0  채치수  북산고  197   90   85  100  95  85      Python\n1  정대만  북산고  184   40   35   50  55  25        Java\n2  송태섭  북산고  168   80   75   70  80  75  Javascript\n3  서태웅  북산고  187   40   60   70  75  80            \n4  강백호  북산고  188   15   20   10  35  10            \n5  변덕규  능남고  202   80  100   95  85  80           C\n6  황태산  능남고  188   55   65   45  40  35      PYTHON\n7  윤대협  능남고  190  100   85   90  95  95          C#",
      "text/html": "<div>\n<style scoped>\n    .dataframe tbody tr th:only-of-type {\n        vertical-align: middle;\n    }\n\n    .dataframe tbody tr th {\n        vertical-align: top;\n    }\n\n    .dataframe thead th {\n        text-align: right;\n    }\n</style>\n<table border=\"1\" class=\"dataframe\">\n  <thead>\n    <tr style=\"text-align: right;\">\n      <th></th>\n      <th>이름</th>\n      <th>학교</th>\n      <th>키</th>\n      <th>국어</th>\n      <th>영어</th>\n      <th>수학</th>\n      <th>과학</th>\n      <th>사회</th>\n      <th>SW특기</th>\n    </tr>\n  </thead>\n  <tbody>\n    <tr>\n      <th>0</th>\n      <td>채치수</td>\n      <td>북산고</td>\n      <td>197</td>\n      <td>90</td>\n      <td>85</td>\n      <td>100</td>\n      <td>95</td>\n      <td>85</td>\n      <td>Python</td>\n    </tr>\n    <tr>\n      <th>1</th>\n      <td>정대만</td>\n      <td>북산고</td>\n      <td>184</td>\n      <td>40</td>\n      <td>35</td>\n      <td>50</td>\n      <td>55</td>\n      <td>25</td>\n      <td>Java</td>\n    </tr>\n    <tr>\n      <th>2</th>\n      <td>송태섭</td>\n      <td>북산고</td>\n      <td>168</td>\n      <td>80</td>\n      <td>75</td>\n      <td>70</td>\n      <td>80</td>\n      <td>75</td>\n      <td>Javascript</td>\n    </tr>\n    <tr>\n      <th>3</th>\n      <td>서태웅</td>\n      <td>북산고</td>\n      <td>187</td>\n      <td>40</td>\n      <td>60</td>\n      <td>70</td>\n      <td>75</td>\n      <td>80</td>\n      <td></td>\n    </tr>\n    <tr>\n      <th>4</th>\n      <td>강백호</td>\n      <td>북산고</td>\n      <td>188</td>\n      <td>15</td>\n      <td>20</td>\n      <td>10</td>\n      <td>35</td>\n      <td>10</td>\n      <td></td>\n    </tr>\n    <tr>\n      <th>5</th>\n      <td>변덕규</td>\n      <td>능남고</td>\n      <td>202</td>\n      <td>80</td>\n      <td>100</td>\n      <td>95</td>\n      <td>85</td>\n      <td>80</td>\n      <td>C</td>\n    </tr>\n    <tr>\n      <th>6</th>\n      <td>황태산</td>\n      <td>능남고</td>\n      <td>188</td>\n      <td>55</td>\n      <td>65</td>\n      <td>45</td>\n      <td>40</td>\n      <td>35</td>\n      <td>PYTHON</td>\n    </tr>\n    <tr>\n      <th>7</th>\n      <td>윤대협</td>\n      <td>능남고</td>\n      <td>190</td>\n      <td>100</td>\n      <td>85</td>\n      <td>90</td>\n      <td>95</td>\n      <td>95</td>\n      <td>C#</td>\n    </tr>\n  </tbody>\n</table>\n</div>"
     },
     "execution_count": 29,
     "metadata": {},
     "output_type": "execute_result"
    }
   ],
   "source": [
    "df.reset_index(drop=True)"
   ],
   "metadata": {
    "collapsed": false
   }
  },
  {
   "cell_type": "code",
   "execution_count": 30,
   "outputs": [
    {
     "data": {
      "text/plain": "       이름   학교    키   국어   영어   수학  과학  사회        SW특기\n지원번호                                                  \n1번    채치수  북산고  197   90   85  100  95  85      Python\n2번    정대만  북산고  184   40   35   50  55  25        Java\n3번    송태섭  북산고  168   80   75   70  80  75  Javascript\n4번    서태웅  북산고  187   40   60   70  75  80            \n5번    강백호  북산고  188   15   20   10  35  10            \n6번    변덕규  능남고  202   80  100   95  85  80           C\n7번    황태산  능남고  188   55   65   45  40  35      PYTHON\n8번    윤대협  능남고  190  100   85   90  95  95          C#",
      "text/html": "<div>\n<style scoped>\n    .dataframe tbody tr th:only-of-type {\n        vertical-align: middle;\n    }\n\n    .dataframe tbody tr th {\n        vertical-align: top;\n    }\n\n    .dataframe thead th {\n        text-align: right;\n    }\n</style>\n<table border=\"1\" class=\"dataframe\">\n  <thead>\n    <tr style=\"text-align: right;\">\n      <th></th>\n      <th>이름</th>\n      <th>학교</th>\n      <th>키</th>\n      <th>국어</th>\n      <th>영어</th>\n      <th>수학</th>\n      <th>과학</th>\n      <th>사회</th>\n      <th>SW특기</th>\n    </tr>\n    <tr>\n      <th>지원번호</th>\n      <th></th>\n      <th></th>\n      <th></th>\n      <th></th>\n      <th></th>\n      <th></th>\n      <th></th>\n      <th></th>\n      <th></th>\n    </tr>\n  </thead>\n  <tbody>\n    <tr>\n      <th>1번</th>\n      <td>채치수</td>\n      <td>북산고</td>\n      <td>197</td>\n      <td>90</td>\n      <td>85</td>\n      <td>100</td>\n      <td>95</td>\n      <td>85</td>\n      <td>Python</td>\n    </tr>\n    <tr>\n      <th>2번</th>\n      <td>정대만</td>\n      <td>북산고</td>\n      <td>184</td>\n      <td>40</td>\n      <td>35</td>\n      <td>50</td>\n      <td>55</td>\n      <td>25</td>\n      <td>Java</td>\n    </tr>\n    <tr>\n      <th>3번</th>\n      <td>송태섭</td>\n      <td>북산고</td>\n      <td>168</td>\n      <td>80</td>\n      <td>75</td>\n      <td>70</td>\n      <td>80</td>\n      <td>75</td>\n      <td>Javascript</td>\n    </tr>\n    <tr>\n      <th>4번</th>\n      <td>서태웅</td>\n      <td>북산고</td>\n      <td>187</td>\n      <td>40</td>\n      <td>60</td>\n      <td>70</td>\n      <td>75</td>\n      <td>80</td>\n      <td></td>\n    </tr>\n    <tr>\n      <th>5번</th>\n      <td>강백호</td>\n      <td>북산고</td>\n      <td>188</td>\n      <td>15</td>\n      <td>20</td>\n      <td>10</td>\n      <td>35</td>\n      <td>10</td>\n      <td></td>\n    </tr>\n    <tr>\n      <th>6번</th>\n      <td>변덕규</td>\n      <td>능남고</td>\n      <td>202</td>\n      <td>80</td>\n      <td>100</td>\n      <td>95</td>\n      <td>85</td>\n      <td>80</td>\n      <td>C</td>\n    </tr>\n    <tr>\n      <th>7번</th>\n      <td>황태산</td>\n      <td>능남고</td>\n      <td>188</td>\n      <td>55</td>\n      <td>65</td>\n      <td>45</td>\n      <td>40</td>\n      <td>35</td>\n      <td>PYTHON</td>\n    </tr>\n    <tr>\n      <th>8번</th>\n      <td>윤대협</td>\n      <td>능남고</td>\n      <td>190</td>\n      <td>100</td>\n      <td>85</td>\n      <td>90</td>\n      <td>95</td>\n      <td>95</td>\n      <td>C#</td>\n    </tr>\n  </tbody>\n</table>\n</div>"
     },
     "execution_count": 30,
     "metadata": {},
     "output_type": "execute_result"
    }
   ],
   "source": [
    "df"
   ],
   "metadata": {
    "collapsed": false
   }
  },
  {
   "cell_type": "code",
   "execution_count": 31,
   "outputs": [],
   "source": [
    "df.reset_index(drop=True, inplace=True)"
   ],
   "metadata": {
    "collapsed": false
   }
  },
  {
   "cell_type": "code",
   "execution_count": 32,
   "outputs": [
    {
     "data": {
      "text/plain": "    이름   학교    키   국어   영어   수학  과학  사회        SW특기\n0  채치수  북산고  197   90   85  100  95  85      Python\n1  정대만  북산고  184   40   35   50  55  25        Java\n2  송태섭  북산고  168   80   75   70  80  75  Javascript\n3  서태웅  북산고  187   40   60   70  75  80            \n4  강백호  북산고  188   15   20   10  35  10            \n5  변덕규  능남고  202   80  100   95  85  80           C\n6  황태산  능남고  188   55   65   45  40  35      PYTHON\n7  윤대협  능남고  190  100   85   90  95  95          C#",
      "text/html": "<div>\n<style scoped>\n    .dataframe tbody tr th:only-of-type {\n        vertical-align: middle;\n    }\n\n    .dataframe tbody tr th {\n        vertical-align: top;\n    }\n\n    .dataframe thead th {\n        text-align: right;\n    }\n</style>\n<table border=\"1\" class=\"dataframe\">\n  <thead>\n    <tr style=\"text-align: right;\">\n      <th></th>\n      <th>이름</th>\n      <th>학교</th>\n      <th>키</th>\n      <th>국어</th>\n      <th>영어</th>\n      <th>수학</th>\n      <th>과학</th>\n      <th>사회</th>\n      <th>SW특기</th>\n    </tr>\n  </thead>\n  <tbody>\n    <tr>\n      <th>0</th>\n      <td>채치수</td>\n      <td>북산고</td>\n      <td>197</td>\n      <td>90</td>\n      <td>85</td>\n      <td>100</td>\n      <td>95</td>\n      <td>85</td>\n      <td>Python</td>\n    </tr>\n    <tr>\n      <th>1</th>\n      <td>정대만</td>\n      <td>북산고</td>\n      <td>184</td>\n      <td>40</td>\n      <td>35</td>\n      <td>50</td>\n      <td>55</td>\n      <td>25</td>\n      <td>Java</td>\n    </tr>\n    <tr>\n      <th>2</th>\n      <td>송태섭</td>\n      <td>북산고</td>\n      <td>168</td>\n      <td>80</td>\n      <td>75</td>\n      <td>70</td>\n      <td>80</td>\n      <td>75</td>\n      <td>Javascript</td>\n    </tr>\n    <tr>\n      <th>3</th>\n      <td>서태웅</td>\n      <td>북산고</td>\n      <td>187</td>\n      <td>40</td>\n      <td>60</td>\n      <td>70</td>\n      <td>75</td>\n      <td>80</td>\n      <td></td>\n    </tr>\n    <tr>\n      <th>4</th>\n      <td>강백호</td>\n      <td>북산고</td>\n      <td>188</td>\n      <td>15</td>\n      <td>20</td>\n      <td>10</td>\n      <td>35</td>\n      <td>10</td>\n      <td></td>\n    </tr>\n    <tr>\n      <th>5</th>\n      <td>변덕규</td>\n      <td>능남고</td>\n      <td>202</td>\n      <td>80</td>\n      <td>100</td>\n      <td>95</td>\n      <td>85</td>\n      <td>80</td>\n      <td>C</td>\n    </tr>\n    <tr>\n      <th>6</th>\n      <td>황태산</td>\n      <td>능남고</td>\n      <td>188</td>\n      <td>55</td>\n      <td>65</td>\n      <td>45</td>\n      <td>40</td>\n      <td>35</td>\n      <td>PYTHON</td>\n    </tr>\n    <tr>\n      <th>7</th>\n      <td>윤대협</td>\n      <td>능남고</td>\n      <td>190</td>\n      <td>100</td>\n      <td>85</td>\n      <td>90</td>\n      <td>95</td>\n      <td>95</td>\n      <td>C#</td>\n    </tr>\n  </tbody>\n</table>\n</div>"
     },
     "execution_count": 32,
     "metadata": {},
     "output_type": "execute_result"
    }
   ],
   "source": [
    "df"
   ],
   "metadata": {
    "collapsed": false
   }
  },
  {
   "cell_type": "code",
   "execution_count": 33,
   "outputs": [
    {
     "data": {
      "text/plain": "      학교    키   국어   영어   수학  과학  사회        SW특기\n이름                                              \n채치수  북산고  197   90   85  100  95  85      Python\n정대만  북산고  184   40   35   50  55  25        Java\n송태섭  북산고  168   80   75   70  80  75  Javascript\n서태웅  북산고  187   40   60   70  75  80            \n강백호  북산고  188   15   20   10  35  10            \n변덕규  능남고  202   80  100   95  85  80           C\n황태산  능남고  188   55   65   45  40  35      PYTHON\n윤대협  능남고  190  100   85   90  95  95          C#",
      "text/html": "<div>\n<style scoped>\n    .dataframe tbody tr th:only-of-type {\n        vertical-align: middle;\n    }\n\n    .dataframe tbody tr th {\n        vertical-align: top;\n    }\n\n    .dataframe thead th {\n        text-align: right;\n    }\n</style>\n<table border=\"1\" class=\"dataframe\">\n  <thead>\n    <tr style=\"text-align: right;\">\n      <th></th>\n      <th>학교</th>\n      <th>키</th>\n      <th>국어</th>\n      <th>영어</th>\n      <th>수학</th>\n      <th>과학</th>\n      <th>사회</th>\n      <th>SW특기</th>\n    </tr>\n    <tr>\n      <th>이름</th>\n      <th></th>\n      <th></th>\n      <th></th>\n      <th></th>\n      <th></th>\n      <th></th>\n      <th></th>\n      <th></th>\n    </tr>\n  </thead>\n  <tbody>\n    <tr>\n      <th>채치수</th>\n      <td>북산고</td>\n      <td>197</td>\n      <td>90</td>\n      <td>85</td>\n      <td>100</td>\n      <td>95</td>\n      <td>85</td>\n      <td>Python</td>\n    </tr>\n    <tr>\n      <th>정대만</th>\n      <td>북산고</td>\n      <td>184</td>\n      <td>40</td>\n      <td>35</td>\n      <td>50</td>\n      <td>55</td>\n      <td>25</td>\n      <td>Java</td>\n    </tr>\n    <tr>\n      <th>송태섭</th>\n      <td>북산고</td>\n      <td>168</td>\n      <td>80</td>\n      <td>75</td>\n      <td>70</td>\n      <td>80</td>\n      <td>75</td>\n      <td>Javascript</td>\n    </tr>\n    <tr>\n      <th>서태웅</th>\n      <td>북산고</td>\n      <td>187</td>\n      <td>40</td>\n      <td>60</td>\n      <td>70</td>\n      <td>75</td>\n      <td>80</td>\n      <td></td>\n    </tr>\n    <tr>\n      <th>강백호</th>\n      <td>북산고</td>\n      <td>188</td>\n      <td>15</td>\n      <td>20</td>\n      <td>10</td>\n      <td>35</td>\n      <td>10</td>\n      <td></td>\n    </tr>\n    <tr>\n      <th>변덕규</th>\n      <td>능남고</td>\n      <td>202</td>\n      <td>80</td>\n      <td>100</td>\n      <td>95</td>\n      <td>85</td>\n      <td>80</td>\n      <td>C</td>\n    </tr>\n    <tr>\n      <th>황태산</th>\n      <td>능남고</td>\n      <td>188</td>\n      <td>55</td>\n      <td>65</td>\n      <td>45</td>\n      <td>40</td>\n      <td>35</td>\n      <td>PYTHON</td>\n    </tr>\n    <tr>\n      <th>윤대협</th>\n      <td>능남고</td>\n      <td>190</td>\n      <td>100</td>\n      <td>85</td>\n      <td>90</td>\n      <td>95</td>\n      <td>95</td>\n      <td>C#</td>\n    </tr>\n  </tbody>\n</table>\n</div>"
     },
     "execution_count": 33,
     "metadata": {},
     "output_type": "execute_result"
    }
   ],
   "source": [
    "df.set_index('이름')"
   ],
   "metadata": {
    "collapsed": false
   }
  },
  {
   "cell_type": "code",
   "execution_count": 34,
   "outputs": [
    {
     "data": {
      "text/plain": "    이름   학교    키   국어   영어   수학  과학  사회        SW특기\n0  채치수  북산고  197   90   85  100  95  85      Python\n1  정대만  북산고  184   40   35   50  55  25        Java\n2  송태섭  북산고  168   80   75   70  80  75  Javascript\n3  서태웅  북산고  187   40   60   70  75  80            \n4  강백호  북산고  188   15   20   10  35  10            \n5  변덕규  능남고  202   80  100   95  85  80           C\n6  황태산  능남고  188   55   65   45  40  35      PYTHON\n7  윤대협  능남고  190  100   85   90  95  95          C#",
      "text/html": "<div>\n<style scoped>\n    .dataframe tbody tr th:only-of-type {\n        vertical-align: middle;\n    }\n\n    .dataframe tbody tr th {\n        vertical-align: top;\n    }\n\n    .dataframe thead th {\n        text-align: right;\n    }\n</style>\n<table border=\"1\" class=\"dataframe\">\n  <thead>\n    <tr style=\"text-align: right;\">\n      <th></th>\n      <th>이름</th>\n      <th>학교</th>\n      <th>키</th>\n      <th>국어</th>\n      <th>영어</th>\n      <th>수학</th>\n      <th>과학</th>\n      <th>사회</th>\n      <th>SW특기</th>\n    </tr>\n  </thead>\n  <tbody>\n    <tr>\n      <th>0</th>\n      <td>채치수</td>\n      <td>북산고</td>\n      <td>197</td>\n      <td>90</td>\n      <td>85</td>\n      <td>100</td>\n      <td>95</td>\n      <td>85</td>\n      <td>Python</td>\n    </tr>\n    <tr>\n      <th>1</th>\n      <td>정대만</td>\n      <td>북산고</td>\n      <td>184</td>\n      <td>40</td>\n      <td>35</td>\n      <td>50</td>\n      <td>55</td>\n      <td>25</td>\n      <td>Java</td>\n    </tr>\n    <tr>\n      <th>2</th>\n      <td>송태섭</td>\n      <td>북산고</td>\n      <td>168</td>\n      <td>80</td>\n      <td>75</td>\n      <td>70</td>\n      <td>80</td>\n      <td>75</td>\n      <td>Javascript</td>\n    </tr>\n    <tr>\n      <th>3</th>\n      <td>서태웅</td>\n      <td>북산고</td>\n      <td>187</td>\n      <td>40</td>\n      <td>60</td>\n      <td>70</td>\n      <td>75</td>\n      <td>80</td>\n      <td></td>\n    </tr>\n    <tr>\n      <th>4</th>\n      <td>강백호</td>\n      <td>북산고</td>\n      <td>188</td>\n      <td>15</td>\n      <td>20</td>\n      <td>10</td>\n      <td>35</td>\n      <td>10</td>\n      <td></td>\n    </tr>\n    <tr>\n      <th>5</th>\n      <td>변덕규</td>\n      <td>능남고</td>\n      <td>202</td>\n      <td>80</td>\n      <td>100</td>\n      <td>95</td>\n      <td>85</td>\n      <td>80</td>\n      <td>C</td>\n    </tr>\n    <tr>\n      <th>6</th>\n      <td>황태산</td>\n      <td>능남고</td>\n      <td>188</td>\n      <td>55</td>\n      <td>65</td>\n      <td>45</td>\n      <td>40</td>\n      <td>35</td>\n      <td>PYTHON</td>\n    </tr>\n    <tr>\n      <th>7</th>\n      <td>윤대협</td>\n      <td>능남고</td>\n      <td>190</td>\n      <td>100</td>\n      <td>85</td>\n      <td>90</td>\n      <td>95</td>\n      <td>95</td>\n      <td>C#</td>\n    </tr>\n  </tbody>\n</table>\n</div>"
     },
     "execution_count": 34,
     "metadata": {},
     "output_type": "execute_result"
    }
   ],
   "source": [
    "df"
   ],
   "metadata": {
    "collapsed": false
   }
  },
  {
   "cell_type": "code",
   "execution_count": 35,
   "outputs": [
    {
     "ename": "TypeError",
     "evalue": "set_index() missing 1 required positional argument: 'keys'",
     "output_type": "error",
     "traceback": [
      "\u001B[0;31m---------------------------------------------------------------------------\u001B[0m",
      "\u001B[0;31mTypeError\u001B[0m                                 Traceback (most recent call last)",
      "\u001B[0;32m/var/folders/r4/h5tmjmlj1wj54cmxzmf66mw40000gn/T/ipykernel_49164/3560659365.py\u001B[0m in \u001B[0;36m<module>\u001B[0;34m\u001B[0m\n\u001B[0;32m----> 1\u001B[0;31m \u001B[0mdf\u001B[0m\u001B[0;34m.\u001B[0m\u001B[0mset_index\u001B[0m\u001B[0;34m(\u001B[0m\u001B[0minplace\u001B[0m\u001B[0;34m=\u001B[0m\u001B[0;32mTrue\u001B[0m\u001B[0;34m)\u001B[0m\u001B[0;34m\u001B[0m\u001B[0;34m\u001B[0m\u001B[0m\n\u001B[0m",
      "\u001B[0;32m~/opt/anaconda3/lib/python3.9/site-packages/pandas/util/_decorators.py\u001B[0m in \u001B[0;36mwrapper\u001B[0;34m(*args, **kwargs)\u001B[0m\n\u001B[1;32m    309\u001B[0m                     \u001B[0mstacklevel\u001B[0m\u001B[0;34m=\u001B[0m\u001B[0mstacklevel\u001B[0m\u001B[0;34m,\u001B[0m\u001B[0;34m\u001B[0m\u001B[0;34m\u001B[0m\u001B[0m\n\u001B[1;32m    310\u001B[0m                 )\n\u001B[0;32m--> 311\u001B[0;31m             \u001B[0;32mreturn\u001B[0m \u001B[0mfunc\u001B[0m\u001B[0;34m(\u001B[0m\u001B[0;34m*\u001B[0m\u001B[0margs\u001B[0m\u001B[0;34m,\u001B[0m \u001B[0;34m**\u001B[0m\u001B[0mkwargs\u001B[0m\u001B[0;34m)\u001B[0m\u001B[0;34m\u001B[0m\u001B[0;34m\u001B[0m\u001B[0m\n\u001B[0m\u001B[1;32m    312\u001B[0m \u001B[0;34m\u001B[0m\u001B[0m\n\u001B[1;32m    313\u001B[0m         \u001B[0;32mreturn\u001B[0m \u001B[0mwrapper\u001B[0m\u001B[0;34m\u001B[0m\u001B[0;34m\u001B[0m\u001B[0m\n",
      "\u001B[0;31mTypeError\u001B[0m: set_index() missing 1 required positional argument: 'keys'"
     ]
    }
   ],
   "source": [
    "df.set_index(inplace=True)"
   ],
   "metadata": {
    "collapsed": false
   }
  },
  {
   "cell_type": "code",
   "execution_count": 37,
   "outputs": [
    {
     "ename": "KeyError",
     "evalue": "\"None of ['이름'] are in the columns\"",
     "output_type": "error",
     "traceback": [
      "\u001B[0;31m---------------------------------------------------------------------------\u001B[0m",
      "\u001B[0;31mKeyError\u001B[0m                                  Traceback (most recent call last)",
      "\u001B[0;32m/var/folders/r4/h5tmjmlj1wj54cmxzmf66mw40000gn/T/ipykernel_49164/3689383759.py\u001B[0m in \u001B[0;36m<module>\u001B[0;34m\u001B[0m\n\u001B[0;32m----> 1\u001B[0;31m \u001B[0mdf\u001B[0m\u001B[0;34m.\u001B[0m\u001B[0mset_index\u001B[0m\u001B[0;34m(\u001B[0m\u001B[0;34m'이름'\u001B[0m\u001B[0;34m,\u001B[0m\u001B[0minplace\u001B[0m\u001B[0;34m=\u001B[0m\u001B[0;32mTrue\u001B[0m\u001B[0;34m)\u001B[0m\u001B[0;34m\u001B[0m\u001B[0;34m\u001B[0m\u001B[0m\n\u001B[0m\u001B[1;32m      2\u001B[0m \u001B[0mdf\u001B[0m\u001B[0;34m\u001B[0m\u001B[0;34m\u001B[0m\u001B[0m\n",
      "\u001B[0;32m~/opt/anaconda3/lib/python3.9/site-packages/pandas/util/_decorators.py\u001B[0m in \u001B[0;36mwrapper\u001B[0;34m(*args, **kwargs)\u001B[0m\n\u001B[1;32m    309\u001B[0m                     \u001B[0mstacklevel\u001B[0m\u001B[0;34m=\u001B[0m\u001B[0mstacklevel\u001B[0m\u001B[0;34m,\u001B[0m\u001B[0;34m\u001B[0m\u001B[0;34m\u001B[0m\u001B[0m\n\u001B[1;32m    310\u001B[0m                 )\n\u001B[0;32m--> 311\u001B[0;31m             \u001B[0;32mreturn\u001B[0m \u001B[0mfunc\u001B[0m\u001B[0;34m(\u001B[0m\u001B[0;34m*\u001B[0m\u001B[0margs\u001B[0m\u001B[0;34m,\u001B[0m \u001B[0;34m**\u001B[0m\u001B[0mkwargs\u001B[0m\u001B[0;34m)\u001B[0m\u001B[0;34m\u001B[0m\u001B[0;34m\u001B[0m\u001B[0m\n\u001B[0m\u001B[1;32m    312\u001B[0m \u001B[0;34m\u001B[0m\u001B[0m\n\u001B[1;32m    313\u001B[0m         \u001B[0;32mreturn\u001B[0m \u001B[0mwrapper\u001B[0m\u001B[0;34m\u001B[0m\u001B[0;34m\u001B[0m\u001B[0m\n",
      "\u001B[0;32m~/opt/anaconda3/lib/python3.9/site-packages/pandas/core/frame.py\u001B[0m in \u001B[0;36mset_index\u001B[0;34m(self, keys, drop, append, inplace, verify_integrity)\u001B[0m\n\u001B[1;32m   5449\u001B[0m \u001B[0;34m\u001B[0m\u001B[0m\n\u001B[1;32m   5450\u001B[0m         \u001B[0;32mif\u001B[0m \u001B[0mmissing\u001B[0m\u001B[0;34m:\u001B[0m\u001B[0;34m\u001B[0m\u001B[0;34m\u001B[0m\u001B[0m\n\u001B[0;32m-> 5451\u001B[0;31m             \u001B[0;32mraise\u001B[0m \u001B[0mKeyError\u001B[0m\u001B[0;34m(\u001B[0m\u001B[0;34mf\"None of {missing} are in the columns\"\u001B[0m\u001B[0;34m)\u001B[0m\u001B[0;34m\u001B[0m\u001B[0;34m\u001B[0m\u001B[0m\n\u001B[0m\u001B[1;32m   5452\u001B[0m \u001B[0;34m\u001B[0m\u001B[0m\n\u001B[1;32m   5453\u001B[0m         \u001B[0;32mif\u001B[0m \u001B[0minplace\u001B[0m\u001B[0;34m:\u001B[0m\u001B[0;34m\u001B[0m\u001B[0;34m\u001B[0m\u001B[0m\n",
      "\u001B[0;31mKeyError\u001B[0m: \"None of ['이름'] are in the columns\""
     ]
    }
   ],
   "source": [
    "df.set_index('이름',inplace=True)\n",
    "df"
   ],
   "metadata": {
    "collapsed": false
   }
  },
  {
   "cell_type": "code",
   "execution_count": 38,
   "outputs": [
    {
     "ename": "KeyError",
     "evalue": "\"None of ['이름'] are in the columns\"",
     "output_type": "error",
     "traceback": [
      "\u001B[0;31m---------------------------------------------------------------------------\u001B[0m",
      "\u001B[0;31mKeyError\u001B[0m                                  Traceback (most recent call last)",
      "\u001B[0;32m/var/folders/r4/h5tmjmlj1wj54cmxzmf66mw40000gn/T/ipykernel_49164/1466946573.py\u001B[0m in \u001B[0;36m<module>\u001B[0;34m\u001B[0m\n\u001B[0;32m----> 1\u001B[0;31m \u001B[0mdf\u001B[0m\u001B[0;34m.\u001B[0m\u001B[0mset_index\u001B[0m\u001B[0;34m(\u001B[0m\u001B[0;34m'이름'\u001B[0m\u001B[0;34m,\u001B[0m\u001B[0minplace\u001B[0m\u001B[0;34m=\u001B[0m\u001B[0;32mTrue\u001B[0m\u001B[0;34m)\u001B[0m\u001B[0;34m\u001B[0m\u001B[0;34m\u001B[0m\u001B[0m\n\u001B[0m\u001B[1;32m      2\u001B[0m \u001B[0mdf\u001B[0m\u001B[0;34m\u001B[0m\u001B[0;34m\u001B[0m\u001B[0m\n",
      "\u001B[0;32m~/opt/anaconda3/lib/python3.9/site-packages/pandas/util/_decorators.py\u001B[0m in \u001B[0;36mwrapper\u001B[0;34m(*args, **kwargs)\u001B[0m\n\u001B[1;32m    309\u001B[0m                     \u001B[0mstacklevel\u001B[0m\u001B[0;34m=\u001B[0m\u001B[0mstacklevel\u001B[0m\u001B[0;34m,\u001B[0m\u001B[0;34m\u001B[0m\u001B[0;34m\u001B[0m\u001B[0m\n\u001B[1;32m    310\u001B[0m                 )\n\u001B[0;32m--> 311\u001B[0;31m             \u001B[0;32mreturn\u001B[0m \u001B[0mfunc\u001B[0m\u001B[0;34m(\u001B[0m\u001B[0;34m*\u001B[0m\u001B[0margs\u001B[0m\u001B[0;34m,\u001B[0m \u001B[0;34m**\u001B[0m\u001B[0mkwargs\u001B[0m\u001B[0;34m)\u001B[0m\u001B[0;34m\u001B[0m\u001B[0;34m\u001B[0m\u001B[0m\n\u001B[0m\u001B[1;32m    312\u001B[0m \u001B[0;34m\u001B[0m\u001B[0m\n\u001B[1;32m    313\u001B[0m         \u001B[0;32mreturn\u001B[0m \u001B[0mwrapper\u001B[0m\u001B[0;34m\u001B[0m\u001B[0;34m\u001B[0m\u001B[0m\n",
      "\u001B[0;32m~/opt/anaconda3/lib/python3.9/site-packages/pandas/core/frame.py\u001B[0m in \u001B[0;36mset_index\u001B[0;34m(self, keys, drop, append, inplace, verify_integrity)\u001B[0m\n\u001B[1;32m   5449\u001B[0m \u001B[0;34m\u001B[0m\u001B[0m\n\u001B[1;32m   5450\u001B[0m         \u001B[0;32mif\u001B[0m \u001B[0mmissing\u001B[0m\u001B[0;34m:\u001B[0m\u001B[0;34m\u001B[0m\u001B[0;34m\u001B[0m\u001B[0m\n\u001B[0;32m-> 5451\u001B[0;31m             \u001B[0;32mraise\u001B[0m \u001B[0mKeyError\u001B[0m\u001B[0;34m(\u001B[0m\u001B[0;34mf\"None of {missing} are in the columns\"\u001B[0m\u001B[0;34m)\u001B[0m\u001B[0;34m\u001B[0m\u001B[0;34m\u001B[0m\u001B[0m\n\u001B[0m\u001B[1;32m   5452\u001B[0m \u001B[0;34m\u001B[0m\u001B[0m\n\u001B[1;32m   5453\u001B[0m         \u001B[0;32mif\u001B[0m \u001B[0minplace\u001B[0m\u001B[0;34m:\u001B[0m\u001B[0;34m\u001B[0m\u001B[0;34m\u001B[0m\u001B[0m\n",
      "\u001B[0;31mKeyError\u001B[0m: \"None of ['이름'] are in the columns\""
     ]
    }
   ],
   "source": [
    "df.set_index('이름',inplace=True)\n",
    "df"
   ],
   "metadata": {
    "collapsed": false
   }
  },
  {
   "cell_type": "code",
   "execution_count": 39,
   "outputs": [
    {
     "ename": "KeyError",
     "evalue": "\"None of ['이름'] are in the columns\"",
     "output_type": "error",
     "traceback": [
      "\u001B[0;31m---------------------------------------------------------------------------\u001B[0m",
      "\u001B[0;31mKeyError\u001B[0m                                  Traceback (most recent call last)",
      "\u001B[0;32m/var/folders/r4/h5tmjmlj1wj54cmxzmf66mw40000gn/T/ipykernel_49164/2126952375.py\u001B[0m in \u001B[0;36m<module>\u001B[0;34m\u001B[0m\n\u001B[0;32m----> 1\u001B[0;31m \u001B[0mdf\u001B[0m\u001B[0;34m.\u001B[0m\u001B[0mset_index\u001B[0m\u001B[0;34m(\u001B[0m\u001B[0;34m'이름'\u001B[0m\u001B[0;34m)\u001B[0m\u001B[0;34m\u001B[0m\u001B[0;34m\u001B[0m\u001B[0m\n\u001B[0m\u001B[1;32m      2\u001B[0m \u001B[0mdf\u001B[0m\u001B[0;34m\u001B[0m\u001B[0;34m\u001B[0m\u001B[0m\n",
      "\u001B[0;32m~/opt/anaconda3/lib/python3.9/site-packages/pandas/util/_decorators.py\u001B[0m in \u001B[0;36mwrapper\u001B[0;34m(*args, **kwargs)\u001B[0m\n\u001B[1;32m    309\u001B[0m                     \u001B[0mstacklevel\u001B[0m\u001B[0;34m=\u001B[0m\u001B[0mstacklevel\u001B[0m\u001B[0;34m,\u001B[0m\u001B[0;34m\u001B[0m\u001B[0;34m\u001B[0m\u001B[0m\n\u001B[1;32m    310\u001B[0m                 )\n\u001B[0;32m--> 311\u001B[0;31m             \u001B[0;32mreturn\u001B[0m \u001B[0mfunc\u001B[0m\u001B[0;34m(\u001B[0m\u001B[0;34m*\u001B[0m\u001B[0margs\u001B[0m\u001B[0;34m,\u001B[0m \u001B[0;34m**\u001B[0m\u001B[0mkwargs\u001B[0m\u001B[0;34m)\u001B[0m\u001B[0;34m\u001B[0m\u001B[0;34m\u001B[0m\u001B[0m\n\u001B[0m\u001B[1;32m    312\u001B[0m \u001B[0;34m\u001B[0m\u001B[0m\n\u001B[1;32m    313\u001B[0m         \u001B[0;32mreturn\u001B[0m \u001B[0mwrapper\u001B[0m\u001B[0;34m\u001B[0m\u001B[0;34m\u001B[0m\u001B[0m\n",
      "\u001B[0;32m~/opt/anaconda3/lib/python3.9/site-packages/pandas/core/frame.py\u001B[0m in \u001B[0;36mset_index\u001B[0;34m(self, keys, drop, append, inplace, verify_integrity)\u001B[0m\n\u001B[1;32m   5449\u001B[0m \u001B[0;34m\u001B[0m\u001B[0m\n\u001B[1;32m   5450\u001B[0m         \u001B[0;32mif\u001B[0m \u001B[0mmissing\u001B[0m\u001B[0;34m:\u001B[0m\u001B[0;34m\u001B[0m\u001B[0;34m\u001B[0m\u001B[0m\n\u001B[0;32m-> 5451\u001B[0;31m             \u001B[0;32mraise\u001B[0m \u001B[0mKeyError\u001B[0m\u001B[0;34m(\u001B[0m\u001B[0;34mf\"None of {missing} are in the columns\"\u001B[0m\u001B[0;34m)\u001B[0m\u001B[0;34m\u001B[0m\u001B[0;34m\u001B[0m\u001B[0m\n\u001B[0m\u001B[1;32m   5452\u001B[0m \u001B[0;34m\u001B[0m\u001B[0m\n\u001B[1;32m   5453\u001B[0m         \u001B[0;32mif\u001B[0m \u001B[0minplace\u001B[0m\u001B[0;34m:\u001B[0m\u001B[0;34m\u001B[0m\u001B[0;34m\u001B[0m\u001B[0m\n",
      "\u001B[0;31mKeyError\u001B[0m: \"None of ['이름'] are in the columns\""
     ]
    }
   ],
   "source": [
    "df.set_index('이름')\n",
    "df"
   ],
   "metadata": {
    "collapsed": false
   }
  },
  {
   "cell_type": "code",
   "execution_count": 40,
   "outputs": [
    {
     "data": {
      "text/plain": "      학교    키   국어   영어   수학  과학  사회        SW특기\n이름                                              \n채치수  북산고  197   90   85  100  95  85      Python\n정대만  북산고  184   40   35   50  55  25        Java\n송태섭  북산고  168   80   75   70  80  75  Javascript\n서태웅  북산고  187   40   60   70  75  80            \n강백호  북산고  188   15   20   10  35  10            \n변덕규  능남고  202   80  100   95  85  80           C\n황태산  능남고  188   55   65   45  40  35      PYTHON\n윤대협  능남고  190  100   85   90  95  95          C#",
      "text/html": "<div>\n<style scoped>\n    .dataframe tbody tr th:only-of-type {\n        vertical-align: middle;\n    }\n\n    .dataframe tbody tr th {\n        vertical-align: top;\n    }\n\n    .dataframe thead th {\n        text-align: right;\n    }\n</style>\n<table border=\"1\" class=\"dataframe\">\n  <thead>\n    <tr style=\"text-align: right;\">\n      <th></th>\n      <th>학교</th>\n      <th>키</th>\n      <th>국어</th>\n      <th>영어</th>\n      <th>수학</th>\n      <th>과학</th>\n      <th>사회</th>\n      <th>SW특기</th>\n    </tr>\n    <tr>\n      <th>이름</th>\n      <th></th>\n      <th></th>\n      <th></th>\n      <th></th>\n      <th></th>\n      <th></th>\n      <th></th>\n      <th></th>\n    </tr>\n  </thead>\n  <tbody>\n    <tr>\n      <th>채치수</th>\n      <td>북산고</td>\n      <td>197</td>\n      <td>90</td>\n      <td>85</td>\n      <td>100</td>\n      <td>95</td>\n      <td>85</td>\n      <td>Python</td>\n    </tr>\n    <tr>\n      <th>정대만</th>\n      <td>북산고</td>\n      <td>184</td>\n      <td>40</td>\n      <td>35</td>\n      <td>50</td>\n      <td>55</td>\n      <td>25</td>\n      <td>Java</td>\n    </tr>\n    <tr>\n      <th>송태섭</th>\n      <td>북산고</td>\n      <td>168</td>\n      <td>80</td>\n      <td>75</td>\n      <td>70</td>\n      <td>80</td>\n      <td>75</td>\n      <td>Javascript</td>\n    </tr>\n    <tr>\n      <th>서태웅</th>\n      <td>북산고</td>\n      <td>187</td>\n      <td>40</td>\n      <td>60</td>\n      <td>70</td>\n      <td>75</td>\n      <td>80</td>\n      <td></td>\n    </tr>\n    <tr>\n      <th>강백호</th>\n      <td>북산고</td>\n      <td>188</td>\n      <td>15</td>\n      <td>20</td>\n      <td>10</td>\n      <td>35</td>\n      <td>10</td>\n      <td></td>\n    </tr>\n    <tr>\n      <th>변덕규</th>\n      <td>능남고</td>\n      <td>202</td>\n      <td>80</td>\n      <td>100</td>\n      <td>95</td>\n      <td>85</td>\n      <td>80</td>\n      <td>C</td>\n    </tr>\n    <tr>\n      <th>황태산</th>\n      <td>능남고</td>\n      <td>188</td>\n      <td>55</td>\n      <td>65</td>\n      <td>45</td>\n      <td>40</td>\n      <td>35</td>\n      <td>PYTHON</td>\n    </tr>\n    <tr>\n      <th>윤대협</th>\n      <td>능남고</td>\n      <td>190</td>\n      <td>100</td>\n      <td>85</td>\n      <td>90</td>\n      <td>95</td>\n      <td>95</td>\n      <td>C#</td>\n    </tr>\n  </tbody>\n</table>\n</div>"
     },
     "execution_count": 40,
     "metadata": {},
     "output_type": "execute_result"
    }
   ],
   "source": [
    "df"
   ],
   "metadata": {
    "collapsed": false
   }
  },
  {
   "cell_type": "code",
   "execution_count": 41,
   "outputs": [
    {
     "data": {
      "text/plain": "      학교    키   국어   영어   수학  과학  사회        SW특기\n이름                                              \n강백호  북산고  188   15   20   10  35  10            \n변덕규  능남고  202   80  100   95  85  80           C\n서태웅  북산고  187   40   60   70  75  80            \n송태섭  북산고  168   80   75   70  80  75  Javascript\n윤대협  능남고  190  100   85   90  95  95          C#\n정대만  북산고  184   40   35   50  55  25        Java\n채치수  북산고  197   90   85  100  95  85      Python\n황태산  능남고  188   55   65   45  40  35      PYTHON",
      "text/html": "<div>\n<style scoped>\n    .dataframe tbody tr th:only-of-type {\n        vertical-align: middle;\n    }\n\n    .dataframe tbody tr th {\n        vertical-align: top;\n    }\n\n    .dataframe thead th {\n        text-align: right;\n    }\n</style>\n<table border=\"1\" class=\"dataframe\">\n  <thead>\n    <tr style=\"text-align: right;\">\n      <th></th>\n      <th>학교</th>\n      <th>키</th>\n      <th>국어</th>\n      <th>영어</th>\n      <th>수학</th>\n      <th>과학</th>\n      <th>사회</th>\n      <th>SW특기</th>\n    </tr>\n    <tr>\n      <th>이름</th>\n      <th></th>\n      <th></th>\n      <th></th>\n      <th></th>\n      <th></th>\n      <th></th>\n      <th></th>\n      <th></th>\n    </tr>\n  </thead>\n  <tbody>\n    <tr>\n      <th>강백호</th>\n      <td>북산고</td>\n      <td>188</td>\n      <td>15</td>\n      <td>20</td>\n      <td>10</td>\n      <td>35</td>\n      <td>10</td>\n      <td></td>\n    </tr>\n    <tr>\n      <th>변덕규</th>\n      <td>능남고</td>\n      <td>202</td>\n      <td>80</td>\n      <td>100</td>\n      <td>95</td>\n      <td>85</td>\n      <td>80</td>\n      <td>C</td>\n    </tr>\n    <tr>\n      <th>서태웅</th>\n      <td>북산고</td>\n      <td>187</td>\n      <td>40</td>\n      <td>60</td>\n      <td>70</td>\n      <td>75</td>\n      <td>80</td>\n      <td></td>\n    </tr>\n    <tr>\n      <th>송태섭</th>\n      <td>북산고</td>\n      <td>168</td>\n      <td>80</td>\n      <td>75</td>\n      <td>70</td>\n      <td>80</td>\n      <td>75</td>\n      <td>Javascript</td>\n    </tr>\n    <tr>\n      <th>윤대협</th>\n      <td>능남고</td>\n      <td>190</td>\n      <td>100</td>\n      <td>85</td>\n      <td>90</td>\n      <td>95</td>\n      <td>95</td>\n      <td>C#</td>\n    </tr>\n    <tr>\n      <th>정대만</th>\n      <td>북산고</td>\n      <td>184</td>\n      <td>40</td>\n      <td>35</td>\n      <td>50</td>\n      <td>55</td>\n      <td>25</td>\n      <td>Java</td>\n    </tr>\n    <tr>\n      <th>채치수</th>\n      <td>북산고</td>\n      <td>197</td>\n      <td>90</td>\n      <td>85</td>\n      <td>100</td>\n      <td>95</td>\n      <td>85</td>\n      <td>Python</td>\n    </tr>\n    <tr>\n      <th>황태산</th>\n      <td>능남고</td>\n      <td>188</td>\n      <td>55</td>\n      <td>65</td>\n      <td>45</td>\n      <td>40</td>\n      <td>35</td>\n      <td>PYTHON</td>\n    </tr>\n  </tbody>\n</table>\n</div>"
     },
     "execution_count": 41,
     "metadata": {},
     "output_type": "execute_result"
    }
   ],
   "source": [
    "df.sort_index()\n"
   ],
   "metadata": {
    "collapsed": false
   }
  },
  {
   "cell_type": "code",
   "execution_count": 42,
   "outputs": [
    {
     "data": {
      "text/plain": "      학교    키   국어   영어   수학  과학  사회        SW특기\n이름                                              \n황태산  능남고  188   55   65   45  40  35      PYTHON\n채치수  북산고  197   90   85  100  95  85      Python\n정대만  북산고  184   40   35   50  55  25        Java\n윤대협  능남고  190  100   85   90  95  95          C#\n송태섭  북산고  168   80   75   70  80  75  Javascript\n서태웅  북산고  187   40   60   70  75  80            \n변덕규  능남고  202   80  100   95  85  80           C\n강백호  북산고  188   15   20   10  35  10            ",
      "text/html": "<div>\n<style scoped>\n    .dataframe tbody tr th:only-of-type {\n        vertical-align: middle;\n    }\n\n    .dataframe tbody tr th {\n        vertical-align: top;\n    }\n\n    .dataframe thead th {\n        text-align: right;\n    }\n</style>\n<table border=\"1\" class=\"dataframe\">\n  <thead>\n    <tr style=\"text-align: right;\">\n      <th></th>\n      <th>학교</th>\n      <th>키</th>\n      <th>국어</th>\n      <th>영어</th>\n      <th>수학</th>\n      <th>과학</th>\n      <th>사회</th>\n      <th>SW특기</th>\n    </tr>\n    <tr>\n      <th>이름</th>\n      <th></th>\n      <th></th>\n      <th></th>\n      <th></th>\n      <th></th>\n      <th></th>\n      <th></th>\n      <th></th>\n    </tr>\n  </thead>\n  <tbody>\n    <tr>\n      <th>황태산</th>\n      <td>능남고</td>\n      <td>188</td>\n      <td>55</td>\n      <td>65</td>\n      <td>45</td>\n      <td>40</td>\n      <td>35</td>\n      <td>PYTHON</td>\n    </tr>\n    <tr>\n      <th>채치수</th>\n      <td>북산고</td>\n      <td>197</td>\n      <td>90</td>\n      <td>85</td>\n      <td>100</td>\n      <td>95</td>\n      <td>85</td>\n      <td>Python</td>\n    </tr>\n    <tr>\n      <th>정대만</th>\n      <td>북산고</td>\n      <td>184</td>\n      <td>40</td>\n      <td>35</td>\n      <td>50</td>\n      <td>55</td>\n      <td>25</td>\n      <td>Java</td>\n    </tr>\n    <tr>\n      <th>윤대협</th>\n      <td>능남고</td>\n      <td>190</td>\n      <td>100</td>\n      <td>85</td>\n      <td>90</td>\n      <td>95</td>\n      <td>95</td>\n      <td>C#</td>\n    </tr>\n    <tr>\n      <th>송태섭</th>\n      <td>북산고</td>\n      <td>168</td>\n      <td>80</td>\n      <td>75</td>\n      <td>70</td>\n      <td>80</td>\n      <td>75</td>\n      <td>Javascript</td>\n    </tr>\n    <tr>\n      <th>서태웅</th>\n      <td>북산고</td>\n      <td>187</td>\n      <td>40</td>\n      <td>60</td>\n      <td>70</td>\n      <td>75</td>\n      <td>80</td>\n      <td></td>\n    </tr>\n    <tr>\n      <th>변덕규</th>\n      <td>능남고</td>\n      <td>202</td>\n      <td>80</td>\n      <td>100</td>\n      <td>95</td>\n      <td>85</td>\n      <td>80</td>\n      <td>C</td>\n    </tr>\n    <tr>\n      <th>강백호</th>\n      <td>북산고</td>\n      <td>188</td>\n      <td>15</td>\n      <td>20</td>\n      <td>10</td>\n      <td>35</td>\n      <td>10</td>\n      <td></td>\n    </tr>\n  </tbody>\n</table>\n</div>"
     },
     "execution_count": 42,
     "metadata": {},
     "output_type": "execute_result"
    }
   ],
   "source": [
    "df.sort_index(ascending=False)"
   ],
   "metadata": {
    "collapsed": false
   }
  },
  {
   "cell_type": "code",
   "execution_count": 43,
   "outputs": [
    {
     "ename": "NameError",
     "evalue": "name 'ᄋf' is not defined",
     "output_type": "error",
     "traceback": [
      "\u001B[0;31m---------------------------------------------------------------------------\u001B[0m",
      "\u001B[0;31mNameError\u001B[0m                                 Traceback (most recent call last)",
      "\u001B[0;32m/var/folders/r4/h5tmjmlj1wj54cmxzmf66mw40000gn/T/ipykernel_49164/3412857752.py\u001B[0m in \u001B[0;36m<module>\u001B[0;34m\u001B[0m\n\u001B[1;32m      1\u001B[0m \u001B[0mdf\u001B[0m\u001B[0;34m.\u001B[0m\u001B[0mindex\u001B[0m\u001B[0;34m.\u001B[0m\u001B[0mname\u001B[0m\u001B[0;34m=\u001B[0m\u001B[0;34m'지원번호'\u001B[0m\u001B[0;34m\u001B[0m\u001B[0;34m\u001B[0m\u001B[0m\n\u001B[0;32m----> 2\u001B[0;31m \u001B[0mㅇf\u001B[0m\u001B[0;34m\u001B[0m\u001B[0;34m\u001B[0m\u001B[0m\n\u001B[0m",
      "\u001B[0;31mNameError\u001B[0m: name 'ᄋf' is not defined"
     ]
    }
   ],
   "source": [
    "df.index.name='지원번호'"
   ],
   "metadata": {
    "collapsed": false
   }
  },
  {
   "cell_type": "code",
   "execution_count": 44,
   "outputs": [
    {
     "data": {
      "text/plain": "       학교    키   국어   영어   수학  과학  사회        SW특기\n지원번호                                             \n채치수   북산고  197   90   85  100  95  85      Python\n정대만   북산고  184   40   35   50  55  25        Java\n송태섭   북산고  168   80   75   70  80  75  Javascript\n서태웅   북산고  187   40   60   70  75  80            \n강백호   북산고  188   15   20   10  35  10            \n변덕규   능남고  202   80  100   95  85  80           C\n황태산   능남고  188   55   65   45  40  35      PYTHON\n윤대협   능남고  190  100   85   90  95  95          C#",
      "text/html": "<div>\n<style scoped>\n    .dataframe tbody tr th:only-of-type {\n        vertical-align: middle;\n    }\n\n    .dataframe tbody tr th {\n        vertical-align: top;\n    }\n\n    .dataframe thead th {\n        text-align: right;\n    }\n</style>\n<table border=\"1\" class=\"dataframe\">\n  <thead>\n    <tr style=\"text-align: right;\">\n      <th></th>\n      <th>학교</th>\n      <th>키</th>\n      <th>국어</th>\n      <th>영어</th>\n      <th>수학</th>\n      <th>과학</th>\n      <th>사회</th>\n      <th>SW특기</th>\n    </tr>\n    <tr>\n      <th>지원번호</th>\n      <th></th>\n      <th></th>\n      <th></th>\n      <th></th>\n      <th></th>\n      <th></th>\n      <th></th>\n      <th></th>\n    </tr>\n  </thead>\n  <tbody>\n    <tr>\n      <th>채치수</th>\n      <td>북산고</td>\n      <td>197</td>\n      <td>90</td>\n      <td>85</td>\n      <td>100</td>\n      <td>95</td>\n      <td>85</td>\n      <td>Python</td>\n    </tr>\n    <tr>\n      <th>정대만</th>\n      <td>북산고</td>\n      <td>184</td>\n      <td>40</td>\n      <td>35</td>\n      <td>50</td>\n      <td>55</td>\n      <td>25</td>\n      <td>Java</td>\n    </tr>\n    <tr>\n      <th>송태섭</th>\n      <td>북산고</td>\n      <td>168</td>\n      <td>80</td>\n      <td>75</td>\n      <td>70</td>\n      <td>80</td>\n      <td>75</td>\n      <td>Javascript</td>\n    </tr>\n    <tr>\n      <th>서태웅</th>\n      <td>북산고</td>\n      <td>187</td>\n      <td>40</td>\n      <td>60</td>\n      <td>70</td>\n      <td>75</td>\n      <td>80</td>\n      <td></td>\n    </tr>\n    <tr>\n      <th>강백호</th>\n      <td>북산고</td>\n      <td>188</td>\n      <td>15</td>\n      <td>20</td>\n      <td>10</td>\n      <td>35</td>\n      <td>10</td>\n      <td></td>\n    </tr>\n    <tr>\n      <th>변덕규</th>\n      <td>능남고</td>\n      <td>202</td>\n      <td>80</td>\n      <td>100</td>\n      <td>95</td>\n      <td>85</td>\n      <td>80</td>\n      <td>C</td>\n    </tr>\n    <tr>\n      <th>황태산</th>\n      <td>능남고</td>\n      <td>188</td>\n      <td>55</td>\n      <td>65</td>\n      <td>45</td>\n      <td>40</td>\n      <td>35</td>\n      <td>PYTHON</td>\n    </tr>\n    <tr>\n      <th>윤대협</th>\n      <td>능남고</td>\n      <td>190</td>\n      <td>100</td>\n      <td>85</td>\n      <td>90</td>\n      <td>95</td>\n      <td>95</td>\n      <td>C#</td>\n    </tr>\n  </tbody>\n</table>\n</div>"
     },
     "execution_count": 44,
     "metadata": {},
     "output_type": "execute_result"
    }
   ],
   "source": [
    "df"
   ],
   "metadata": {
    "collapsed": false
   }
  },
  {
   "cell_type": "code",
   "execution_count": 45,
   "outputs": [
    {
     "data": {
      "text/plain": "     이름   학교    키   국어   영어   수학  과학  사회        SW특기\n1번  채치수  북산고  197   90   85  100  95  85      Python\n2번  정대만  북산고  184   40   35   50  55  25        Java\n3번  송태섭  북산고  168   80   75   70  80  75  Javascript\n4번  서태웅  북산고  187   40   60   70  75  80            \n5번  강백호  북산고  188   15   20   10  35  10            \n6번  변덕규  능남고  202   80  100   95  85  80           C\n7번  황태산  능남고  188   55   65   45  40  35      PYTHON\n8번  윤대협  능남고  190  100   85   90  95  95          C#",
      "text/html": "<div>\n<style scoped>\n    .dataframe tbody tr th:only-of-type {\n        vertical-align: middle;\n    }\n\n    .dataframe tbody tr th {\n        vertical-align: top;\n    }\n\n    .dataframe thead th {\n        text-align: right;\n    }\n</style>\n<table border=\"1\" class=\"dataframe\">\n  <thead>\n    <tr style=\"text-align: right;\">\n      <th></th>\n      <th>이름</th>\n      <th>학교</th>\n      <th>키</th>\n      <th>국어</th>\n      <th>영어</th>\n      <th>수학</th>\n      <th>과학</th>\n      <th>사회</th>\n      <th>SW특기</th>\n    </tr>\n  </thead>\n  <tbody>\n    <tr>\n      <th>1번</th>\n      <td>채치수</td>\n      <td>북산고</td>\n      <td>197</td>\n      <td>90</td>\n      <td>85</td>\n      <td>100</td>\n      <td>95</td>\n      <td>85</td>\n      <td>Python</td>\n    </tr>\n    <tr>\n      <th>2번</th>\n      <td>정대만</td>\n      <td>북산고</td>\n      <td>184</td>\n      <td>40</td>\n      <td>35</td>\n      <td>50</td>\n      <td>55</td>\n      <td>25</td>\n      <td>Java</td>\n    </tr>\n    <tr>\n      <th>3번</th>\n      <td>송태섭</td>\n      <td>북산고</td>\n      <td>168</td>\n      <td>80</td>\n      <td>75</td>\n      <td>70</td>\n      <td>80</td>\n      <td>75</td>\n      <td>Javascript</td>\n    </tr>\n    <tr>\n      <th>4번</th>\n      <td>서태웅</td>\n      <td>북산고</td>\n      <td>187</td>\n      <td>40</td>\n      <td>60</td>\n      <td>70</td>\n      <td>75</td>\n      <td>80</td>\n      <td></td>\n    </tr>\n    <tr>\n      <th>5번</th>\n      <td>강백호</td>\n      <td>북산고</td>\n      <td>188</td>\n      <td>15</td>\n      <td>20</td>\n      <td>10</td>\n      <td>35</td>\n      <td>10</td>\n      <td></td>\n    </tr>\n    <tr>\n      <th>6번</th>\n      <td>변덕규</td>\n      <td>능남고</td>\n      <td>202</td>\n      <td>80</td>\n      <td>100</td>\n      <td>95</td>\n      <td>85</td>\n      <td>80</td>\n      <td>C</td>\n    </tr>\n    <tr>\n      <th>7번</th>\n      <td>황태산</td>\n      <td>능남고</td>\n      <td>188</td>\n      <td>55</td>\n      <td>65</td>\n      <td>45</td>\n      <td>40</td>\n      <td>35</td>\n      <td>PYTHON</td>\n    </tr>\n    <tr>\n      <th>8번</th>\n      <td>윤대협</td>\n      <td>능남고</td>\n      <td>190</td>\n      <td>100</td>\n      <td>85</td>\n      <td>90</td>\n      <td>95</td>\n      <td>95</td>\n      <td>C#</td>\n    </tr>\n  </tbody>\n</table>\n</div>"
     },
     "execution_count": 45,
     "metadata": {},
     "output_type": "execute_result"
    }
   ],
   "source": [
    "df = pd.DataFrame(data, index=['1번','2번','3번','4번','5번','6번','7번','8번'])\n",
    "df"
   ],
   "metadata": {
    "collapsed": false
   }
  },
  {
   "cell_type": "code",
   "execution_count": 46,
   "outputs": [
    {
     "data": {
      "text/plain": "     이름   학교    키   국어   영어   수학  과학  사회        SW특기\n1번  채치수  북산고  197   90   85  100  95  85      Python\n2번  정대만  북산고  184   40   35   50  55  25        Java\n3번  송태섭  북산고  168   80   75   70  80  75  Javascript\n4번  서태웅  북산고  187   40   60   70  75  80            \n5번  강백호  북산고  188   15   20   10  35  10            \n6번  변덕규  능남고  202   80  100   95  85  80           C\n7번  황태산  능남고  188   55   65   45  40  35      PYTHON\n8번  윤대협  능남고  190  100   85   90  95  95          C#",
      "text/html": "<div>\n<style scoped>\n    .dataframe tbody tr th:only-of-type {\n        vertical-align: middle;\n    }\n\n    .dataframe tbody tr th {\n        vertical-align: top;\n    }\n\n    .dataframe thead th {\n        text-align: right;\n    }\n</style>\n<table border=\"1\" class=\"dataframe\">\n  <thead>\n    <tr style=\"text-align: right;\">\n      <th></th>\n      <th>이름</th>\n      <th>학교</th>\n      <th>키</th>\n      <th>국어</th>\n      <th>영어</th>\n      <th>수학</th>\n      <th>과학</th>\n      <th>사회</th>\n      <th>SW특기</th>\n    </tr>\n  </thead>\n  <tbody>\n    <tr>\n      <th>1번</th>\n      <td>채치수</td>\n      <td>북산고</td>\n      <td>197</td>\n      <td>90</td>\n      <td>85</td>\n      <td>100</td>\n      <td>95</td>\n      <td>85</td>\n      <td>Python</td>\n    </tr>\n    <tr>\n      <th>2번</th>\n      <td>정대만</td>\n      <td>북산고</td>\n      <td>184</td>\n      <td>40</td>\n      <td>35</td>\n      <td>50</td>\n      <td>55</td>\n      <td>25</td>\n      <td>Java</td>\n    </tr>\n    <tr>\n      <th>3번</th>\n      <td>송태섭</td>\n      <td>북산고</td>\n      <td>168</td>\n      <td>80</td>\n      <td>75</td>\n      <td>70</td>\n      <td>80</td>\n      <td>75</td>\n      <td>Javascript</td>\n    </tr>\n    <tr>\n      <th>4번</th>\n      <td>서태웅</td>\n      <td>북산고</td>\n      <td>187</td>\n      <td>40</td>\n      <td>60</td>\n      <td>70</td>\n      <td>75</td>\n      <td>80</td>\n      <td></td>\n    </tr>\n    <tr>\n      <th>5번</th>\n      <td>강백호</td>\n      <td>북산고</td>\n      <td>188</td>\n      <td>15</td>\n      <td>20</td>\n      <td>10</td>\n      <td>35</td>\n      <td>10</td>\n      <td></td>\n    </tr>\n    <tr>\n      <th>6번</th>\n      <td>변덕규</td>\n      <td>능남고</td>\n      <td>202</td>\n      <td>80</td>\n      <td>100</td>\n      <td>95</td>\n      <td>85</td>\n      <td>80</td>\n      <td>C</td>\n    </tr>\n    <tr>\n      <th>7번</th>\n      <td>황태산</td>\n      <td>능남고</td>\n      <td>188</td>\n      <td>55</td>\n      <td>65</td>\n      <td>45</td>\n      <td>40</td>\n      <td>35</td>\n      <td>PYTHON</td>\n    </tr>\n    <tr>\n      <th>8번</th>\n      <td>윤대협</td>\n      <td>능남고</td>\n      <td>190</td>\n      <td>100</td>\n      <td>85</td>\n      <td>90</td>\n      <td>95</td>\n      <td>95</td>\n      <td>C#</td>\n    </tr>\n  </tbody>\n</table>\n</div>"
     },
     "execution_count": 46,
     "metadata": {},
     "output_type": "execute_result"
    }
   ],
   "source": [
    "df"
   ],
   "metadata": {
    "collapsed": false
   }
  },
  {
   "cell_type": "code",
   "execution_count": 47,
   "outputs": [],
   "source": [
    "df.to_csv('score.csv')"
   ],
   "metadata": {
    "collapsed": false
   }
  },
  {
   "cell_type": "code",
   "execution_count": 48,
   "outputs": [
    {
     "data": {
      "text/plain": "       이름   학교    키   국어   영어   수학  과학  사회        SW특기\n지원번호                                                  \n1번    채치수  북산고  197   90   85  100  95  85      Python\n2번    정대만  북산고  184   40   35   50  55  25        Java\n3번    송태섭  북산고  168   80   75   70  80  75  Javascript\n4번    서태웅  북산고  187   40   60   70  75  80            \n5번    강백호  북산고  188   15   20   10  35  10            \n6번    변덕규  능남고  202   80  100   95  85  80           C\n7번    황태산  능남고  188   55   65   45  40  35      PYTHON\n8번    윤대협  능남고  190  100   85   90  95  95          C#",
      "text/html": "<div>\n<style scoped>\n    .dataframe tbody tr th:only-of-type {\n        vertical-align: middle;\n    }\n\n    .dataframe tbody tr th {\n        vertical-align: top;\n    }\n\n    .dataframe thead th {\n        text-align: right;\n    }\n</style>\n<table border=\"1\" class=\"dataframe\">\n  <thead>\n    <tr style=\"text-align: right;\">\n      <th></th>\n      <th>이름</th>\n      <th>학교</th>\n      <th>키</th>\n      <th>국어</th>\n      <th>영어</th>\n      <th>수학</th>\n      <th>과학</th>\n      <th>사회</th>\n      <th>SW특기</th>\n    </tr>\n    <tr>\n      <th>지원번호</th>\n      <th></th>\n      <th></th>\n      <th></th>\n      <th></th>\n      <th></th>\n      <th></th>\n      <th></th>\n      <th></th>\n      <th></th>\n    </tr>\n  </thead>\n  <tbody>\n    <tr>\n      <th>1번</th>\n      <td>채치수</td>\n      <td>북산고</td>\n      <td>197</td>\n      <td>90</td>\n      <td>85</td>\n      <td>100</td>\n      <td>95</td>\n      <td>85</td>\n      <td>Python</td>\n    </tr>\n    <tr>\n      <th>2번</th>\n      <td>정대만</td>\n      <td>북산고</td>\n      <td>184</td>\n      <td>40</td>\n      <td>35</td>\n      <td>50</td>\n      <td>55</td>\n      <td>25</td>\n      <td>Java</td>\n    </tr>\n    <tr>\n      <th>3번</th>\n      <td>송태섭</td>\n      <td>북산고</td>\n      <td>168</td>\n      <td>80</td>\n      <td>75</td>\n      <td>70</td>\n      <td>80</td>\n      <td>75</td>\n      <td>Javascript</td>\n    </tr>\n    <tr>\n      <th>4번</th>\n      <td>서태웅</td>\n      <td>북산고</td>\n      <td>187</td>\n      <td>40</td>\n      <td>60</td>\n      <td>70</td>\n      <td>75</td>\n      <td>80</td>\n      <td></td>\n    </tr>\n    <tr>\n      <th>5번</th>\n      <td>강백호</td>\n      <td>북산고</td>\n      <td>188</td>\n      <td>15</td>\n      <td>20</td>\n      <td>10</td>\n      <td>35</td>\n      <td>10</td>\n      <td></td>\n    </tr>\n    <tr>\n      <th>6번</th>\n      <td>변덕규</td>\n      <td>능남고</td>\n      <td>202</td>\n      <td>80</td>\n      <td>100</td>\n      <td>95</td>\n      <td>85</td>\n      <td>80</td>\n      <td>C</td>\n    </tr>\n    <tr>\n      <th>7번</th>\n      <td>황태산</td>\n      <td>능남고</td>\n      <td>188</td>\n      <td>55</td>\n      <td>65</td>\n      <td>45</td>\n      <td>40</td>\n      <td>35</td>\n      <td>PYTHON</td>\n    </tr>\n    <tr>\n      <th>8번</th>\n      <td>윤대협</td>\n      <td>능남고</td>\n      <td>190</td>\n      <td>100</td>\n      <td>85</td>\n      <td>90</td>\n      <td>95</td>\n      <td>95</td>\n      <td>C#</td>\n    </tr>\n  </tbody>\n</table>\n</div>"
     },
     "execution_count": 48,
     "metadata": {},
     "output_type": "execute_result"
    }
   ],
   "source": [
    "df.index.name='지원번호'\n",
    "df"
   ],
   "metadata": {
    "collapsed": false
   }
  },
  {
   "cell_type": "code",
   "execution_count": null,
   "outputs": [],
   "source": [],
   "metadata": {
    "collapsed": false
   }
  },
  {
   "cell_type": "code",
   "execution_count": 54,
   "outputs": [],
   "source": [
    "df.to_csv('score.csv',encoding='utf-8-sig',index=False)"
   ],
   "metadata": {
    "collapsed": false
   }
  },
  {
   "cell_type": "markdown",
   "source": [
    "##텍스트 파일로 저장\n",
    "\n"
   ],
   "metadata": {
    "collapsed": false
   }
  },
  {
   "cell_type": "code",
   "execution_count": 55,
   "outputs": [],
   "source": [
    "df.to_csv('score.txt',sep='\\t')"
   ],
   "metadata": {
    "collapsed": false
   }
  },
  {
   "cell_type": "code",
   "execution_count": 56,
   "outputs": [],
   "source": [
    "df.to_excel('score.xlsx')"
   ],
   "metadata": {
    "collapsed": false
   }
  },
  {
   "cell_type": "markdown",
   "source": [
    "##열기"
   ],
   "metadata": {
    "collapsed": false
   }
  },
  {
   "cell_type": "code",
   "execution_count": 57,
   "outputs": [
    {
     "ename": "AttributeError",
     "evalue": "'DataFrame' object has no attribute 'pd_readcsv'",
     "output_type": "error",
     "traceback": [
      "\u001B[0;31m---------------------------------------------------------------------------\u001B[0m",
      "\u001B[0;31mAttributeError\u001B[0m                            Traceback (most recent call last)",
      "\u001B[0;32m/var/folders/r4/h5tmjmlj1wj54cmxzmf66mw40000gn/T/ipykernel_49164/3597795905.py\u001B[0m in \u001B[0;36m<module>\u001B[0;34m\u001B[0m\n\u001B[0;32m----> 1\u001B[0;31m \u001B[0mdf\u001B[0m\u001B[0;34m.\u001B[0m\u001B[0mpd_readcsv\u001B[0m\u001B[0;34m(\u001B[0m\u001B[0;34m'score.csv'\u001B[0m\u001B[0;34m)\u001B[0m\u001B[0;34m\u001B[0m\u001B[0;34m\u001B[0m\u001B[0m\n\u001B[0m",
      "\u001B[0;32m~/opt/anaconda3/lib/python3.9/site-packages/pandas/core/generic.py\u001B[0m in \u001B[0;36m__getattr__\u001B[0;34m(self, name)\u001B[0m\n\u001B[1;32m   5485\u001B[0m         ):\n\u001B[1;32m   5486\u001B[0m             \u001B[0;32mreturn\u001B[0m \u001B[0mself\u001B[0m\u001B[0;34m[\u001B[0m\u001B[0mname\u001B[0m\u001B[0;34m]\u001B[0m\u001B[0;34m\u001B[0m\u001B[0;34m\u001B[0m\u001B[0m\n\u001B[0;32m-> 5487\u001B[0;31m         \u001B[0;32mreturn\u001B[0m \u001B[0mobject\u001B[0m\u001B[0;34m.\u001B[0m\u001B[0m__getattribute__\u001B[0m\u001B[0;34m(\u001B[0m\u001B[0mself\u001B[0m\u001B[0;34m,\u001B[0m \u001B[0mname\u001B[0m\u001B[0;34m)\u001B[0m\u001B[0;34m\u001B[0m\u001B[0;34m\u001B[0m\u001B[0m\n\u001B[0m\u001B[1;32m   5488\u001B[0m \u001B[0;34m\u001B[0m\u001B[0m\n\u001B[1;32m   5489\u001B[0m     \u001B[0;32mdef\u001B[0m \u001B[0m__setattr__\u001B[0m\u001B[0;34m(\u001B[0m\u001B[0mself\u001B[0m\u001B[0;34m,\u001B[0m \u001B[0mname\u001B[0m\u001B[0;34m:\u001B[0m \u001B[0mstr\u001B[0m\u001B[0;34m,\u001B[0m \u001B[0mvalue\u001B[0m\u001B[0;34m)\u001B[0m \u001B[0;34m->\u001B[0m \u001B[0;32mNone\u001B[0m\u001B[0;34m:\u001B[0m\u001B[0;34m\u001B[0m\u001B[0;34m\u001B[0m\u001B[0m\n",
      "\u001B[0;31mAttributeError\u001B[0m: 'DataFrame' object has no attribute 'pd_readcsv'"
     ]
    }
   ],
   "source": [
    "df.pd_readcsv('score.csv')"
   ],
   "metadata": {
    "collapsed": false
   }
  },
  {
   "cell_type": "code",
   "execution_count": 58,
   "outputs": [],
   "source": [
    "df=pd.read_csv('score.csv')"
   ],
   "metadata": {
    "collapsed": false
   }
  },
  {
   "cell_type": "code",
   "execution_count": 59,
   "outputs": [
    {
     "data": {
      "text/plain": "    이름   학교    키   국어   영어   수학  과학  사회        SW특기\n0  채치수  북산고  197   90   85  100  95  85      Python\n1  정대만  북산고  184   40   35   50  55  25        Java\n2  송태섭  북산고  168   80   75   70  80  75  Javascript\n3  서태웅  북산고  187   40   60   70  75  80         NaN\n4  강백호  북산고  188   15   20   10  35  10         NaN\n5  변덕규  능남고  202   80  100   95  85  80           C\n6  황태산  능남고  188   55   65   45  40  35      PYTHON\n7  윤대협  능남고  190  100   85   90  95  95          C#",
      "text/html": "<div>\n<style scoped>\n    .dataframe tbody tr th:only-of-type {\n        vertical-align: middle;\n    }\n\n    .dataframe tbody tr th {\n        vertical-align: top;\n    }\n\n    .dataframe thead th {\n        text-align: right;\n    }\n</style>\n<table border=\"1\" class=\"dataframe\">\n  <thead>\n    <tr style=\"text-align: right;\">\n      <th></th>\n      <th>이름</th>\n      <th>학교</th>\n      <th>키</th>\n      <th>국어</th>\n      <th>영어</th>\n      <th>수학</th>\n      <th>과학</th>\n      <th>사회</th>\n      <th>SW특기</th>\n    </tr>\n  </thead>\n  <tbody>\n    <tr>\n      <th>0</th>\n      <td>채치수</td>\n      <td>북산고</td>\n      <td>197</td>\n      <td>90</td>\n      <td>85</td>\n      <td>100</td>\n      <td>95</td>\n      <td>85</td>\n      <td>Python</td>\n    </tr>\n    <tr>\n      <th>1</th>\n      <td>정대만</td>\n      <td>북산고</td>\n      <td>184</td>\n      <td>40</td>\n      <td>35</td>\n      <td>50</td>\n      <td>55</td>\n      <td>25</td>\n      <td>Java</td>\n    </tr>\n    <tr>\n      <th>2</th>\n      <td>송태섭</td>\n      <td>북산고</td>\n      <td>168</td>\n      <td>80</td>\n      <td>75</td>\n      <td>70</td>\n      <td>80</td>\n      <td>75</td>\n      <td>Javascript</td>\n    </tr>\n    <tr>\n      <th>3</th>\n      <td>서태웅</td>\n      <td>북산고</td>\n      <td>187</td>\n      <td>40</td>\n      <td>60</td>\n      <td>70</td>\n      <td>75</td>\n      <td>80</td>\n      <td>NaN</td>\n    </tr>\n    <tr>\n      <th>4</th>\n      <td>강백호</td>\n      <td>북산고</td>\n      <td>188</td>\n      <td>15</td>\n      <td>20</td>\n      <td>10</td>\n      <td>35</td>\n      <td>10</td>\n      <td>NaN</td>\n    </tr>\n    <tr>\n      <th>5</th>\n      <td>변덕규</td>\n      <td>능남고</td>\n      <td>202</td>\n      <td>80</td>\n      <td>100</td>\n      <td>95</td>\n      <td>85</td>\n      <td>80</td>\n      <td>C</td>\n    </tr>\n    <tr>\n      <th>6</th>\n      <td>황태산</td>\n      <td>능남고</td>\n      <td>188</td>\n      <td>55</td>\n      <td>65</td>\n      <td>45</td>\n      <td>40</td>\n      <td>35</td>\n      <td>PYTHON</td>\n    </tr>\n    <tr>\n      <th>7</th>\n      <td>윤대협</td>\n      <td>능남고</td>\n      <td>190</td>\n      <td>100</td>\n      <td>85</td>\n      <td>90</td>\n      <td>95</td>\n      <td>95</td>\n      <td>C#</td>\n    </tr>\n  </tbody>\n</table>\n</div>"
     },
     "execution_count": 59,
     "metadata": {},
     "output_type": "execute_result"
    }
   ],
   "source": [
    "df"
   ],
   "metadata": {
    "collapsed": false
   }
  },
  {
   "cell_type": "code",
   "execution_count": 60,
   "outputs": [
    {
     "data": {
      "text/plain": "   채치수  북산고  197   90   85  100  95  85.1      Python\n0  정대만  북산고  184   40   35   50  55    25        Java\n1  송태섭  북산고  168   80   75   70  80    75  Javascript\n2  서태웅  북산고  187   40   60   70  75    80         NaN\n3  강백호  북산고  188   15   20   10  35    10         NaN\n4  변덕규  능남고  202   80  100   95  85    80           C\n5  황태산  능남고  188   55   65   45  40    35      PYTHON\n6  윤대협  능남고  190  100   85   90  95    95          C#",
      "text/html": "<div>\n<style scoped>\n    .dataframe tbody tr th:only-of-type {\n        vertical-align: middle;\n    }\n\n    .dataframe tbody tr th {\n        vertical-align: top;\n    }\n\n    .dataframe thead th {\n        text-align: right;\n    }\n</style>\n<table border=\"1\" class=\"dataframe\">\n  <thead>\n    <tr style=\"text-align: right;\">\n      <th></th>\n      <th>채치수</th>\n      <th>북산고</th>\n      <th>197</th>\n      <th>90</th>\n      <th>85</th>\n      <th>100</th>\n      <th>95</th>\n      <th>85.1</th>\n      <th>Python</th>\n    </tr>\n  </thead>\n  <tbody>\n    <tr>\n      <th>0</th>\n      <td>정대만</td>\n      <td>북산고</td>\n      <td>184</td>\n      <td>40</td>\n      <td>35</td>\n      <td>50</td>\n      <td>55</td>\n      <td>25</td>\n      <td>Java</td>\n    </tr>\n    <tr>\n      <th>1</th>\n      <td>송태섭</td>\n      <td>북산고</td>\n      <td>168</td>\n      <td>80</td>\n      <td>75</td>\n      <td>70</td>\n      <td>80</td>\n      <td>75</td>\n      <td>Javascript</td>\n    </tr>\n    <tr>\n      <th>2</th>\n      <td>서태웅</td>\n      <td>북산고</td>\n      <td>187</td>\n      <td>40</td>\n      <td>60</td>\n      <td>70</td>\n      <td>75</td>\n      <td>80</td>\n      <td>NaN</td>\n    </tr>\n    <tr>\n      <th>3</th>\n      <td>강백호</td>\n      <td>북산고</td>\n      <td>188</td>\n      <td>15</td>\n      <td>20</td>\n      <td>10</td>\n      <td>35</td>\n      <td>10</td>\n      <td>NaN</td>\n    </tr>\n    <tr>\n      <th>4</th>\n      <td>변덕규</td>\n      <td>능남고</td>\n      <td>202</td>\n      <td>80</td>\n      <td>100</td>\n      <td>95</td>\n      <td>85</td>\n      <td>80</td>\n      <td>C</td>\n    </tr>\n    <tr>\n      <th>5</th>\n      <td>황태산</td>\n      <td>능남고</td>\n      <td>188</td>\n      <td>55</td>\n      <td>65</td>\n      <td>45</td>\n      <td>40</td>\n      <td>35</td>\n      <td>PYTHON</td>\n    </tr>\n    <tr>\n      <th>6</th>\n      <td>윤대협</td>\n      <td>능남고</td>\n      <td>190</td>\n      <td>100</td>\n      <td>85</td>\n      <td>90</td>\n      <td>95</td>\n      <td>95</td>\n      <td>C#</td>\n    </tr>\n  </tbody>\n</table>\n</div>"
     },
     "execution_count": 60,
     "metadata": {},
     "output_type": "execute_result"
    }
   ],
   "source": [
    "df=pd.read_csv('score.csv',skiprows=1)\n",
    "df"
   ],
   "metadata": {
    "collapsed": false
   }
  },
  {
   "cell_type": "code",
   "execution_count": 61,
   "outputs": [
    {
     "data": {
      "text/plain": "    이름   학교    키   국어   영어  수학  과학  사회    SW특기\n0  정대만  북산고  184   40   35  50  55  25    Java\n1  서태웅  북산고  187   40   60  70  75  80     NaN\n2  변덕규  능남고  202   80  100  95  85  80       C\n3  황태산  능남고  188   55   65  45  40  35  PYTHON\n4  윤대협  능남고  190  100   85  90  95  95      C#",
      "text/html": "<div>\n<style scoped>\n    .dataframe tbody tr th:only-of-type {\n        vertical-align: middle;\n    }\n\n    .dataframe tbody tr th {\n        vertical-align: top;\n    }\n\n    .dataframe thead th {\n        text-align: right;\n    }\n</style>\n<table border=\"1\" class=\"dataframe\">\n  <thead>\n    <tr style=\"text-align: right;\">\n      <th></th>\n      <th>이름</th>\n      <th>학교</th>\n      <th>키</th>\n      <th>국어</th>\n      <th>영어</th>\n      <th>수학</th>\n      <th>과학</th>\n      <th>사회</th>\n      <th>SW특기</th>\n    </tr>\n  </thead>\n  <tbody>\n    <tr>\n      <th>0</th>\n      <td>정대만</td>\n      <td>북산고</td>\n      <td>184</td>\n      <td>40</td>\n      <td>35</td>\n      <td>50</td>\n      <td>55</td>\n      <td>25</td>\n      <td>Java</td>\n    </tr>\n    <tr>\n      <th>1</th>\n      <td>서태웅</td>\n      <td>북산고</td>\n      <td>187</td>\n      <td>40</td>\n      <td>60</td>\n      <td>70</td>\n      <td>75</td>\n      <td>80</td>\n      <td>NaN</td>\n    </tr>\n    <tr>\n      <th>2</th>\n      <td>변덕규</td>\n      <td>능남고</td>\n      <td>202</td>\n      <td>80</td>\n      <td>100</td>\n      <td>95</td>\n      <td>85</td>\n      <td>80</td>\n      <td>C</td>\n    </tr>\n    <tr>\n      <th>3</th>\n      <td>황태산</td>\n      <td>능남고</td>\n      <td>188</td>\n      <td>55</td>\n      <td>65</td>\n      <td>45</td>\n      <td>40</td>\n      <td>35</td>\n      <td>PYTHON</td>\n    </tr>\n    <tr>\n      <th>4</th>\n      <td>윤대협</td>\n      <td>능남고</td>\n      <td>190</td>\n      <td>100</td>\n      <td>85</td>\n      <td>90</td>\n      <td>95</td>\n      <td>95</td>\n      <td>C#</td>\n    </tr>\n  </tbody>\n</table>\n</div>"
     },
     "execution_count": 61,
     "metadata": {},
     "output_type": "execute_result"
    }
   ],
   "source": [
    "df=pd.read_csv('score.csv',skiprows=[1,3,5])\n",
    "df"
   ],
   "metadata": {
    "collapsed": false
   }
  },
  {
   "cell_type": "code",
   "execution_count": 62,
   "outputs": [
    {
     "data": {
      "text/plain": "    이름   학교    키  국어  영어   수학  과학  사회        SW특기\n0  채치수  북산고  197  90  85  100  95  85      Python\n1  정대만  북산고  184  40  35   50  55  25        Java\n2  송태섭  북산고  168  80  75   70  80  75  Javascript\n3  서태웅  북산고  187  40  60   70  75  80         NaN",
      "text/html": "<div>\n<style scoped>\n    .dataframe tbody tr th:only-of-type {\n        vertical-align: middle;\n    }\n\n    .dataframe tbody tr th {\n        vertical-align: top;\n    }\n\n    .dataframe thead th {\n        text-align: right;\n    }\n</style>\n<table border=\"1\" class=\"dataframe\">\n  <thead>\n    <tr style=\"text-align: right;\">\n      <th></th>\n      <th>이름</th>\n      <th>학교</th>\n      <th>키</th>\n      <th>국어</th>\n      <th>영어</th>\n      <th>수학</th>\n      <th>과학</th>\n      <th>사회</th>\n      <th>SW특기</th>\n    </tr>\n  </thead>\n  <tbody>\n    <tr>\n      <th>0</th>\n      <td>채치수</td>\n      <td>북산고</td>\n      <td>197</td>\n      <td>90</td>\n      <td>85</td>\n      <td>100</td>\n      <td>95</td>\n      <td>85</td>\n      <td>Python</td>\n    </tr>\n    <tr>\n      <th>1</th>\n      <td>정대만</td>\n      <td>북산고</td>\n      <td>184</td>\n      <td>40</td>\n      <td>35</td>\n      <td>50</td>\n      <td>55</td>\n      <td>25</td>\n      <td>Java</td>\n    </tr>\n    <tr>\n      <th>2</th>\n      <td>송태섭</td>\n      <td>북산고</td>\n      <td>168</td>\n      <td>80</td>\n      <td>75</td>\n      <td>70</td>\n      <td>80</td>\n      <td>75</td>\n      <td>Javascript</td>\n    </tr>\n    <tr>\n      <th>3</th>\n      <td>서태웅</td>\n      <td>북산고</td>\n      <td>187</td>\n      <td>40</td>\n      <td>60</td>\n      <td>70</td>\n      <td>75</td>\n      <td>80</td>\n      <td>NaN</td>\n    </tr>\n  </tbody>\n</table>\n</div>"
     },
     "execution_count": 62,
     "metadata": {},
     "output_type": "execute_result"
    }
   ],
   "source": [
    "df=pd.read_csv('score.csv',nrows=4)\n",
    "df"
   ],
   "metadata": {
    "collapsed": false
   }
  },
  {
   "cell_type": "code",
   "execution_count": 63,
   "outputs": [
    {
     "data": {
      "text/plain": "   정대만  북산고  184  40   35  50  55  25        Java\n0  송태섭  북산고  168  80   75  70  80  75  Javascript\n1  서태웅  북산고  187  40   60  70  75  80         NaN\n2  강백호  북산고  188  15   20  10  35  10         NaN\n3  변덕규  능남고  202  80  100  95  85  80           C",
      "text/html": "<div>\n<style scoped>\n    .dataframe tbody tr th:only-of-type {\n        vertical-align: middle;\n    }\n\n    .dataframe tbody tr th {\n        vertical-align: top;\n    }\n\n    .dataframe thead th {\n        text-align: right;\n    }\n</style>\n<table border=\"1\" class=\"dataframe\">\n  <thead>\n    <tr style=\"text-align: right;\">\n      <th></th>\n      <th>정대만</th>\n      <th>북산고</th>\n      <th>184</th>\n      <th>40</th>\n      <th>35</th>\n      <th>50</th>\n      <th>55</th>\n      <th>25</th>\n      <th>Java</th>\n    </tr>\n  </thead>\n  <tbody>\n    <tr>\n      <th>0</th>\n      <td>송태섭</td>\n      <td>북산고</td>\n      <td>168</td>\n      <td>80</td>\n      <td>75</td>\n      <td>70</td>\n      <td>80</td>\n      <td>75</td>\n      <td>Javascript</td>\n    </tr>\n    <tr>\n      <th>1</th>\n      <td>서태웅</td>\n      <td>북산고</td>\n      <td>187</td>\n      <td>40</td>\n      <td>60</td>\n      <td>70</td>\n      <td>75</td>\n      <td>80</td>\n      <td>NaN</td>\n    </tr>\n    <tr>\n      <th>2</th>\n      <td>강백호</td>\n      <td>북산고</td>\n      <td>188</td>\n      <td>15</td>\n      <td>20</td>\n      <td>10</td>\n      <td>35</td>\n      <td>10</td>\n      <td>NaN</td>\n    </tr>\n    <tr>\n      <th>3</th>\n      <td>변덕규</td>\n      <td>능남고</td>\n      <td>202</td>\n      <td>80</td>\n      <td>100</td>\n      <td>95</td>\n      <td>85</td>\n      <td>80</td>\n      <td>C</td>\n    </tr>\n  </tbody>\n</table>\n</div>"
     },
     "execution_count": 63,
     "metadata": {},
     "output_type": "execute_result"
    }
   ],
   "source": [
    "df=pd.read_csv('score.csv',skiprows=2, nrows=4)\n",
    "df\n"
   ],
   "metadata": {
    "collapsed": false
   }
  },
  {
   "cell_type": "code",
   "execution_count": 64,
   "outputs": [
    {
     "data": {
      "text/plain": "  지원번호   이름   학교    키   국어   영어   수학  과학  사회        SW특기\n0   1번  채치수  북산고  197   90   85  100  95  85      Python\n1   2번  정대만  북산고  184   40   35   50  55  25        Java\n2   3번  송태섭  북산고  168   80   75   70  80  75  Javascript\n3   4번  서태웅  북산고  187   40   60   70  75  80         NaN\n4   5번  강백호  북산고  188   15   20   10  35  10         NaN\n5   6번  변덕규  능남고  202   80  100   95  85  80           C\n6   7번  황태산  능남고  188   55   65   45  40  35      PYTHON\n7   8번  윤대협  능남고  190  100   85   90  95  95          C#",
      "text/html": "<div>\n<style scoped>\n    .dataframe tbody tr th:only-of-type {\n        vertical-align: middle;\n    }\n\n    .dataframe tbody tr th {\n        vertical-align: top;\n    }\n\n    .dataframe thead th {\n        text-align: right;\n    }\n</style>\n<table border=\"1\" class=\"dataframe\">\n  <thead>\n    <tr style=\"text-align: right;\">\n      <th></th>\n      <th>지원번호</th>\n      <th>이름</th>\n      <th>학교</th>\n      <th>키</th>\n      <th>국어</th>\n      <th>영어</th>\n      <th>수학</th>\n      <th>과학</th>\n      <th>사회</th>\n      <th>SW특기</th>\n    </tr>\n  </thead>\n  <tbody>\n    <tr>\n      <th>0</th>\n      <td>1번</td>\n      <td>채치수</td>\n      <td>북산고</td>\n      <td>197</td>\n      <td>90</td>\n      <td>85</td>\n      <td>100</td>\n      <td>95</td>\n      <td>85</td>\n      <td>Python</td>\n    </tr>\n    <tr>\n      <th>1</th>\n      <td>2번</td>\n      <td>정대만</td>\n      <td>북산고</td>\n      <td>184</td>\n      <td>40</td>\n      <td>35</td>\n      <td>50</td>\n      <td>55</td>\n      <td>25</td>\n      <td>Java</td>\n    </tr>\n    <tr>\n      <th>2</th>\n      <td>3번</td>\n      <td>송태섭</td>\n      <td>북산고</td>\n      <td>168</td>\n      <td>80</td>\n      <td>75</td>\n      <td>70</td>\n      <td>80</td>\n      <td>75</td>\n      <td>Javascript</td>\n    </tr>\n    <tr>\n      <th>3</th>\n      <td>4번</td>\n      <td>서태웅</td>\n      <td>북산고</td>\n      <td>187</td>\n      <td>40</td>\n      <td>60</td>\n      <td>70</td>\n      <td>75</td>\n      <td>80</td>\n      <td>NaN</td>\n    </tr>\n    <tr>\n      <th>4</th>\n      <td>5번</td>\n      <td>강백호</td>\n      <td>북산고</td>\n      <td>188</td>\n      <td>15</td>\n      <td>20</td>\n      <td>10</td>\n      <td>35</td>\n      <td>10</td>\n      <td>NaN</td>\n    </tr>\n    <tr>\n      <th>5</th>\n      <td>6번</td>\n      <td>변덕규</td>\n      <td>능남고</td>\n      <td>202</td>\n      <td>80</td>\n      <td>100</td>\n      <td>95</td>\n      <td>85</td>\n      <td>80</td>\n      <td>C</td>\n    </tr>\n    <tr>\n      <th>6</th>\n      <td>7번</td>\n      <td>황태산</td>\n      <td>능남고</td>\n      <td>188</td>\n      <td>55</td>\n      <td>65</td>\n      <td>45</td>\n      <td>40</td>\n      <td>35</td>\n      <td>PYTHON</td>\n    </tr>\n    <tr>\n      <th>7</th>\n      <td>8번</td>\n      <td>윤대협</td>\n      <td>능남고</td>\n      <td>190</td>\n      <td>100</td>\n      <td>85</td>\n      <td>90</td>\n      <td>95</td>\n      <td>95</td>\n      <td>C#</td>\n    </tr>\n  </tbody>\n</table>\n</div>"
     },
     "execution_count": 64,
     "metadata": {},
     "output_type": "execute_result"
    }
   ],
   "source": [
    "df=pd.read_csv('score.txt', sep='\\t')\n",
    "df"
   ],
   "metadata": {
    "collapsed": false
   }
  },
  {
   "cell_type": "code",
   "execution_count": 65,
   "outputs": [
    {
     "data": {
      "text/plain": "       이름   학교    키   국어   영어   수학  과학  사회        SW특기\n지원번호                                                  \n1번    채치수  북산고  197   90   85  100  95  85      Python\n2번    정대만  북산고  184   40   35   50  55  25        Java\n3번    송태섭  북산고  168   80   75   70  80  75  Javascript\n4번    서태웅  북산고  187   40   60   70  75  80         NaN\n5번    강백호  북산고  188   15   20   10  35  10         NaN\n6번    변덕규  능남고  202   80  100   95  85  80           C\n7번    황태산  능남고  188   55   65   45  40  35      PYTHON\n8번    윤대협  능남고  190  100   85   90  95  95          C#",
      "text/html": "<div>\n<style scoped>\n    .dataframe tbody tr th:only-of-type {\n        vertical-align: middle;\n    }\n\n    .dataframe tbody tr th {\n        vertical-align: top;\n    }\n\n    .dataframe thead th {\n        text-align: right;\n    }\n</style>\n<table border=\"1\" class=\"dataframe\">\n  <thead>\n    <tr style=\"text-align: right;\">\n      <th></th>\n      <th>이름</th>\n      <th>학교</th>\n      <th>키</th>\n      <th>국어</th>\n      <th>영어</th>\n      <th>수학</th>\n      <th>과학</th>\n      <th>사회</th>\n      <th>SW특기</th>\n    </tr>\n    <tr>\n      <th>지원번호</th>\n      <th></th>\n      <th></th>\n      <th></th>\n      <th></th>\n      <th></th>\n      <th></th>\n      <th></th>\n      <th></th>\n      <th></th>\n    </tr>\n  </thead>\n  <tbody>\n    <tr>\n      <th>1번</th>\n      <td>채치수</td>\n      <td>북산고</td>\n      <td>197</td>\n      <td>90</td>\n      <td>85</td>\n      <td>100</td>\n      <td>95</td>\n      <td>85</td>\n      <td>Python</td>\n    </tr>\n    <tr>\n      <th>2번</th>\n      <td>정대만</td>\n      <td>북산고</td>\n      <td>184</td>\n      <td>40</td>\n      <td>35</td>\n      <td>50</td>\n      <td>55</td>\n      <td>25</td>\n      <td>Java</td>\n    </tr>\n    <tr>\n      <th>3번</th>\n      <td>송태섭</td>\n      <td>북산고</td>\n      <td>168</td>\n      <td>80</td>\n      <td>75</td>\n      <td>70</td>\n      <td>80</td>\n      <td>75</td>\n      <td>Javascript</td>\n    </tr>\n    <tr>\n      <th>4번</th>\n      <td>서태웅</td>\n      <td>북산고</td>\n      <td>187</td>\n      <td>40</td>\n      <td>60</td>\n      <td>70</td>\n      <td>75</td>\n      <td>80</td>\n      <td>NaN</td>\n    </tr>\n    <tr>\n      <th>5번</th>\n      <td>강백호</td>\n      <td>북산고</td>\n      <td>188</td>\n      <td>15</td>\n      <td>20</td>\n      <td>10</td>\n      <td>35</td>\n      <td>10</td>\n      <td>NaN</td>\n    </tr>\n    <tr>\n      <th>6번</th>\n      <td>변덕규</td>\n      <td>능남고</td>\n      <td>202</td>\n      <td>80</td>\n      <td>100</td>\n      <td>95</td>\n      <td>85</td>\n      <td>80</td>\n      <td>C</td>\n    </tr>\n    <tr>\n      <th>7번</th>\n      <td>황태산</td>\n      <td>능남고</td>\n      <td>188</td>\n      <td>55</td>\n      <td>65</td>\n      <td>45</td>\n      <td>40</td>\n      <td>35</td>\n      <td>PYTHON</td>\n    </tr>\n    <tr>\n      <th>8번</th>\n      <td>윤대협</td>\n      <td>능남고</td>\n      <td>190</td>\n      <td>100</td>\n      <td>85</td>\n      <td>90</td>\n      <td>95</td>\n      <td>95</td>\n      <td>C#</td>\n    </tr>\n  </tbody>\n</table>\n</div>"
     },
     "execution_count": 65,
     "metadata": {},
     "output_type": "execute_result"
    }
   ],
   "source": [
    "df=pd.read_csv('score.txt', sep='\\t',index_col='지원번호')\n",
    "df"
   ],
   "metadata": {
    "collapsed": false
   }
  },
  {
   "cell_type": "code",
   "execution_count": 66,
   "outputs": [
    {
     "data": {
      "text/plain": "  지원번호   이름   학교    키   국어   영어   수학  과학  사회        SW특기\n0   1번  채치수  북산고  197   90   85  100  95  85      Python\n1   2번  정대만  북산고  184   40   35   50  55  25        Java\n2   3번  송태섭  북산고  168   80   75   70  80  75  Javascript\n3   4번  서태웅  북산고  187   40   60   70  75  80         NaN\n4   5번  강백호  북산고  188   15   20   10  35  10         NaN\n5   6번  변덕규  능남고  202   80  100   95  85  80           C\n6   7번  황태산  능남고  188   55   65   45  40  35      PYTHON\n7   8번  윤대협  능남고  190  100   85   90  95  95          C#",
      "text/html": "<div>\n<style scoped>\n    .dataframe tbody tr th:only-of-type {\n        vertical-align: middle;\n    }\n\n    .dataframe tbody tr th {\n        vertical-align: top;\n    }\n\n    .dataframe thead th {\n        text-align: right;\n    }\n</style>\n<table border=\"1\" class=\"dataframe\">\n  <thead>\n    <tr style=\"text-align: right;\">\n      <th></th>\n      <th>지원번호</th>\n      <th>이름</th>\n      <th>학교</th>\n      <th>키</th>\n      <th>국어</th>\n      <th>영어</th>\n      <th>수학</th>\n      <th>과학</th>\n      <th>사회</th>\n      <th>SW특기</th>\n    </tr>\n  </thead>\n  <tbody>\n    <tr>\n      <th>0</th>\n      <td>1번</td>\n      <td>채치수</td>\n      <td>북산고</td>\n      <td>197</td>\n      <td>90</td>\n      <td>85</td>\n      <td>100</td>\n      <td>95</td>\n      <td>85</td>\n      <td>Python</td>\n    </tr>\n    <tr>\n      <th>1</th>\n      <td>2번</td>\n      <td>정대만</td>\n      <td>북산고</td>\n      <td>184</td>\n      <td>40</td>\n      <td>35</td>\n      <td>50</td>\n      <td>55</td>\n      <td>25</td>\n      <td>Java</td>\n    </tr>\n    <tr>\n      <th>2</th>\n      <td>3번</td>\n      <td>송태섭</td>\n      <td>북산고</td>\n      <td>168</td>\n      <td>80</td>\n      <td>75</td>\n      <td>70</td>\n      <td>80</td>\n      <td>75</td>\n      <td>Javascript</td>\n    </tr>\n    <tr>\n      <th>3</th>\n      <td>4번</td>\n      <td>서태웅</td>\n      <td>북산고</td>\n      <td>187</td>\n      <td>40</td>\n      <td>60</td>\n      <td>70</td>\n      <td>75</td>\n      <td>80</td>\n      <td>NaN</td>\n    </tr>\n    <tr>\n      <th>4</th>\n      <td>5번</td>\n      <td>강백호</td>\n      <td>북산고</td>\n      <td>188</td>\n      <td>15</td>\n      <td>20</td>\n      <td>10</td>\n      <td>35</td>\n      <td>10</td>\n      <td>NaN</td>\n    </tr>\n    <tr>\n      <th>5</th>\n      <td>6번</td>\n      <td>변덕규</td>\n      <td>능남고</td>\n      <td>202</td>\n      <td>80</td>\n      <td>100</td>\n      <td>95</td>\n      <td>85</td>\n      <td>80</td>\n      <td>C</td>\n    </tr>\n    <tr>\n      <th>6</th>\n      <td>7번</td>\n      <td>황태산</td>\n      <td>능남고</td>\n      <td>188</td>\n      <td>55</td>\n      <td>65</td>\n      <td>45</td>\n      <td>40</td>\n      <td>35</td>\n      <td>PYTHON</td>\n    </tr>\n    <tr>\n      <th>7</th>\n      <td>8번</td>\n      <td>윤대협</td>\n      <td>능남고</td>\n      <td>190</td>\n      <td>100</td>\n      <td>85</td>\n      <td>90</td>\n      <td>95</td>\n      <td>95</td>\n      <td>C#</td>\n    </tr>\n  </tbody>\n</table>\n</div>"
     },
     "execution_count": 66,
     "metadata": {},
     "output_type": "execute_result"
    }
   ],
   "source": [
    "df=pd.read_csv('score.txt', sep='\\t')\n",
    "df.set_index('지원번호')\n",
    "df"
   ],
   "metadata": {
    "collapsed": false
   }
  },
  {
   "cell_type": "code",
   "execution_count": 67,
   "outputs": [
    {
     "data": {
      "text/plain": "       이름   학교    키   국어   영어   수학  과학  사회        SW특기\n지원번호                                                  \n1번    채치수  북산고  197   90   85  100  95  85      Python\n2번    정대만  북산고  184   40   35   50  55  25        Java\n3번    송태섭  북산고  168   80   75   70  80  75  Javascript\n4번    서태웅  북산고  187   40   60   70  75  80         NaN\n5번    강백호  북산고  188   15   20   10  35  10         NaN\n6번    변덕규  능남고  202   80  100   95  85  80           C\n7번    황태산  능남고  188   55   65   45  40  35      PYTHON\n8번    윤대협  능남고  190  100   85   90  95  95          C#",
      "text/html": "<div>\n<style scoped>\n    .dataframe tbody tr th:only-of-type {\n        vertical-align: middle;\n    }\n\n    .dataframe tbody tr th {\n        vertical-align: top;\n    }\n\n    .dataframe thead th {\n        text-align: right;\n    }\n</style>\n<table border=\"1\" class=\"dataframe\">\n  <thead>\n    <tr style=\"text-align: right;\">\n      <th></th>\n      <th>이름</th>\n      <th>학교</th>\n      <th>키</th>\n      <th>국어</th>\n      <th>영어</th>\n      <th>수학</th>\n      <th>과학</th>\n      <th>사회</th>\n      <th>SW특기</th>\n    </tr>\n    <tr>\n      <th>지원번호</th>\n      <th></th>\n      <th></th>\n      <th></th>\n      <th></th>\n      <th></th>\n      <th></th>\n      <th></th>\n      <th></th>\n      <th></th>\n    </tr>\n  </thead>\n  <tbody>\n    <tr>\n      <th>1번</th>\n      <td>채치수</td>\n      <td>북산고</td>\n      <td>197</td>\n      <td>90</td>\n      <td>85</td>\n      <td>100</td>\n      <td>95</td>\n      <td>85</td>\n      <td>Python</td>\n    </tr>\n    <tr>\n      <th>2번</th>\n      <td>정대만</td>\n      <td>북산고</td>\n      <td>184</td>\n      <td>40</td>\n      <td>35</td>\n      <td>50</td>\n      <td>55</td>\n      <td>25</td>\n      <td>Java</td>\n    </tr>\n    <tr>\n      <th>3번</th>\n      <td>송태섭</td>\n      <td>북산고</td>\n      <td>168</td>\n      <td>80</td>\n      <td>75</td>\n      <td>70</td>\n      <td>80</td>\n      <td>75</td>\n      <td>Javascript</td>\n    </tr>\n    <tr>\n      <th>4번</th>\n      <td>서태웅</td>\n      <td>북산고</td>\n      <td>187</td>\n      <td>40</td>\n      <td>60</td>\n      <td>70</td>\n      <td>75</td>\n      <td>80</td>\n      <td>NaN</td>\n    </tr>\n    <tr>\n      <th>5번</th>\n      <td>강백호</td>\n      <td>북산고</td>\n      <td>188</td>\n      <td>15</td>\n      <td>20</td>\n      <td>10</td>\n      <td>35</td>\n      <td>10</td>\n      <td>NaN</td>\n    </tr>\n    <tr>\n      <th>6번</th>\n      <td>변덕규</td>\n      <td>능남고</td>\n      <td>202</td>\n      <td>80</td>\n      <td>100</td>\n      <td>95</td>\n      <td>85</td>\n      <td>80</td>\n      <td>C</td>\n    </tr>\n    <tr>\n      <th>7번</th>\n      <td>황태산</td>\n      <td>능남고</td>\n      <td>188</td>\n      <td>55</td>\n      <td>65</td>\n      <td>45</td>\n      <td>40</td>\n      <td>35</td>\n      <td>PYTHON</td>\n    </tr>\n    <tr>\n      <th>8번</th>\n      <td>윤대협</td>\n      <td>능남고</td>\n      <td>190</td>\n      <td>100</td>\n      <td>85</td>\n      <td>90</td>\n      <td>95</td>\n      <td>95</td>\n      <td>C#</td>\n    </tr>\n  </tbody>\n</table>\n</div>"
     },
     "execution_count": 67,
     "metadata": {},
     "output_type": "execute_result"
    }
   ],
   "source": [
    "df=pd.read_csv('score.txt', sep='\\t')\n",
    "df.set_index('지원번호',inplace=True)\n",
    "df"
   ],
   "metadata": {
    "collapsed": false
   }
  },
  {
   "cell_type": "code",
   "execution_count": 68,
   "outputs": [
    {
     "data": {
      "text/plain": "  지원번호   이름   학교    키   국어   영어   수학  과학  사회        SW특기\n0   1번  채치수  북산고  197   90   85  100  95  85      Python\n1   2번  정대만  북산고  184   40   35   50  55  25        Java\n2   3번  송태섭  북산고  168   80   75   70  80  75  Javascript\n3   4번  서태웅  북산고  187   40   60   70  75  80         NaN\n4   5번  강백호  북산고  188   15   20   10  35  10         NaN\n5   6번  변덕규  능남고  202   80  100   95  85  80           C\n6   7번  황태산  능남고  188   55   65   45  40  35      PYTHON\n7   8번  윤대협  능남고  190  100   85   90  95  95          C#",
      "text/html": "<div>\n<style scoped>\n    .dataframe tbody tr th:only-of-type {\n        vertical-align: middle;\n    }\n\n    .dataframe tbody tr th {\n        vertical-align: top;\n    }\n\n    .dataframe thead th {\n        text-align: right;\n    }\n</style>\n<table border=\"1\" class=\"dataframe\">\n  <thead>\n    <tr style=\"text-align: right;\">\n      <th></th>\n      <th>지원번호</th>\n      <th>이름</th>\n      <th>학교</th>\n      <th>키</th>\n      <th>국어</th>\n      <th>영어</th>\n      <th>수학</th>\n      <th>과학</th>\n      <th>사회</th>\n      <th>SW특기</th>\n    </tr>\n  </thead>\n  <tbody>\n    <tr>\n      <th>0</th>\n      <td>1번</td>\n      <td>채치수</td>\n      <td>북산고</td>\n      <td>197</td>\n      <td>90</td>\n      <td>85</td>\n      <td>100</td>\n      <td>95</td>\n      <td>85</td>\n      <td>Python</td>\n    </tr>\n    <tr>\n      <th>1</th>\n      <td>2번</td>\n      <td>정대만</td>\n      <td>북산고</td>\n      <td>184</td>\n      <td>40</td>\n      <td>35</td>\n      <td>50</td>\n      <td>55</td>\n      <td>25</td>\n      <td>Java</td>\n    </tr>\n    <tr>\n      <th>2</th>\n      <td>3번</td>\n      <td>송태섭</td>\n      <td>북산고</td>\n      <td>168</td>\n      <td>80</td>\n      <td>75</td>\n      <td>70</td>\n      <td>80</td>\n      <td>75</td>\n      <td>Javascript</td>\n    </tr>\n    <tr>\n      <th>3</th>\n      <td>4번</td>\n      <td>서태웅</td>\n      <td>북산고</td>\n      <td>187</td>\n      <td>40</td>\n      <td>60</td>\n      <td>70</td>\n      <td>75</td>\n      <td>80</td>\n      <td>NaN</td>\n    </tr>\n    <tr>\n      <th>4</th>\n      <td>5번</td>\n      <td>강백호</td>\n      <td>북산고</td>\n      <td>188</td>\n      <td>15</td>\n      <td>20</td>\n      <td>10</td>\n      <td>35</td>\n      <td>10</td>\n      <td>NaN</td>\n    </tr>\n    <tr>\n      <th>5</th>\n      <td>6번</td>\n      <td>변덕규</td>\n      <td>능남고</td>\n      <td>202</td>\n      <td>80</td>\n      <td>100</td>\n      <td>95</td>\n      <td>85</td>\n      <td>80</td>\n      <td>C</td>\n    </tr>\n    <tr>\n      <th>6</th>\n      <td>7번</td>\n      <td>황태산</td>\n      <td>능남고</td>\n      <td>188</td>\n      <td>55</td>\n      <td>65</td>\n      <td>45</td>\n      <td>40</td>\n      <td>35</td>\n      <td>PYTHON</td>\n    </tr>\n    <tr>\n      <th>7</th>\n      <td>8번</td>\n      <td>윤대협</td>\n      <td>능남고</td>\n      <td>190</td>\n      <td>100</td>\n      <td>85</td>\n      <td>90</td>\n      <td>95</td>\n      <td>95</td>\n      <td>C#</td>\n    </tr>\n  </tbody>\n</table>\n</div>"
     },
     "execution_count": 68,
     "metadata": {},
     "output_type": "execute_result"
    }
   ],
   "source": [
    "df=pd.read_excel('score.xlsx')\n",
    "df"
   ],
   "metadata": {
    "collapsed": false
   }
  },
  {
   "cell_type": "code",
   "execution_count": 69,
   "outputs": [
    {
     "ename": "NameError",
     "evalue": "name 'ᄋf' is not defined",
     "output_type": "error",
     "traceback": [
      "\u001B[0;31m---------------------------------------------------------------------------\u001B[0m",
      "\u001B[0;31mNameError\u001B[0m                                 Traceback (most recent call last)",
      "\u001B[0;32m/var/folders/r4/h5tmjmlj1wj54cmxzmf66mw40000gn/T/ipykernel_49164/3257898952.py\u001B[0m in \u001B[0;36m<module>\u001B[0;34m\u001B[0m\n\u001B[1;32m      1\u001B[0m \u001B[0mdf\u001B[0m\u001B[0;34m=\u001B[0m\u001B[0mpd\u001B[0m\u001B[0;34m.\u001B[0m\u001B[0mread_excel\u001B[0m\u001B[0;34m(\u001B[0m\u001B[0;34m'score.xlsx'\u001B[0m\u001B[0;34m,\u001B[0m\u001B[0mindex_col\u001B[0m\u001B[0;34m=\u001B[0m\u001B[0;34m'지원번호'\u001B[0m\u001B[0;34m)\u001B[0m\u001B[0;34m\u001B[0m\u001B[0;34m\u001B[0m\u001B[0m\n\u001B[0;32m----> 2\u001B[0;31m \u001B[0mㅇf\u001B[0m\u001B[0;34m\u001B[0m\u001B[0;34m\u001B[0m\u001B[0m\n\u001B[0m",
      "\u001B[0;31mNameError\u001B[0m: name 'ᄋf' is not defined"
     ]
    }
   ],
   "source": [
    "df=pd.read_excel('score.xlsx',index_col='지원번호')\n",
    "ㅇf"
   ],
   "metadata": {
    "collapsed": false
   }
  },
  {
   "cell_type": "code",
   "execution_count": 70,
   "outputs": [
    {
     "data": {
      "text/plain": "       이름   학교    키   국어   영어   수학  과학  사회        SW특기\n지원번호                                                  \n1번    채치수  북산고  197   90   85  100  95  85      Python\n2번    정대만  북산고  184   40   35   50  55  25        Java\n3번    송태섭  북산고  168   80   75   70  80  75  Javascript\n4번    서태웅  북산고  187   40   60   70  75  80         NaN\n5번    강백호  북산고  188   15   20   10  35  10         NaN\n6번    변덕규  능남고  202   80  100   95  85  80           C\n7번    황태산  능남고  188   55   65   45  40  35      PYTHON\n8번    윤대협  능남고  190  100   85   90  95  95          C#",
      "text/html": "<div>\n<style scoped>\n    .dataframe tbody tr th:only-of-type {\n        vertical-align: middle;\n    }\n\n    .dataframe tbody tr th {\n        vertical-align: top;\n    }\n\n    .dataframe thead th {\n        text-align: right;\n    }\n</style>\n<table border=\"1\" class=\"dataframe\">\n  <thead>\n    <tr style=\"text-align: right;\">\n      <th></th>\n      <th>이름</th>\n      <th>학교</th>\n      <th>키</th>\n      <th>국어</th>\n      <th>영어</th>\n      <th>수학</th>\n      <th>과학</th>\n      <th>사회</th>\n      <th>SW특기</th>\n    </tr>\n    <tr>\n      <th>지원번호</th>\n      <th></th>\n      <th></th>\n      <th></th>\n      <th></th>\n      <th></th>\n      <th></th>\n      <th></th>\n      <th></th>\n      <th></th>\n    </tr>\n  </thead>\n  <tbody>\n    <tr>\n      <th>1번</th>\n      <td>채치수</td>\n      <td>북산고</td>\n      <td>197</td>\n      <td>90</td>\n      <td>85</td>\n      <td>100</td>\n      <td>95</td>\n      <td>85</td>\n      <td>Python</td>\n    </tr>\n    <tr>\n      <th>2번</th>\n      <td>정대만</td>\n      <td>북산고</td>\n      <td>184</td>\n      <td>40</td>\n      <td>35</td>\n      <td>50</td>\n      <td>55</td>\n      <td>25</td>\n      <td>Java</td>\n    </tr>\n    <tr>\n      <th>3번</th>\n      <td>송태섭</td>\n      <td>북산고</td>\n      <td>168</td>\n      <td>80</td>\n      <td>75</td>\n      <td>70</td>\n      <td>80</td>\n      <td>75</td>\n      <td>Javascript</td>\n    </tr>\n    <tr>\n      <th>4번</th>\n      <td>서태웅</td>\n      <td>북산고</td>\n      <td>187</td>\n      <td>40</td>\n      <td>60</td>\n      <td>70</td>\n      <td>75</td>\n      <td>80</td>\n      <td>NaN</td>\n    </tr>\n    <tr>\n      <th>5번</th>\n      <td>강백호</td>\n      <td>북산고</td>\n      <td>188</td>\n      <td>15</td>\n      <td>20</td>\n      <td>10</td>\n      <td>35</td>\n      <td>10</td>\n      <td>NaN</td>\n    </tr>\n    <tr>\n      <th>6번</th>\n      <td>변덕규</td>\n      <td>능남고</td>\n      <td>202</td>\n      <td>80</td>\n      <td>100</td>\n      <td>95</td>\n      <td>85</td>\n      <td>80</td>\n      <td>C</td>\n    </tr>\n    <tr>\n      <th>7번</th>\n      <td>황태산</td>\n      <td>능남고</td>\n      <td>188</td>\n      <td>55</td>\n      <td>65</td>\n      <td>45</td>\n      <td>40</td>\n      <td>35</td>\n      <td>PYTHON</td>\n    </tr>\n    <tr>\n      <th>8번</th>\n      <td>윤대협</td>\n      <td>능남고</td>\n      <td>190</td>\n      <td>100</td>\n      <td>85</td>\n      <td>90</td>\n      <td>95</td>\n      <td>95</td>\n      <td>C#</td>\n    </tr>\n  </tbody>\n</table>\n</div>"
     },
     "execution_count": 70,
     "metadata": {},
     "output_type": "execute_result"
    }
   ],
   "source": [
    "df"
   ],
   "metadata": {
    "collapsed": false
   }
  },
  {
   "cell_type": "markdown",
   "source": [
    "##데이터 확인\n"
   ],
   "metadata": {
    "collapsed": false
   }
  },
  {
   "cell_type": "code",
   "execution_count": null,
   "outputs": [],
   "source": [],
   "metadata": {
    "collapsed": false
   }
  }
 ],
 "metadata": {
  "kernelspec": {
   "display_name": "Python 3",
   "language": "python",
   "name": "python3"
  },
  "language_info": {
   "codemirror_mode": {
    "name": "ipython",
    "version": 2
   },
   "file_extension": ".py",
   "mimetype": "text/x-python",
   "name": "python",
   "nbconvert_exporter": "python",
   "pygments_lexer": "ipython2",
   "version": "2.7.6"
  }
 },
 "nbformat": 4,
 "nbformat_minor": 0
}
