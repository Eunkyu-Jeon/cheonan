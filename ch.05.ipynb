{
 "cells": [
  {
   "cell_type": "code",
   "execution_count": 1,
   "metadata": {
    "collapsed": true
   },
   "outputs": [
    {
     "data": {
      "text/plain": "       이름   학교    키   국어   영어   수학  과학  사회        SW특기\n지원번호                                                  \n1번    채치수  북산고  197   90   85  100  95  85      Python\n2번    정대만  북산고  184   40   35   50  55  25        Java\n3번    송태섭  북산고  168   80   75   70  80  75  Javascript\n4번    서태웅  북산고  187   40   60   70  75  80         NaN\n5번    강백호  북산고  188   15   20   10  35  10         NaN\n6번    변덕규  능남고  202   80  100   95  85  80           C\n7번    황태산  능남고  188   55   65   45  40  35      PYTHON\n8번    윤대협  능남고  190  100   85   90  95  95          C#",
      "text/html": "<div>\n<style scoped>\n    .dataframe tbody tr th:only-of-type {\n        vertical-align: middle;\n    }\n\n    .dataframe tbody tr th {\n        vertical-align: top;\n    }\n\n    .dataframe thead th {\n        text-align: right;\n    }\n</style>\n<table border=\"1\" class=\"dataframe\">\n  <thead>\n    <tr style=\"text-align: right;\">\n      <th></th>\n      <th>이름</th>\n      <th>학교</th>\n      <th>키</th>\n      <th>국어</th>\n      <th>영어</th>\n      <th>수학</th>\n      <th>과학</th>\n      <th>사회</th>\n      <th>SW특기</th>\n    </tr>\n    <tr>\n      <th>지원번호</th>\n      <th></th>\n      <th></th>\n      <th></th>\n      <th></th>\n      <th></th>\n      <th></th>\n      <th></th>\n      <th></th>\n      <th></th>\n    </tr>\n  </thead>\n  <tbody>\n    <tr>\n      <th>1번</th>\n      <td>채치수</td>\n      <td>북산고</td>\n      <td>197</td>\n      <td>90</td>\n      <td>85</td>\n      <td>100</td>\n      <td>95</td>\n      <td>85</td>\n      <td>Python</td>\n    </tr>\n    <tr>\n      <th>2번</th>\n      <td>정대만</td>\n      <td>북산고</td>\n      <td>184</td>\n      <td>40</td>\n      <td>35</td>\n      <td>50</td>\n      <td>55</td>\n      <td>25</td>\n      <td>Java</td>\n    </tr>\n    <tr>\n      <th>3번</th>\n      <td>송태섭</td>\n      <td>북산고</td>\n      <td>168</td>\n      <td>80</td>\n      <td>75</td>\n      <td>70</td>\n      <td>80</td>\n      <td>75</td>\n      <td>Javascript</td>\n    </tr>\n    <tr>\n      <th>4번</th>\n      <td>서태웅</td>\n      <td>북산고</td>\n      <td>187</td>\n      <td>40</td>\n      <td>60</td>\n      <td>70</td>\n      <td>75</td>\n      <td>80</td>\n      <td>NaN</td>\n    </tr>\n    <tr>\n      <th>5번</th>\n      <td>강백호</td>\n      <td>북산고</td>\n      <td>188</td>\n      <td>15</td>\n      <td>20</td>\n      <td>10</td>\n      <td>35</td>\n      <td>10</td>\n      <td>NaN</td>\n    </tr>\n    <tr>\n      <th>6번</th>\n      <td>변덕규</td>\n      <td>능남고</td>\n      <td>202</td>\n      <td>80</td>\n      <td>100</td>\n      <td>95</td>\n      <td>85</td>\n      <td>80</td>\n      <td>C</td>\n    </tr>\n    <tr>\n      <th>7번</th>\n      <td>황태산</td>\n      <td>능남고</td>\n      <td>188</td>\n      <td>55</td>\n      <td>65</td>\n      <td>45</td>\n      <td>40</td>\n      <td>35</td>\n      <td>PYTHON</td>\n    </tr>\n    <tr>\n      <th>8번</th>\n      <td>윤대협</td>\n      <td>능남고</td>\n      <td>190</td>\n      <td>100</td>\n      <td>85</td>\n      <td>90</td>\n      <td>95</td>\n      <td>95</td>\n      <td>C#</td>\n    </tr>\n  </tbody>\n</table>\n</div>"
     },
     "execution_count": 1,
     "metadata": {},
     "output_type": "execute_result"
    }
   ],
   "source": [
    "import pandas as pd\n",
    "df=pd.read_excel('score.xlsx',index_col='지원번호')\n",
    "df"
   ]
  },
  {
   "cell_type": "code",
   "execution_count": 2,
   "outputs": [
    {
     "data": {
      "text/plain": "                키          국어          영어          수학         과학         사회\ncount    8.000000    8.000000    8.000000    8.000000   8.000000   8.000000\nmean   188.000000   62.500000   65.625000   66.250000  70.000000  60.625000\nstd      9.985704   29.519969   26.917533   30.325614  23.754699  32.120032\nmin    168.000000   15.000000   20.000000   10.000000  35.000000  10.000000\n25%    186.250000   40.000000   53.750000   48.750000  51.250000  32.500000\n50%    188.000000   67.500000   70.000000   70.000000  77.500000  77.500000\n75%    191.750000   82.500000   85.000000   91.250000  87.500000  81.250000\nmax    202.000000  100.000000  100.000000  100.000000  95.000000  95.000000",
      "text/html": "<div>\n<style scoped>\n    .dataframe tbody tr th:only-of-type {\n        vertical-align: middle;\n    }\n\n    .dataframe tbody tr th {\n        vertical-align: top;\n    }\n\n    .dataframe thead th {\n        text-align: right;\n    }\n</style>\n<table border=\"1\" class=\"dataframe\">\n  <thead>\n    <tr style=\"text-align: right;\">\n      <th></th>\n      <th>키</th>\n      <th>국어</th>\n      <th>영어</th>\n      <th>수학</th>\n      <th>과학</th>\n      <th>사회</th>\n    </tr>\n  </thead>\n  <tbody>\n    <tr>\n      <th>count</th>\n      <td>8.000000</td>\n      <td>8.000000</td>\n      <td>8.000000</td>\n      <td>8.000000</td>\n      <td>8.000000</td>\n      <td>8.000000</td>\n    </tr>\n    <tr>\n      <th>mean</th>\n      <td>188.000000</td>\n      <td>62.500000</td>\n      <td>65.625000</td>\n      <td>66.250000</td>\n      <td>70.000000</td>\n      <td>60.625000</td>\n    </tr>\n    <tr>\n      <th>std</th>\n      <td>9.985704</td>\n      <td>29.519969</td>\n      <td>26.917533</td>\n      <td>30.325614</td>\n      <td>23.754699</td>\n      <td>32.120032</td>\n    </tr>\n    <tr>\n      <th>min</th>\n      <td>168.000000</td>\n      <td>15.000000</td>\n      <td>20.000000</td>\n      <td>10.000000</td>\n      <td>35.000000</td>\n      <td>10.000000</td>\n    </tr>\n    <tr>\n      <th>25%</th>\n      <td>186.250000</td>\n      <td>40.000000</td>\n      <td>53.750000</td>\n      <td>48.750000</td>\n      <td>51.250000</td>\n      <td>32.500000</td>\n    </tr>\n    <tr>\n      <th>50%</th>\n      <td>188.000000</td>\n      <td>67.500000</td>\n      <td>70.000000</td>\n      <td>70.000000</td>\n      <td>77.500000</td>\n      <td>77.500000</td>\n    </tr>\n    <tr>\n      <th>75%</th>\n      <td>191.750000</td>\n      <td>82.500000</td>\n      <td>85.000000</td>\n      <td>91.250000</td>\n      <td>87.500000</td>\n      <td>81.250000</td>\n    </tr>\n    <tr>\n      <th>max</th>\n      <td>202.000000</td>\n      <td>100.000000</td>\n      <td>100.000000</td>\n      <td>100.000000</td>\n      <td>95.000000</td>\n      <td>95.000000</td>\n    </tr>\n  </tbody>\n</table>\n</div>"
     },
     "execution_count": 2,
     "metadata": {},
     "output_type": "execute_result"
    }
   ],
   "source": [
    "df.describe()\n"
   ],
   "metadata": {
    "collapsed": false
   }
  },
  {
   "cell_type": "code",
   "execution_count": 3,
   "outputs": [
    {
     "name": "stdout",
     "output_type": "stream",
     "text": [
      "<class 'pandas.core.frame.DataFrame'>\n",
      "Index: 8 entries, 1번 to 8번\n",
      "Data columns (total 9 columns):\n",
      " #   Column  Non-Null Count  Dtype \n",
      "---  ------  --------------  ----- \n",
      " 0   이름      8 non-null      object\n",
      " 1   학교      8 non-null      object\n",
      " 2   키       8 non-null      int64 \n",
      " 3   국어      8 non-null      int64 \n",
      " 4   영어      8 non-null      int64 \n",
      " 5   수학      8 non-null      int64 \n",
      " 6   과학      8 non-null      int64 \n",
      " 7   사회      8 non-null      int64 \n",
      " 8   SW특기    6 non-null      object\n",
      "dtypes: int64(6), object(3)\n",
      "memory usage: 640.0+ bytes\n"
     ]
    }
   ],
   "source": [
    "df.info()"
   ],
   "metadata": {
    "collapsed": false
   }
  },
  {
   "cell_type": "code",
   "execution_count": 4,
   "outputs": [
    {
     "data": {
      "text/plain": "       이름   학교    키  국어  영어   수학  과학  사회        SW특기\n지원번호                                                \n1번    채치수  북산고  197  90  85  100  95  85      Python\n2번    정대만  북산고  184  40  35   50  55  25        Java\n3번    송태섭  북산고  168  80  75   70  80  75  Javascript\n4번    서태웅  북산고  187  40  60   70  75  80         NaN\n5번    강백호  북산고  188  15  20   10  35  10         NaN",
      "text/html": "<div>\n<style scoped>\n    .dataframe tbody tr th:only-of-type {\n        vertical-align: middle;\n    }\n\n    .dataframe tbody tr th {\n        vertical-align: top;\n    }\n\n    .dataframe thead th {\n        text-align: right;\n    }\n</style>\n<table border=\"1\" class=\"dataframe\">\n  <thead>\n    <tr style=\"text-align: right;\">\n      <th></th>\n      <th>이름</th>\n      <th>학교</th>\n      <th>키</th>\n      <th>국어</th>\n      <th>영어</th>\n      <th>수학</th>\n      <th>과학</th>\n      <th>사회</th>\n      <th>SW특기</th>\n    </tr>\n    <tr>\n      <th>지원번호</th>\n      <th></th>\n      <th></th>\n      <th></th>\n      <th></th>\n      <th></th>\n      <th></th>\n      <th></th>\n      <th></th>\n      <th></th>\n    </tr>\n  </thead>\n  <tbody>\n    <tr>\n      <th>1번</th>\n      <td>채치수</td>\n      <td>북산고</td>\n      <td>197</td>\n      <td>90</td>\n      <td>85</td>\n      <td>100</td>\n      <td>95</td>\n      <td>85</td>\n      <td>Python</td>\n    </tr>\n    <tr>\n      <th>2번</th>\n      <td>정대만</td>\n      <td>북산고</td>\n      <td>184</td>\n      <td>40</td>\n      <td>35</td>\n      <td>50</td>\n      <td>55</td>\n      <td>25</td>\n      <td>Java</td>\n    </tr>\n    <tr>\n      <th>3번</th>\n      <td>송태섭</td>\n      <td>북산고</td>\n      <td>168</td>\n      <td>80</td>\n      <td>75</td>\n      <td>70</td>\n      <td>80</td>\n      <td>75</td>\n      <td>Javascript</td>\n    </tr>\n    <tr>\n      <th>4번</th>\n      <td>서태웅</td>\n      <td>북산고</td>\n      <td>187</td>\n      <td>40</td>\n      <td>60</td>\n      <td>70</td>\n      <td>75</td>\n      <td>80</td>\n      <td>NaN</td>\n    </tr>\n    <tr>\n      <th>5번</th>\n      <td>강백호</td>\n      <td>북산고</td>\n      <td>188</td>\n      <td>15</td>\n      <td>20</td>\n      <td>10</td>\n      <td>35</td>\n      <td>10</td>\n      <td>NaN</td>\n    </tr>\n  </tbody>\n</table>\n</div>"
     },
     "execution_count": 4,
     "metadata": {},
     "output_type": "execute_result"
    }
   ],
   "source": [
    "df.head() #처음 다섯개의 row를 가져옴"
   ],
   "metadata": {
    "collapsed": false
   }
  },
  {
   "cell_type": "code",
   "execution_count": 5,
   "outputs": [
    {
     "data": {
      "text/plain": "       이름   학교    키  국어   영어   수학  과학  사회        SW특기\n지원번호                                                 \n1번    채치수  북산고  197  90   85  100  95  85      Python\n2번    정대만  북산고  184  40   35   50  55  25        Java\n3번    송태섭  북산고  168  80   75   70  80  75  Javascript\n4번    서태웅  북산고  187  40   60   70  75  80         NaN\n5번    강백호  북산고  188  15   20   10  35  10         NaN\n6번    변덕규  능남고  202  80  100   95  85  80           C\n7번    황태산  능남고  188  55   65   45  40  35      PYTHON",
      "text/html": "<div>\n<style scoped>\n    .dataframe tbody tr th:only-of-type {\n        vertical-align: middle;\n    }\n\n    .dataframe tbody tr th {\n        vertical-align: top;\n    }\n\n    .dataframe thead th {\n        text-align: right;\n    }\n</style>\n<table border=\"1\" class=\"dataframe\">\n  <thead>\n    <tr style=\"text-align: right;\">\n      <th></th>\n      <th>이름</th>\n      <th>학교</th>\n      <th>키</th>\n      <th>국어</th>\n      <th>영어</th>\n      <th>수학</th>\n      <th>과학</th>\n      <th>사회</th>\n      <th>SW특기</th>\n    </tr>\n    <tr>\n      <th>지원번호</th>\n      <th></th>\n      <th></th>\n      <th></th>\n      <th></th>\n      <th></th>\n      <th></th>\n      <th></th>\n      <th></th>\n      <th></th>\n    </tr>\n  </thead>\n  <tbody>\n    <tr>\n      <th>1번</th>\n      <td>채치수</td>\n      <td>북산고</td>\n      <td>197</td>\n      <td>90</td>\n      <td>85</td>\n      <td>100</td>\n      <td>95</td>\n      <td>85</td>\n      <td>Python</td>\n    </tr>\n    <tr>\n      <th>2번</th>\n      <td>정대만</td>\n      <td>북산고</td>\n      <td>184</td>\n      <td>40</td>\n      <td>35</td>\n      <td>50</td>\n      <td>55</td>\n      <td>25</td>\n      <td>Java</td>\n    </tr>\n    <tr>\n      <th>3번</th>\n      <td>송태섭</td>\n      <td>북산고</td>\n      <td>168</td>\n      <td>80</td>\n      <td>75</td>\n      <td>70</td>\n      <td>80</td>\n      <td>75</td>\n      <td>Javascript</td>\n    </tr>\n    <tr>\n      <th>4번</th>\n      <td>서태웅</td>\n      <td>북산고</td>\n      <td>187</td>\n      <td>40</td>\n      <td>60</td>\n      <td>70</td>\n      <td>75</td>\n      <td>80</td>\n      <td>NaN</td>\n    </tr>\n    <tr>\n      <th>5번</th>\n      <td>강백호</td>\n      <td>북산고</td>\n      <td>188</td>\n      <td>15</td>\n      <td>20</td>\n      <td>10</td>\n      <td>35</td>\n      <td>10</td>\n      <td>NaN</td>\n    </tr>\n    <tr>\n      <th>6번</th>\n      <td>변덕규</td>\n      <td>능남고</td>\n      <td>202</td>\n      <td>80</td>\n      <td>100</td>\n      <td>95</td>\n      <td>85</td>\n      <td>80</td>\n      <td>C</td>\n    </tr>\n    <tr>\n      <th>7번</th>\n      <td>황태산</td>\n      <td>능남고</td>\n      <td>188</td>\n      <td>55</td>\n      <td>65</td>\n      <td>45</td>\n      <td>40</td>\n      <td>35</td>\n      <td>PYTHON</td>\n    </tr>\n  </tbody>\n</table>\n</div>"
     },
     "execution_count": 5,
     "metadata": {},
     "output_type": "execute_result"
    }
   ],
   "source": [
    "df.head(7) # 괄호안의 숫자만큼의 데이터를 가져온다"
   ],
   "metadata": {
    "collapsed": false
   }
  },
  {
   "cell_type": "code",
   "execution_count": 6,
   "outputs": [
    {
     "data": {
      "text/plain": "       이름   학교    키   국어   영어  수학  과학  사회    SW특기\n지원번호                                             \n4번    서태웅  북산고  187   40   60  70  75  80     NaN\n5번    강백호  북산고  188   15   20  10  35  10     NaN\n6번    변덕규  능남고  202   80  100  95  85  80       C\n7번    황태산  능남고  188   55   65  45  40  35  PYTHON\n8번    윤대협  능남고  190  100   85  90  95  95      C#",
      "text/html": "<div>\n<style scoped>\n    .dataframe tbody tr th:only-of-type {\n        vertical-align: middle;\n    }\n\n    .dataframe tbody tr th {\n        vertical-align: top;\n    }\n\n    .dataframe thead th {\n        text-align: right;\n    }\n</style>\n<table border=\"1\" class=\"dataframe\">\n  <thead>\n    <tr style=\"text-align: right;\">\n      <th></th>\n      <th>이름</th>\n      <th>학교</th>\n      <th>키</th>\n      <th>국어</th>\n      <th>영어</th>\n      <th>수학</th>\n      <th>과학</th>\n      <th>사회</th>\n      <th>SW특기</th>\n    </tr>\n    <tr>\n      <th>지원번호</th>\n      <th></th>\n      <th></th>\n      <th></th>\n      <th></th>\n      <th></th>\n      <th></th>\n      <th></th>\n      <th></th>\n      <th></th>\n    </tr>\n  </thead>\n  <tbody>\n    <tr>\n      <th>4번</th>\n      <td>서태웅</td>\n      <td>북산고</td>\n      <td>187</td>\n      <td>40</td>\n      <td>60</td>\n      <td>70</td>\n      <td>75</td>\n      <td>80</td>\n      <td>NaN</td>\n    </tr>\n    <tr>\n      <th>5번</th>\n      <td>강백호</td>\n      <td>북산고</td>\n      <td>188</td>\n      <td>15</td>\n      <td>20</td>\n      <td>10</td>\n      <td>35</td>\n      <td>10</td>\n      <td>NaN</td>\n    </tr>\n    <tr>\n      <th>6번</th>\n      <td>변덕규</td>\n      <td>능남고</td>\n      <td>202</td>\n      <td>80</td>\n      <td>100</td>\n      <td>95</td>\n      <td>85</td>\n      <td>80</td>\n      <td>C</td>\n    </tr>\n    <tr>\n      <th>7번</th>\n      <td>황태산</td>\n      <td>능남고</td>\n      <td>188</td>\n      <td>55</td>\n      <td>65</td>\n      <td>45</td>\n      <td>40</td>\n      <td>35</td>\n      <td>PYTHON</td>\n    </tr>\n    <tr>\n      <th>8번</th>\n      <td>윤대협</td>\n      <td>능남고</td>\n      <td>190</td>\n      <td>100</td>\n      <td>85</td>\n      <td>90</td>\n      <td>95</td>\n      <td>95</td>\n      <td>C#</td>\n    </tr>\n  </tbody>\n</table>\n</div>"
     },
     "execution_count": 6,
     "metadata": {},
     "output_type": "execute_result"
    }
   ],
   "source": [
    "df.tail() # 마지막의 다섯개의 데이터를 가져옴"
   ],
   "metadata": {
    "collapsed": false,
    "pycharm": {
     "name": "#%%ㅇ\n"
    }
   }
  },
  {
   "cell_type": "code",
   "execution_count": 7,
   "outputs": [
    {
     "data": {
      "text/plain": "       이름   학교    키   국어   영어  수학  과학  사회    SW특기\n지원번호                                             \n6번    변덕규  능남고  202   80  100  95  85  80       C\n7번    황태산  능남고  188   55   65  45  40  35  PYTHON\n8번    윤대협  능남고  190  100   85  90  95  95      C#",
      "text/html": "<div>\n<style scoped>\n    .dataframe tbody tr th:only-of-type {\n        vertical-align: middle;\n    }\n\n    .dataframe tbody tr th {\n        vertical-align: top;\n    }\n\n    .dataframe thead th {\n        text-align: right;\n    }\n</style>\n<table border=\"1\" class=\"dataframe\">\n  <thead>\n    <tr style=\"text-align: right;\">\n      <th></th>\n      <th>이름</th>\n      <th>학교</th>\n      <th>키</th>\n      <th>국어</th>\n      <th>영어</th>\n      <th>수학</th>\n      <th>과학</th>\n      <th>사회</th>\n      <th>SW특기</th>\n    </tr>\n    <tr>\n      <th>지원번호</th>\n      <th></th>\n      <th></th>\n      <th></th>\n      <th></th>\n      <th></th>\n      <th></th>\n      <th></th>\n      <th></th>\n      <th></th>\n    </tr>\n  </thead>\n  <tbody>\n    <tr>\n      <th>6번</th>\n      <td>변덕규</td>\n      <td>능남고</td>\n      <td>202</td>\n      <td>80</td>\n      <td>100</td>\n      <td>95</td>\n      <td>85</td>\n      <td>80</td>\n      <td>C</td>\n    </tr>\n    <tr>\n      <th>7번</th>\n      <td>황태산</td>\n      <td>능남고</td>\n      <td>188</td>\n      <td>55</td>\n      <td>65</td>\n      <td>45</td>\n      <td>40</td>\n      <td>35</td>\n      <td>PYTHON</td>\n    </tr>\n    <tr>\n      <th>8번</th>\n      <td>윤대협</td>\n      <td>능남고</td>\n      <td>190</td>\n      <td>100</td>\n      <td>85</td>\n      <td>90</td>\n      <td>95</td>\n      <td>95</td>\n      <td>C#</td>\n    </tr>\n  </tbody>\n</table>\n</div>"
     },
     "execution_count": 7,
     "metadata": {},
     "output_type": "execute_result"
    }
   ],
   "source": [
    "df.tail(3) # 마지막 세개 가져옴"
   ],
   "metadata": {
    "collapsed": false
   }
  },
  {
   "cell_type": "code",
   "execution_count": 8,
   "outputs": [
    {
     "data": {
      "text/plain": "array([['채치수', '북산고', 197, 90, 85, 100, 95, 85, 'Python'],\n       ['정대만', '북산고', 184, 40, 35, 50, 55, 25, 'Java'],\n       ['송태섭', '북산고', 168, 80, 75, 70, 80, 75, 'Javascript'],\n       ['서태웅', '북산고', 187, 40, 60, 70, 75, 80, nan],\n       ['강백호', '북산고', 188, 15, 20, 10, 35, 10, nan],\n       ['변덕규', '능남고', 202, 80, 100, 95, 85, 80, 'C'],\n       ['황태산', '능남고', 188, 55, 65, 45, 40, 35, 'PYTHON'],\n       ['윤대협', '능남고', 190, 100, 85, 90, 95, 95, 'C#']], dtype=object)"
     },
     "execution_count": 8,
     "metadata": {},
     "output_type": "execute_result"
    }
   ],
   "source": [
    "df.values"
   ],
   "metadata": {
    "collapsed": false,
    "pycharm": {
     "name": "#%%ㅇ\n"
    }
   }
  },
  {
   "cell_type": "code",
   "execution_count": 9,
   "outputs": [
    {
     "data": {
      "text/plain": "Index(['1번', '2번', '3번', '4번', '5번', '6번', '7번', '8번'], dtype='object', name='지원번호')"
     },
     "execution_count": 9,
     "metadata": {},
     "output_type": "execute_result"
    }
   ],
   "source": [
    "df.index"
   ],
   "metadata": {
    "collapsed": false
   }
  },
  {
   "cell_type": "code",
   "execution_count": 10,
   "outputs": [
    {
     "data": {
      "text/plain": "Index(['이름', '학교', '키', '국어', '영어', '수학', '과학', '사회', 'SW특기'], dtype='object')"
     },
     "execution_count": 10,
     "metadata": {},
     "output_type": "execute_result"
    }
   ],
   "source": [
    "df.columns"
   ],
   "metadata": {
    "collapsed": false
   }
  },
  {
   "cell_type": "code",
   "execution_count": 11,
   "outputs": [
    {
     "data": {
      "text/plain": "(8, 9)"
     },
     "execution_count": 11,
     "metadata": {},
     "output_type": "execute_result"
    }
   ],
   "source": [
    "df.shape #row, col 개수"
   ],
   "metadata": {
    "collapsed": false
   }
  },
  {
   "cell_type": "markdown",
   "source": [
    "## Series 확인"
   ],
   "metadata": {
    "collapsed": false
   }
  },
  {
   "cell_type": "markdown",
   "source": [],
   "metadata": {
    "collapsed": false
   }
  },
  {
   "cell_type": "code",
   "execution_count": 12,
   "outputs": [
    {
     "data": {
      "text/plain": "count      8.000000\nmean     188.000000\nstd        9.985704\nmin      168.000000\n25%      186.250000\n50%      188.000000\n75%      191.750000\nmax      202.000000\nName: 키, dtype: float64"
     },
     "execution_count": 12,
     "metadata": {},
     "output_type": "execute_result"
    }
   ],
   "source": [
    "df['키'].describe()"
   ],
   "metadata": {
    "collapsed": false
   }
  },
  {
   "cell_type": "code",
   "execution_count": 13,
   "outputs": [
    {
     "data": {
      "text/plain": "168"
     },
     "execution_count": 13,
     "metadata": {},
     "output_type": "execute_result"
    }
   ],
   "source": [
    "df['키'].min()"
   ],
   "metadata": {
    "collapsed": false
   }
  },
  {
   "cell_type": "code",
   "execution_count": 14,
   "outputs": [
    {
     "data": {
      "text/plain": "지원번호\n6번    202\n1번    197\n8번    190\nName: 키, dtype: int64"
     },
     "execution_count": 14,
     "metadata": {},
     "output_type": "execute_result"
    }
   ],
   "source": [
    "df['키'].nlargest(3)"
   ],
   "metadata": {
    "collapsed": false
   }
  },
  {
   "cell_type": "code",
   "execution_count": 15,
   "outputs": [
    {
     "data": {
      "text/plain": "188.0"
     },
     "execution_count": 15,
     "metadata": {},
     "output_type": "execute_result"
    }
   ],
   "source": [
    "df['키'].mean()"
   ],
   "metadata": {
    "collapsed": false
   }
  },
  {
   "cell_type": "code",
   "execution_count": 16,
   "outputs": [
    {
     "data": {
      "text/plain": "6"
     },
     "execution_count": 16,
     "metadata": {},
     "output_type": "execute_result"
    }
   ],
   "source": [
    "df['SW특기'].count()"
   ],
   "metadata": {
    "collapsed": false
   }
  },
  {
   "cell_type": "code",
   "execution_count": 17,
   "outputs": [
    {
     "data": {
      "text/plain": "array(['북산고', '능남고'], dtype=object)"
     },
     "execution_count": 17,
     "metadata": {},
     "output_type": "execute_result"
    }
   ],
   "source": [
    "df['학교'].unique()"
   ],
   "metadata": {
    "collapsed": false
   }
  },
  {
   "cell_type": "code",
   "execution_count": 18,
   "outputs": [
    {
     "data": {
      "text/plain": "2"
     },
     "execution_count": 18,
     "metadata": {},
     "output_type": "execute_result"
    }
   ],
   "source": [
    "df['학교'].nunique()"
   ],
   "metadata": {
    "collapsed": false
   }
  },
  {
   "cell_type": "markdown",
   "source": [
    "## 데이터선택"
   ],
   "metadata": {
    "collapsed": false
   }
  },
  {
   "cell_type": "code",
   "execution_count": 20,
   "outputs": [
    {
     "data": {
      "text/plain": "지원번호\n1번    채치수\n2번    정대만\n3번    송태섭\n4번    서태웅\n5번    강백호\n6번    변덕규\n7번    황태산\n8번    윤대협\nName: 이름, dtype: object"
     },
     "execution_count": 20,
     "metadata": {},
     "output_type": "execute_result"
    }
   ],
   "source": [
    "df['이름']"
   ],
   "metadata": {
    "collapsed": false
   }
  },
  {
   "cell_type": "code",
   "execution_count": 21,
   "outputs": [
    {
     "data": {
      "text/plain": "        키   이름\n지원번호          \n1번    197  채치수\n2번    184  정대만\n3번    168  송태섭\n4번    187  서태웅\n5번    188  강백호\n6번    202  변덕규\n7번    188  황태산\n8번    190  윤대협",
      "text/html": "<div>\n<style scoped>\n    .dataframe tbody tr th:only-of-type {\n        vertical-align: middle;\n    }\n\n    .dataframe tbody tr th {\n        vertical-align: top;\n    }\n\n    .dataframe thead th {\n        text-align: right;\n    }\n</style>\n<table border=\"1\" class=\"dataframe\">\n  <thead>\n    <tr style=\"text-align: right;\">\n      <th></th>\n      <th>키</th>\n      <th>이름</th>\n    </tr>\n    <tr>\n      <th>지원번호</th>\n      <th></th>\n      <th></th>\n    </tr>\n  </thead>\n  <tbody>\n    <tr>\n      <th>1번</th>\n      <td>197</td>\n      <td>채치수</td>\n    </tr>\n    <tr>\n      <th>2번</th>\n      <td>184</td>\n      <td>정대만</td>\n    </tr>\n    <tr>\n      <th>3번</th>\n      <td>168</td>\n      <td>송태섭</td>\n    </tr>\n    <tr>\n      <th>4번</th>\n      <td>187</td>\n      <td>서태웅</td>\n    </tr>\n    <tr>\n      <th>5번</th>\n      <td>188</td>\n      <td>강백호</td>\n    </tr>\n    <tr>\n      <th>6번</th>\n      <td>202</td>\n      <td>변덕규</td>\n    </tr>\n    <tr>\n      <th>7번</th>\n      <td>188</td>\n      <td>황태산</td>\n    </tr>\n    <tr>\n      <th>8번</th>\n      <td>190</td>\n      <td>윤대협</td>\n    </tr>\n  </tbody>\n</table>\n</div>"
     },
     "execution_count": 21,
     "metadata": {},
     "output_type": "execute_result"
    }
   ],
   "source": [
    "df[['키','이름']]"
   ],
   "metadata": {
    "collapsed": false
   }
  },
  {
   "cell_type": "code",
   "execution_count": 22,
   "outputs": [
    {
     "data": {
      "text/plain": "'이름'"
     },
     "execution_count": 22,
     "metadata": {},
     "output_type": "execute_result"
    }
   ],
   "source": [
    "df.columns[0]"
   ],
   "metadata": {
    "collapsed": false
   }
  },
  {
   "cell_type": "code",
   "execution_count": 23,
   "outputs": [
    {
     "data": {
      "text/plain": "지원번호\n1번    채치수\n2번    정대만\n3번    송태섭\n4번    서태웅\n5번    강백호\n6번    변덕규\n7번    황태산\n8번    윤대협\nName: 이름, dtype: object"
     },
     "execution_count": 23,
     "metadata": {},
     "output_type": "execute_result"
    }
   ],
   "source": [
    "df[df.columns[0]]"
   ],
   "metadata": {
    "collapsed": false
   }
  },
  {
   "cell_type": "code",
   "execution_count": 24,
   "outputs": [
    {
     "data": {
      "text/plain": "지원번호\n1번        Python\n2번          Java\n3번    Javascript\n4번           NaN\n5번           NaN\n6번             C\n7번        PYTHON\n8번            C#\nName: SW특기, dtype: object"
     },
     "execution_count": 24,
     "metadata": {},
     "output_type": "execute_result"
    }
   ],
   "source": [
    "df[df.columns[-1]]"
   ],
   "metadata": {
    "collapsed": false
   }
  },
  {
   "cell_type": "markdown",
   "source": [
    "### 슬라이싱"
   ],
   "metadata": {
    "collapsed": false
   }
  },
  {
   "cell_type": "code",
   "execution_count": 25,
   "outputs": [
    {
     "data": {
      "text/plain": "지원번호\n1번    85\n2번    35\n3번    75\n4번    60\n5번    20\nName: 영어, dtype: int64"
     },
     "execution_count": 25,
     "metadata": {},
     "output_type": "execute_result"
    }
   ],
   "source": [
    "df['영어'][0:5]"
   ],
   "metadata": {
    "collapsed": false
   }
  },
  {
   "cell_type": "code",
   "execution_count": 26,
   "outputs": [
    {
     "data": {
      "text/plain": "       이름    키\n지원번호          \n1번    채치수  197\n2번    정대만  184\n3번    송태섭  168",
      "text/html": "<div>\n<style scoped>\n    .dataframe tbody tr th:only-of-type {\n        vertical-align: middle;\n    }\n\n    .dataframe tbody tr th {\n        vertical-align: top;\n    }\n\n    .dataframe thead th {\n        text-align: right;\n    }\n</style>\n<table border=\"1\" class=\"dataframe\">\n  <thead>\n    <tr style=\"text-align: right;\">\n      <th></th>\n      <th>이름</th>\n      <th>키</th>\n    </tr>\n    <tr>\n      <th>지원번호</th>\n      <th></th>\n      <th></th>\n    </tr>\n  </thead>\n  <tbody>\n    <tr>\n      <th>1번</th>\n      <td>채치수</td>\n      <td>197</td>\n    </tr>\n    <tr>\n      <th>2번</th>\n      <td>정대만</td>\n      <td>184</td>\n    </tr>\n    <tr>\n      <th>3번</th>\n      <td>송태섭</td>\n      <td>168</td>\n    </tr>\n  </tbody>\n</table>\n</div>"
     },
     "execution_count": 26,
     "metadata": {},
     "output_type": "execute_result"
    }
   ],
   "source": [
    "df[['이름','키']][:3]"
   ],
   "metadata": {
    "collapsed": false
   }
  },
  {
   "cell_type": "code",
   "execution_count": 27,
   "outputs": [
    {
     "data": {
      "text/plain": "       이름   학교    키  국어  영어   수학  과학  사회        SW특기\n지원번호                                                \n1번    채치수  북산고  197  90  85  100  95  85      Python\n2번    정대만  북산고  184  40  35   50  55  25        Java\n3번    송태섭  북산고  168  80  75   70  80  75  Javascript",
      "text/html": "<div>\n<style scoped>\n    .dataframe tbody tr th:only-of-type {\n        vertical-align: middle;\n    }\n\n    .dataframe tbody tr th {\n        vertical-align: top;\n    }\n\n    .dataframe thead th {\n        text-align: right;\n    }\n</style>\n<table border=\"1\" class=\"dataframe\">\n  <thead>\n    <tr style=\"text-align: right;\">\n      <th></th>\n      <th>이름</th>\n      <th>학교</th>\n      <th>키</th>\n      <th>국어</th>\n      <th>영어</th>\n      <th>수학</th>\n      <th>과학</th>\n      <th>사회</th>\n      <th>SW특기</th>\n    </tr>\n    <tr>\n      <th>지원번호</th>\n      <th></th>\n      <th></th>\n      <th></th>\n      <th></th>\n      <th></th>\n      <th></th>\n      <th></th>\n      <th></th>\n      <th></th>\n    </tr>\n  </thead>\n  <tbody>\n    <tr>\n      <th>1번</th>\n      <td>채치수</td>\n      <td>북산고</td>\n      <td>197</td>\n      <td>90</td>\n      <td>85</td>\n      <td>100</td>\n      <td>95</td>\n      <td>85</td>\n      <td>Python</td>\n    </tr>\n    <tr>\n      <th>2번</th>\n      <td>정대만</td>\n      <td>북산고</td>\n      <td>184</td>\n      <td>40</td>\n      <td>35</td>\n      <td>50</td>\n      <td>55</td>\n      <td>25</td>\n      <td>Java</td>\n    </tr>\n    <tr>\n      <th>3번</th>\n      <td>송태섭</td>\n      <td>북산고</td>\n      <td>168</td>\n      <td>80</td>\n      <td>75</td>\n      <td>70</td>\n      <td>80</td>\n      <td>75</td>\n      <td>Javascript</td>\n    </tr>\n  </tbody>\n</table>\n</div>"
     },
     "execution_count": 27,
     "metadata": {},
     "output_type": "execute_result"
    }
   ],
   "source": [
    "df[:3]"
   ],
   "metadata": {
    "collapsed": false
   }
  },
  {
   "cell_type": "code",
   "execution_count": 28,
   "outputs": [
    {
     "data": {
      "text/plain": "       이름   학교    키   국어   영어  수학  과학  사회    SW특기\n지원번호                                             \n4번    서태웅  북산고  187   40   60  70  75  80     NaN\n5번    강백호  북산고  188   15   20  10  35  10     NaN\n6번    변덕규  능남고  202   80  100  95  85  80       C\n7번    황태산  능남고  188   55   65  45  40  35  PYTHON\n8번    윤대협  능남고  190  100   85  90  95  95      C#",
      "text/html": "<div>\n<style scoped>\n    .dataframe tbody tr th:only-of-type {\n        vertical-align: middle;\n    }\n\n    .dataframe tbody tr th {\n        vertical-align: top;\n    }\n\n    .dataframe thead th {\n        text-align: right;\n    }\n</style>\n<table border=\"1\" class=\"dataframe\">\n  <thead>\n    <tr style=\"text-align: right;\">\n      <th></th>\n      <th>이름</th>\n      <th>학교</th>\n      <th>키</th>\n      <th>국어</th>\n      <th>영어</th>\n      <th>수학</th>\n      <th>과학</th>\n      <th>사회</th>\n      <th>SW특기</th>\n    </tr>\n    <tr>\n      <th>지원번호</th>\n      <th></th>\n      <th></th>\n      <th></th>\n      <th></th>\n      <th></th>\n      <th></th>\n      <th></th>\n      <th></th>\n      <th></th>\n    </tr>\n  </thead>\n  <tbody>\n    <tr>\n      <th>4번</th>\n      <td>서태웅</td>\n      <td>북산고</td>\n      <td>187</td>\n      <td>40</td>\n      <td>60</td>\n      <td>70</td>\n      <td>75</td>\n      <td>80</td>\n      <td>NaN</td>\n    </tr>\n    <tr>\n      <th>5번</th>\n      <td>강백호</td>\n      <td>북산고</td>\n      <td>188</td>\n      <td>15</td>\n      <td>20</td>\n      <td>10</td>\n      <td>35</td>\n      <td>10</td>\n      <td>NaN</td>\n    </tr>\n    <tr>\n      <th>6번</th>\n      <td>변덕규</td>\n      <td>능남고</td>\n      <td>202</td>\n      <td>80</td>\n      <td>100</td>\n      <td>95</td>\n      <td>85</td>\n      <td>80</td>\n      <td>C</td>\n    </tr>\n    <tr>\n      <th>7번</th>\n      <td>황태산</td>\n      <td>능남고</td>\n      <td>188</td>\n      <td>55</td>\n      <td>65</td>\n      <td>45</td>\n      <td>40</td>\n      <td>35</td>\n      <td>PYTHON</td>\n    </tr>\n    <tr>\n      <th>8번</th>\n      <td>윤대협</td>\n      <td>능남고</td>\n      <td>190</td>\n      <td>100</td>\n      <td>85</td>\n      <td>90</td>\n      <td>95</td>\n      <td>95</td>\n      <td>C#</td>\n    </tr>\n  </tbody>\n</table>\n</div>"
     },
     "execution_count": 28,
     "metadata": {},
     "output_type": "execute_result"
    }
   ],
   "source": [
    "df[3:]"
   ],
   "metadata": {
    "collapsed": false
   }
  },
  {
   "cell_type": "markdown",
   "source": [
    "# 07데이터선택 (loc)"
   ],
   "metadata": {
    "collapsed": false
   }
  },
  {
   "cell_type": "code",
   "execution_count": 29,
   "outputs": [],
   "source": [
    "df=pd.read_excel('score.xlsx', index_col='지원번호')"
   ],
   "metadata": {
    "collapsed": false
   }
  },
  {
   "cell_type": "code",
   "execution_count": 31,
   "outputs": [
    {
     "data": {
      "text/plain": "       이름   학교    키   국어   영어   수학  과학  사회        SW특기\n지원번호                                                  \n1번    채치수  북산고  197   90   85  100  95  85      Python\n2번    정대만  북산고  184   40   35   50  55  25        Java\n3번    송태섭  북산고  168   80   75   70  80  75  Javascript\n4번    서태웅  북산고  187   40   60   70  75  80         NaN\n5번    강백호  북산고  188   15   20   10  35  10         NaN\n6번    변덕규  능남고  202   80  100   95  85  80           C\n7번    황태산  능남고  188   55   65   45  40  35      PYTHON\n8번    윤대협  능남고  190  100   85   90  95  95          C#",
      "text/html": "<div>\n<style scoped>\n    .dataframe tbody tr th:only-of-type {\n        vertical-align: middle;\n    }\n\n    .dataframe tbody tr th {\n        vertical-align: top;\n    }\n\n    .dataframe thead th {\n        text-align: right;\n    }\n</style>\n<table border=\"1\" class=\"dataframe\">\n  <thead>\n    <tr style=\"text-align: right;\">\n      <th></th>\n      <th>이름</th>\n      <th>학교</th>\n      <th>키</th>\n      <th>국어</th>\n      <th>영어</th>\n      <th>수학</th>\n      <th>과학</th>\n      <th>사회</th>\n      <th>SW특기</th>\n    </tr>\n    <tr>\n      <th>지원번호</th>\n      <th></th>\n      <th></th>\n      <th></th>\n      <th></th>\n      <th></th>\n      <th></th>\n      <th></th>\n      <th></th>\n      <th></th>\n    </tr>\n  </thead>\n  <tbody>\n    <tr>\n      <th>1번</th>\n      <td>채치수</td>\n      <td>북산고</td>\n      <td>197</td>\n      <td>90</td>\n      <td>85</td>\n      <td>100</td>\n      <td>95</td>\n      <td>85</td>\n      <td>Python</td>\n    </tr>\n    <tr>\n      <th>2번</th>\n      <td>정대만</td>\n      <td>북산고</td>\n      <td>184</td>\n      <td>40</td>\n      <td>35</td>\n      <td>50</td>\n      <td>55</td>\n      <td>25</td>\n      <td>Java</td>\n    </tr>\n    <tr>\n      <th>3번</th>\n      <td>송태섭</td>\n      <td>북산고</td>\n      <td>168</td>\n      <td>80</td>\n      <td>75</td>\n      <td>70</td>\n      <td>80</td>\n      <td>75</td>\n      <td>Javascript</td>\n    </tr>\n    <tr>\n      <th>4번</th>\n      <td>서태웅</td>\n      <td>북산고</td>\n      <td>187</td>\n      <td>40</td>\n      <td>60</td>\n      <td>70</td>\n      <td>75</td>\n      <td>80</td>\n      <td>NaN</td>\n    </tr>\n    <tr>\n      <th>5번</th>\n      <td>강백호</td>\n      <td>북산고</td>\n      <td>188</td>\n      <td>15</td>\n      <td>20</td>\n      <td>10</td>\n      <td>35</td>\n      <td>10</td>\n      <td>NaN</td>\n    </tr>\n    <tr>\n      <th>6번</th>\n      <td>변덕규</td>\n      <td>능남고</td>\n      <td>202</td>\n      <td>80</td>\n      <td>100</td>\n      <td>95</td>\n      <td>85</td>\n      <td>80</td>\n      <td>C</td>\n    </tr>\n    <tr>\n      <th>7번</th>\n      <td>황태산</td>\n      <td>능남고</td>\n      <td>188</td>\n      <td>55</td>\n      <td>65</td>\n      <td>45</td>\n      <td>40</td>\n      <td>35</td>\n      <td>PYTHON</td>\n    </tr>\n    <tr>\n      <th>8번</th>\n      <td>윤대협</td>\n      <td>능남고</td>\n      <td>190</td>\n      <td>100</td>\n      <td>85</td>\n      <td>90</td>\n      <td>95</td>\n      <td>95</td>\n      <td>C#</td>\n    </tr>\n  </tbody>\n</table>\n</div>"
     },
     "execution_count": 31,
     "metadata": {},
     "output_type": "execute_result"
    }
   ],
   "source": [
    "df"
   ],
   "metadata": {
    "collapsed": false
   }
  },
  {
   "cell_type": "code",
   "execution_count": 32,
   "outputs": [
    {
     "data": {
      "text/plain": "이름         채치수\n학교         북산고\n키          197\n국어          90\n영어          85\n수학         100\n과학          95\n사회          85\nSW특기    Python\nName: 1번, dtype: object"
     },
     "execution_count": 32,
     "metadata": {},
     "output_type": "execute_result"
    }
   ],
   "source": [
    "df.loc['1번']"
   ],
   "metadata": {
    "collapsed": false
   }
  },
  {
   "cell_type": "code",
   "execution_count": 33,
   "outputs": [
    {
     "data": {
      "text/plain": "90"
     },
     "execution_count": 33,
     "metadata": {},
     "output_type": "execute_result"
    }
   ],
   "source": [
    "df.loc['1번','국어'] #인덱스 1번에 해당하는 국어 데이터"
   ],
   "metadata": {
    "collapsed": false
   }
  },
  {
   "cell_type": "code",
   "execution_count": 34,
   "outputs": [
    {
     "data": {
      "text/plain": "       이름   학교    키  국어  영어   수학  과학  사회    SW특기\n지원번호                                            \n1번    채치수  북산고  197  90  85  100  95  85  Python\n2번    정대만  북산고  184  40  35   50  55  25    Java",
      "text/html": "<div>\n<style scoped>\n    .dataframe tbody tr th:only-of-type {\n        vertical-align: middle;\n    }\n\n    .dataframe tbody tr th {\n        vertical-align: top;\n    }\n\n    .dataframe thead th {\n        text-align: right;\n    }\n</style>\n<table border=\"1\" class=\"dataframe\">\n  <thead>\n    <tr style=\"text-align: right;\">\n      <th></th>\n      <th>이름</th>\n      <th>학교</th>\n      <th>키</th>\n      <th>국어</th>\n      <th>영어</th>\n      <th>수학</th>\n      <th>과학</th>\n      <th>사회</th>\n      <th>SW특기</th>\n    </tr>\n    <tr>\n      <th>지원번호</th>\n      <th></th>\n      <th></th>\n      <th></th>\n      <th></th>\n      <th></th>\n      <th></th>\n      <th></th>\n      <th></th>\n      <th></th>\n    </tr>\n  </thead>\n  <tbody>\n    <tr>\n      <th>1번</th>\n      <td>채치수</td>\n      <td>북산고</td>\n      <td>197</td>\n      <td>90</td>\n      <td>85</td>\n      <td>100</td>\n      <td>95</td>\n      <td>85</td>\n      <td>Python</td>\n    </tr>\n    <tr>\n      <th>2번</th>\n      <td>정대만</td>\n      <td>북산고</td>\n      <td>184</td>\n      <td>40</td>\n      <td>35</td>\n      <td>50</td>\n      <td>55</td>\n      <td>25</td>\n      <td>Java</td>\n    </tr>\n  </tbody>\n</table>\n</div>"
     },
     "execution_count": 34,
     "metadata": {},
     "output_type": "execute_result"
    }
   ],
   "source": [
    "df.loc[['1번','2번']]"
   ],
   "metadata": {
    "collapsed": false
   }
  },
  {
   "cell_type": "code",
   "execution_count": 35,
   "outputs": [
    {
     "data": {
      "text/plain": "지원번호\n1번    90\n2번    40\nName: 국어, dtype: int64"
     },
     "execution_count": 35,
     "metadata": {},
     "output_type": "execute_result"
    }
   ],
   "source": [
    "df.loc[['1번','2번'],'국어']\n"
   ],
   "metadata": {
    "collapsed": false
   }
  },
  {
   "cell_type": "code",
   "execution_count": 36,
   "outputs": [
    {
     "ename": "IndexingError",
     "evalue": "Too many indexers",
     "output_type": "error",
     "traceback": [
      "\u001B[0;31m---------------------------------------------------------------------------\u001B[0m",
      "\u001B[0;31mIndexingError\u001B[0m                             Traceback (most recent call last)",
      "\u001B[0;32m/var/folders/r4/h5tmjmlj1wj54cmxzmf66mw40000gn/T/ipykernel_49441/891436162.py\u001B[0m in \u001B[0;36m<module>\u001B[0;34m\u001B[0m\n\u001B[0;32m----> 1\u001B[0;31m \u001B[0mdf\u001B[0m\u001B[0;34m.\u001B[0m\u001B[0mloc\u001B[0m\u001B[0;34m[\u001B[0m\u001B[0;34m[\u001B[0m\u001B[0;34m'1번'\u001B[0m\u001B[0;34m,\u001B[0m\u001B[0;34m'2번'\u001B[0m\u001B[0;34m]\u001B[0m\u001B[0;34m,\u001B[0m\u001B[0;34m'영어'\u001B[0m\u001B[0;34m,\u001B[0m\u001B[0;34m'수학'\u001B[0m\u001B[0;34m]\u001B[0m\u001B[0;34m\u001B[0m\u001B[0;34m\u001B[0m\u001B[0m\n\u001B[0m",
      "\u001B[0;32m~/opt/anaconda3/lib/python3.9/site-packages/pandas/core/indexing.py\u001B[0m in \u001B[0;36m__getitem__\u001B[0;34m(self, key)\u001B[0m\n\u001B[1;32m    923\u001B[0m                 \u001B[0;32mwith\u001B[0m \u001B[0msuppress\u001B[0m\u001B[0;34m(\u001B[0m\u001B[0mKeyError\u001B[0m\u001B[0;34m,\u001B[0m \u001B[0mIndexError\u001B[0m\u001B[0;34m)\u001B[0m\u001B[0;34m:\u001B[0m\u001B[0;34m\u001B[0m\u001B[0;34m\u001B[0m\u001B[0m\n\u001B[1;32m    924\u001B[0m                     \u001B[0;32mreturn\u001B[0m \u001B[0mself\u001B[0m\u001B[0;34m.\u001B[0m\u001B[0mobj\u001B[0m\u001B[0;34m.\u001B[0m\u001B[0m_get_value\u001B[0m\u001B[0;34m(\u001B[0m\u001B[0;34m*\u001B[0m\u001B[0mkey\u001B[0m\u001B[0;34m,\u001B[0m \u001B[0mtakeable\u001B[0m\u001B[0;34m=\u001B[0m\u001B[0mself\u001B[0m\u001B[0;34m.\u001B[0m\u001B[0m_takeable\u001B[0m\u001B[0;34m)\u001B[0m\u001B[0;34m\u001B[0m\u001B[0;34m\u001B[0m\u001B[0m\n\u001B[0;32m--> 925\u001B[0;31m             \u001B[0;32mreturn\u001B[0m \u001B[0mself\u001B[0m\u001B[0;34m.\u001B[0m\u001B[0m_getitem_tuple\u001B[0m\u001B[0;34m(\u001B[0m\u001B[0mkey\u001B[0m\u001B[0;34m)\u001B[0m\u001B[0;34m\u001B[0m\u001B[0;34m\u001B[0m\u001B[0m\n\u001B[0m\u001B[1;32m    926\u001B[0m         \u001B[0;32melse\u001B[0m\u001B[0;34m:\u001B[0m\u001B[0;34m\u001B[0m\u001B[0;34m\u001B[0m\u001B[0m\n\u001B[1;32m    927\u001B[0m             \u001B[0;31m# we by definition only have the 0th axis\u001B[0m\u001B[0;34m\u001B[0m\u001B[0;34m\u001B[0m\u001B[0m\n",
      "\u001B[0;32m~/opt/anaconda3/lib/python3.9/site-packages/pandas/core/indexing.py\u001B[0m in \u001B[0;36m_getitem_tuple\u001B[0;34m(self, tup)\u001B[0m\n\u001B[1;32m   1101\u001B[0m \u001B[0;34m\u001B[0m\u001B[0m\n\u001B[1;32m   1102\u001B[0m         \u001B[0;31m# no multi-index, so validate all of the indexers\u001B[0m\u001B[0;34m\u001B[0m\u001B[0;34m\u001B[0m\u001B[0m\n\u001B[0;32m-> 1103\u001B[0;31m         \u001B[0mself\u001B[0m\u001B[0;34m.\u001B[0m\u001B[0m_has_valid_tuple\u001B[0m\u001B[0;34m(\u001B[0m\u001B[0mtup\u001B[0m\u001B[0;34m)\u001B[0m\u001B[0;34m\u001B[0m\u001B[0;34m\u001B[0m\u001B[0m\n\u001B[0m\u001B[1;32m   1104\u001B[0m \u001B[0;34m\u001B[0m\u001B[0m\n\u001B[1;32m   1105\u001B[0m         \u001B[0;31m# ugly hack for GH #836\u001B[0m\u001B[0;34m\u001B[0m\u001B[0;34m\u001B[0m\u001B[0m\n",
      "\u001B[0;32m~/opt/anaconda3/lib/python3.9/site-packages/pandas/core/indexing.py\u001B[0m in \u001B[0;36m_has_valid_tuple\u001B[0;34m(self, key)\u001B[0m\n\u001B[1;32m    749\u001B[0m         \u001B[0mCheck\u001B[0m \u001B[0mthe\u001B[0m \u001B[0mkey\u001B[0m \u001B[0;32mfor\u001B[0m \u001B[0mvalid\u001B[0m \u001B[0mkeys\u001B[0m \u001B[0macross\u001B[0m \u001B[0mmy\u001B[0m \u001B[0mindexer\u001B[0m\u001B[0;34m.\u001B[0m\u001B[0;34m\u001B[0m\u001B[0;34m\u001B[0m\u001B[0m\n\u001B[1;32m    750\u001B[0m         \"\"\"\n\u001B[0;32m--> 751\u001B[0;31m         \u001B[0mself\u001B[0m\u001B[0;34m.\u001B[0m\u001B[0m_validate_key_length\u001B[0m\u001B[0;34m(\u001B[0m\u001B[0mkey\u001B[0m\u001B[0;34m)\u001B[0m\u001B[0;34m\u001B[0m\u001B[0;34m\u001B[0m\u001B[0m\n\u001B[0m\u001B[1;32m    752\u001B[0m         \u001B[0;32mfor\u001B[0m \u001B[0mi\u001B[0m\u001B[0;34m,\u001B[0m \u001B[0mk\u001B[0m \u001B[0;32min\u001B[0m \u001B[0menumerate\u001B[0m\u001B[0;34m(\u001B[0m\u001B[0mkey\u001B[0m\u001B[0;34m)\u001B[0m\u001B[0;34m:\u001B[0m\u001B[0;34m\u001B[0m\u001B[0;34m\u001B[0m\u001B[0m\n\u001B[1;32m    753\u001B[0m             \u001B[0;32mtry\u001B[0m\u001B[0;34m:\u001B[0m\u001B[0;34m\u001B[0m\u001B[0;34m\u001B[0m\u001B[0m\n",
      "\u001B[0;32m~/opt/anaconda3/lib/python3.9/site-packages/pandas/core/indexing.py\u001B[0m in \u001B[0;36m_validate_key_length\u001B[0;34m(self, key)\u001B[0m\n\u001B[1;32m    790\u001B[0m     \u001B[0;32mdef\u001B[0m \u001B[0m_validate_key_length\u001B[0m\u001B[0;34m(\u001B[0m\u001B[0mself\u001B[0m\u001B[0;34m,\u001B[0m \u001B[0mkey\u001B[0m\u001B[0;34m:\u001B[0m \u001B[0mSequence\u001B[0m\u001B[0;34m[\u001B[0m\u001B[0mAny\u001B[0m\u001B[0;34m]\u001B[0m\u001B[0;34m)\u001B[0m \u001B[0;34m->\u001B[0m \u001B[0;32mNone\u001B[0m\u001B[0;34m:\u001B[0m\u001B[0;34m\u001B[0m\u001B[0;34m\u001B[0m\u001B[0m\n\u001B[1;32m    791\u001B[0m         \u001B[0;32mif\u001B[0m \u001B[0mlen\u001B[0m\u001B[0;34m(\u001B[0m\u001B[0mkey\u001B[0m\u001B[0;34m)\u001B[0m \u001B[0;34m>\u001B[0m \u001B[0mself\u001B[0m\u001B[0;34m.\u001B[0m\u001B[0mndim\u001B[0m\u001B[0;34m:\u001B[0m\u001B[0;34m\u001B[0m\u001B[0;34m\u001B[0m\u001B[0m\n\u001B[0;32m--> 792\u001B[0;31m             \u001B[0;32mraise\u001B[0m \u001B[0mIndexingError\u001B[0m\u001B[0;34m(\u001B[0m\u001B[0;34m\"Too many indexers\"\u001B[0m\u001B[0;34m)\u001B[0m\u001B[0;34m\u001B[0m\u001B[0;34m\u001B[0m\u001B[0m\n\u001B[0m\u001B[1;32m    793\u001B[0m \u001B[0;34m\u001B[0m\u001B[0m\n\u001B[1;32m    794\u001B[0m     \u001B[0;32mdef\u001B[0m \u001B[0m_getitem_tuple_same_dim\u001B[0m\u001B[0;34m(\u001B[0m\u001B[0mself\u001B[0m\u001B[0;34m,\u001B[0m \u001B[0mtup\u001B[0m\u001B[0;34m:\u001B[0m \u001B[0mtuple\u001B[0m\u001B[0;34m)\u001B[0m\u001B[0;34m:\u001B[0m\u001B[0;34m\u001B[0m\u001B[0;34m\u001B[0m\u001B[0m\n",
      "\u001B[0;31mIndexingError\u001B[0m: Too many indexers"
     ]
    }
   ],
   "source": [
    "df.loc[['1번','2번'],'영어','수학']"
   ],
   "metadata": {
    "collapsed": false
   }
  },
  {
   "cell_type": "code",
   "execution_count": 37,
   "outputs": [
    {
     "data": {
      "text/plain": "      영어   수학\n지원번호         \n1번    85  100\n2번    35   50",
      "text/html": "<div>\n<style scoped>\n    .dataframe tbody tr th:only-of-type {\n        vertical-align: middle;\n    }\n\n    .dataframe tbody tr th {\n        vertical-align: top;\n    }\n\n    .dataframe thead th {\n        text-align: right;\n    }\n</style>\n<table border=\"1\" class=\"dataframe\">\n  <thead>\n    <tr style=\"text-align: right;\">\n      <th></th>\n      <th>영어</th>\n      <th>수학</th>\n    </tr>\n    <tr>\n      <th>지원번호</th>\n      <th></th>\n      <th></th>\n    </tr>\n  </thead>\n  <tbody>\n    <tr>\n      <th>1번</th>\n      <td>85</td>\n      <td>100</td>\n    </tr>\n    <tr>\n      <th>2번</th>\n      <td>35</td>\n      <td>50</td>\n    </tr>\n  </tbody>\n</table>\n</div>"
     },
     "execution_count": 37,
     "metadata": {},
     "output_type": "execute_result"
    }
   ],
   "source": [
    "df.loc[['1번','2번'],['영어','수학']]\n"
   ],
   "metadata": {
    "collapsed": false
   }
  },
  {
   "cell_type": "code",
   "execution_count": 38,
   "outputs": [
    {
     "data": {
      "text/plain": "      국어  영어   수학  과학  사회\n지원번호                     \n1번    90  85  100  95  85\n2번    40  35   50  55  25\n3번    80  75   70  80  75\n4번    40  60   70  75  80\n5번    15  20   10  35  10",
      "text/html": "<div>\n<style scoped>\n    .dataframe tbody tr th:only-of-type {\n        vertical-align: middle;\n    }\n\n    .dataframe tbody tr th {\n        vertical-align: top;\n    }\n\n    .dataframe thead th {\n        text-align: right;\n    }\n</style>\n<table border=\"1\" class=\"dataframe\">\n  <thead>\n    <tr style=\"text-align: right;\">\n      <th></th>\n      <th>국어</th>\n      <th>영어</th>\n      <th>수학</th>\n      <th>과학</th>\n      <th>사회</th>\n    </tr>\n    <tr>\n      <th>지원번호</th>\n      <th></th>\n      <th></th>\n      <th></th>\n      <th></th>\n      <th></th>\n    </tr>\n  </thead>\n  <tbody>\n    <tr>\n      <th>1번</th>\n      <td>90</td>\n      <td>85</td>\n      <td>100</td>\n      <td>95</td>\n      <td>85</td>\n    </tr>\n    <tr>\n      <th>2번</th>\n      <td>40</td>\n      <td>35</td>\n      <td>50</td>\n      <td>55</td>\n      <td>25</td>\n    </tr>\n    <tr>\n      <th>3번</th>\n      <td>80</td>\n      <td>75</td>\n      <td>70</td>\n      <td>80</td>\n      <td>75</td>\n    </tr>\n    <tr>\n      <th>4번</th>\n      <td>40</td>\n      <td>60</td>\n      <td>70</td>\n      <td>75</td>\n      <td>80</td>\n    </tr>\n    <tr>\n      <th>5번</th>\n      <td>15</td>\n      <td>20</td>\n      <td>10</td>\n      <td>35</td>\n      <td>10</td>\n    </tr>\n  </tbody>\n</table>\n</div>"
     },
     "execution_count": 38,
     "metadata": {},
     "output_type": "execute_result"
    }
   ],
   "source": [
    "df.loc['1번':'5번','국어':'사회']"
   ],
   "metadata": {
    "collapsed": false
   }
  },
  {
   "cell_type": "markdown",
   "source": [
    "# 데이터 선택(iloc)"
   ],
   "metadata": {
    "collapsed": false
   }
  },
  {
   "cell_type": "code",
   "execution_count": 39,
   "outputs": [
    {
     "data": {
      "text/plain": "이름         채치수\n학교         북산고\n키          197\n국어          90\n영어          85\n수학         100\n과학          95\n사회          85\nSW특기    Python\nName: 1번, dtype: object"
     },
     "execution_count": 39,
     "metadata": {},
     "output_type": "execute_result"
    }
   ],
   "source": [
    "df.iloc[0]"
   ],
   "metadata": {
    "collapsed": false
   }
  },
  {
   "cell_type": "code",
   "execution_count": 40,
   "outputs": [
    {
     "data": {
      "text/plain": "이름      강백호\n학교      북산고\n키       188\n국어       15\n영어       20\n수학       10\n과학       35\n사회       10\nSW특기    NaN\nName: 5번, dtype: object"
     },
     "execution_count": 40,
     "metadata": {},
     "output_type": "execute_result"
    }
   ],
   "source": [
    "df.iloc[4]"
   ],
   "metadata": {
    "collapsed": false
   }
  },
  {
   "cell_type": "code",
   "execution_count": 41,
   "outputs": [
    {
     "data": {
      "text/plain": "       이름   학교    키  국어  영어   수학  과학  사회        SW특기\n지원번호                                                \n1번    채치수  북산고  197  90  85  100  95  85      Python\n2번    정대만  북산고  184  40  35   50  55  25        Java\n3번    송태섭  북산고  168  80  75   70  80  75  Javascript\n4번    서태웅  북산고  187  40  60   70  75  80         NaN\n5번    강백호  북산고  188  15  20   10  35  10         NaN",
      "text/html": "<div>\n<style scoped>\n    .dataframe tbody tr th:only-of-type {\n        vertical-align: middle;\n    }\n\n    .dataframe tbody tr th {\n        vertical-align: top;\n    }\n\n    .dataframe thead th {\n        text-align: right;\n    }\n</style>\n<table border=\"1\" class=\"dataframe\">\n  <thead>\n    <tr style=\"text-align: right;\">\n      <th></th>\n      <th>이름</th>\n      <th>학교</th>\n      <th>키</th>\n      <th>국어</th>\n      <th>영어</th>\n      <th>수학</th>\n      <th>과학</th>\n      <th>사회</th>\n      <th>SW특기</th>\n    </tr>\n    <tr>\n      <th>지원번호</th>\n      <th></th>\n      <th></th>\n      <th></th>\n      <th></th>\n      <th></th>\n      <th></th>\n      <th></th>\n      <th></th>\n      <th></th>\n    </tr>\n  </thead>\n  <tbody>\n    <tr>\n      <th>1번</th>\n      <td>채치수</td>\n      <td>북산고</td>\n      <td>197</td>\n      <td>90</td>\n      <td>85</td>\n      <td>100</td>\n      <td>95</td>\n      <td>85</td>\n      <td>Python</td>\n    </tr>\n    <tr>\n      <th>2번</th>\n      <td>정대만</td>\n      <td>북산고</td>\n      <td>184</td>\n      <td>40</td>\n      <td>35</td>\n      <td>50</td>\n      <td>55</td>\n      <td>25</td>\n      <td>Java</td>\n    </tr>\n    <tr>\n      <th>3번</th>\n      <td>송태섭</td>\n      <td>북산고</td>\n      <td>168</td>\n      <td>80</td>\n      <td>75</td>\n      <td>70</td>\n      <td>80</td>\n      <td>75</td>\n      <td>Javascript</td>\n    </tr>\n    <tr>\n      <th>4번</th>\n      <td>서태웅</td>\n      <td>북산고</td>\n      <td>187</td>\n      <td>40</td>\n      <td>60</td>\n      <td>70</td>\n      <td>75</td>\n      <td>80</td>\n      <td>NaN</td>\n    </tr>\n    <tr>\n      <th>5번</th>\n      <td>강백호</td>\n      <td>북산고</td>\n      <td>188</td>\n      <td>15</td>\n      <td>20</td>\n      <td>10</td>\n      <td>35</td>\n      <td>10</td>\n      <td>NaN</td>\n    </tr>\n  </tbody>\n</table>\n</div>"
     },
     "execution_count": 41,
     "metadata": {},
     "output_type": "execute_result"
    }
   ],
   "source": [
    "df.iloc[0:5]\n"
   ],
   "metadata": {
    "collapsed": false
   }
  },
  {
   "cell_type": "code",
   "execution_count": 42,
   "outputs": [
    {
     "ename": "ValueError",
     "evalue": "Location based indexing can only have [integer, integer slice (START point is INCLUDED, END point is EXCLUDED), listlike of integers, boolean array] types",
     "output_type": "error",
     "traceback": [
      "\u001B[0;31m---------------------------------------------------------------------------\u001B[0m",
      "\u001B[0;31mValueError\u001B[0m                                Traceback (most recent call last)",
      "\u001B[0;32m~/opt/anaconda3/lib/python3.9/site-packages/pandas/core/indexing.py\u001B[0m in \u001B[0;36m_has_valid_tuple\u001B[0;34m(self, key)\u001B[0m\n\u001B[1;32m    753\u001B[0m             \u001B[0;32mtry\u001B[0m\u001B[0;34m:\u001B[0m\u001B[0;34m\u001B[0m\u001B[0;34m\u001B[0m\u001B[0m\n\u001B[0;32m--> 754\u001B[0;31m                 \u001B[0mself\u001B[0m\u001B[0;34m.\u001B[0m\u001B[0m_validate_key\u001B[0m\u001B[0;34m(\u001B[0m\u001B[0mk\u001B[0m\u001B[0;34m,\u001B[0m \u001B[0mi\u001B[0m\u001B[0;34m)\u001B[0m\u001B[0;34m\u001B[0m\u001B[0;34m\u001B[0m\u001B[0m\n\u001B[0m\u001B[1;32m    755\u001B[0m             \u001B[0;32mexcept\u001B[0m \u001B[0mValueError\u001B[0m \u001B[0;32mas\u001B[0m \u001B[0merr\u001B[0m\u001B[0;34m:\u001B[0m\u001B[0;34m\u001B[0m\u001B[0;34m\u001B[0m\u001B[0m\n",
      "\u001B[0;32m~/opt/anaconda3/lib/python3.9/site-packages/pandas/core/indexing.py\u001B[0m in \u001B[0;36m_validate_key\u001B[0;34m(self, key, axis)\u001B[0m\n\u001B[1;32m   1425\u001B[0m         \u001B[0;32melse\u001B[0m\u001B[0;34m:\u001B[0m\u001B[0;34m\u001B[0m\u001B[0;34m\u001B[0m\u001B[0m\n\u001B[0;32m-> 1426\u001B[0;31m             \u001B[0;32mraise\u001B[0m \u001B[0mValueError\u001B[0m\u001B[0;34m(\u001B[0m\u001B[0;34mf\"Can only index by location with a [{self._valid_types}]\"\u001B[0m\u001B[0;34m)\u001B[0m\u001B[0;34m\u001B[0m\u001B[0;34m\u001B[0m\u001B[0m\n\u001B[0m\u001B[1;32m   1427\u001B[0m \u001B[0;34m\u001B[0m\u001B[0m\n",
      "\u001B[0;31mValueError\u001B[0m: Can only index by location with a [integer, integer slice (START point is INCLUDED, END point is EXCLUDED), listlike of integers, boolean array]",
      "\nThe above exception was the direct cause of the following exception:\n",
      "\u001B[0;31mValueError\u001B[0m                                Traceback (most recent call last)",
      "\u001B[0;32m/var/folders/r4/h5tmjmlj1wj54cmxzmf66mw40000gn/T/ipykernel_49441/2536876627.py\u001B[0m in \u001B[0;36m<module>\u001B[0;34m\u001B[0m\n\u001B[0;32m----> 1\u001B[0;31m \u001B[0mdf\u001B[0m\u001B[0;34m.\u001B[0m\u001B[0miloc\u001B[0m\u001B[0;34m[\u001B[0m\u001B[0;36m0\u001B[0m\u001B[0;34m,\u001B[0m\u001B[0;34m'학교'\u001B[0m\u001B[0;34m]\u001B[0m\u001B[0;34m\u001B[0m\u001B[0;34m\u001B[0m\u001B[0m\n\u001B[0m",
      "\u001B[0;32m~/opt/anaconda3/lib/python3.9/site-packages/pandas/core/indexing.py\u001B[0m in \u001B[0;36m__getitem__\u001B[0;34m(self, key)\u001B[0m\n\u001B[1;32m    923\u001B[0m                 \u001B[0;32mwith\u001B[0m \u001B[0msuppress\u001B[0m\u001B[0;34m(\u001B[0m\u001B[0mKeyError\u001B[0m\u001B[0;34m,\u001B[0m \u001B[0mIndexError\u001B[0m\u001B[0;34m)\u001B[0m\u001B[0;34m:\u001B[0m\u001B[0;34m\u001B[0m\u001B[0;34m\u001B[0m\u001B[0m\n\u001B[1;32m    924\u001B[0m                     \u001B[0;32mreturn\u001B[0m \u001B[0mself\u001B[0m\u001B[0;34m.\u001B[0m\u001B[0mobj\u001B[0m\u001B[0;34m.\u001B[0m\u001B[0m_get_value\u001B[0m\u001B[0;34m(\u001B[0m\u001B[0;34m*\u001B[0m\u001B[0mkey\u001B[0m\u001B[0;34m,\u001B[0m \u001B[0mtakeable\u001B[0m\u001B[0;34m=\u001B[0m\u001B[0mself\u001B[0m\u001B[0;34m.\u001B[0m\u001B[0m_takeable\u001B[0m\u001B[0;34m)\u001B[0m\u001B[0;34m\u001B[0m\u001B[0;34m\u001B[0m\u001B[0m\n\u001B[0;32m--> 925\u001B[0;31m             \u001B[0;32mreturn\u001B[0m \u001B[0mself\u001B[0m\u001B[0;34m.\u001B[0m\u001B[0m_getitem_tuple\u001B[0m\u001B[0;34m(\u001B[0m\u001B[0mkey\u001B[0m\u001B[0;34m)\u001B[0m\u001B[0;34m\u001B[0m\u001B[0;34m\u001B[0m\u001B[0m\n\u001B[0m\u001B[1;32m    926\u001B[0m         \u001B[0;32melse\u001B[0m\u001B[0;34m:\u001B[0m\u001B[0;34m\u001B[0m\u001B[0;34m\u001B[0m\u001B[0m\n\u001B[1;32m    927\u001B[0m             \u001B[0;31m# we by definition only have the 0th axis\u001B[0m\u001B[0;34m\u001B[0m\u001B[0;34m\u001B[0m\u001B[0m\n",
      "\u001B[0;32m~/opt/anaconda3/lib/python3.9/site-packages/pandas/core/indexing.py\u001B[0m in \u001B[0;36m_getitem_tuple\u001B[0;34m(self, tup)\u001B[0m\n\u001B[1;32m   1504\u001B[0m     \u001B[0;32mdef\u001B[0m \u001B[0m_getitem_tuple\u001B[0m\u001B[0;34m(\u001B[0m\u001B[0mself\u001B[0m\u001B[0;34m,\u001B[0m \u001B[0mtup\u001B[0m\u001B[0;34m:\u001B[0m \u001B[0mtuple\u001B[0m\u001B[0;34m)\u001B[0m\u001B[0;34m:\u001B[0m\u001B[0;34m\u001B[0m\u001B[0;34m\u001B[0m\u001B[0m\n\u001B[1;32m   1505\u001B[0m \u001B[0;34m\u001B[0m\u001B[0m\n\u001B[0;32m-> 1506\u001B[0;31m         \u001B[0mself\u001B[0m\u001B[0;34m.\u001B[0m\u001B[0m_has_valid_tuple\u001B[0m\u001B[0;34m(\u001B[0m\u001B[0mtup\u001B[0m\u001B[0;34m)\u001B[0m\u001B[0;34m\u001B[0m\u001B[0;34m\u001B[0m\u001B[0m\n\u001B[0m\u001B[1;32m   1507\u001B[0m         \u001B[0;32mwith\u001B[0m \u001B[0msuppress\u001B[0m\u001B[0;34m(\u001B[0m\u001B[0mIndexingError\u001B[0m\u001B[0;34m)\u001B[0m\u001B[0;34m:\u001B[0m\u001B[0;34m\u001B[0m\u001B[0;34m\u001B[0m\u001B[0m\n\u001B[1;32m   1508\u001B[0m             \u001B[0;32mreturn\u001B[0m \u001B[0mself\u001B[0m\u001B[0;34m.\u001B[0m\u001B[0m_getitem_lowerdim\u001B[0m\u001B[0;34m(\u001B[0m\u001B[0mtup\u001B[0m\u001B[0;34m)\u001B[0m\u001B[0;34m\u001B[0m\u001B[0;34m\u001B[0m\u001B[0m\n",
      "\u001B[0;32m~/opt/anaconda3/lib/python3.9/site-packages/pandas/core/indexing.py\u001B[0m in \u001B[0;36m_has_valid_tuple\u001B[0;34m(self, key)\u001B[0m\n\u001B[1;32m    754\u001B[0m                 \u001B[0mself\u001B[0m\u001B[0;34m.\u001B[0m\u001B[0m_validate_key\u001B[0m\u001B[0;34m(\u001B[0m\u001B[0mk\u001B[0m\u001B[0;34m,\u001B[0m \u001B[0mi\u001B[0m\u001B[0;34m)\u001B[0m\u001B[0;34m\u001B[0m\u001B[0;34m\u001B[0m\u001B[0m\n\u001B[1;32m    755\u001B[0m             \u001B[0;32mexcept\u001B[0m \u001B[0mValueError\u001B[0m \u001B[0;32mas\u001B[0m \u001B[0merr\u001B[0m\u001B[0;34m:\u001B[0m\u001B[0;34m\u001B[0m\u001B[0;34m\u001B[0m\u001B[0m\n\u001B[0;32m--> 756\u001B[0;31m                 raise ValueError(\n\u001B[0m\u001B[1;32m    757\u001B[0m                     \u001B[0;34m\"Location based indexing can only have \"\u001B[0m\u001B[0;34m\u001B[0m\u001B[0;34m\u001B[0m\u001B[0m\n\u001B[1;32m    758\u001B[0m                     \u001B[0;34mf\"[{self._valid_types}] types\"\u001B[0m\u001B[0;34m\u001B[0m\u001B[0;34m\u001B[0m\u001B[0m\n",
      "\u001B[0;31mValueError\u001B[0m: Location based indexing can only have [integer, integer slice (START point is INCLUDED, END point is EXCLUDED), listlike of integers, boolean array] types"
     ]
    }
   ],
   "source": [
    "df.iloc[0,'학교']"
   ],
   "metadata": {
    "collapsed": false
   }
  },
  {
   "cell_type": "code",
   "execution_count": 43,
   "outputs": [
    {
     "data": {
      "text/plain": "'북산고'"
     },
     "execution_count": 43,
     "metadata": {},
     "output_type": "execute_result"
    }
   ],
   "source": [
    "df.iloc[0,1]\n"
   ],
   "metadata": {
    "collapsed": false
   }
  },
  {
   "cell_type": "code",
   "execution_count": 44,
   "outputs": [
    {
     "data": {
      "text/plain": "188"
     },
     "execution_count": 44,
     "metadata": {},
     "output_type": "execute_result"
    }
   ],
   "source": [
    "df.iloc[4,2]"
   ],
   "metadata": {
    "collapsed": false
   }
  },
  {
   "cell_type": "code",
   "execution_count": 45,
   "outputs": [
    {
     "data": {
      "text/plain": "지원번호\n1번    197\n2번    184\nName: 키, dtype: int64"
     },
     "execution_count": 45,
     "metadata": {},
     "output_type": "execute_result"
    }
   ],
   "source": [
    "df.iloc[[0,1],2]"
   ],
   "metadata": {
    "collapsed": false
   }
  },
  {
   "cell_type": "code",
   "execution_count": 46,
   "outputs": [
    {
     "data": {
      "text/plain": "      국어  영어\n지원번호        \n1번    90  85\n2번    40  35",
      "text/html": "<div>\n<style scoped>\n    .dataframe tbody tr th:only-of-type {\n        vertical-align: middle;\n    }\n\n    .dataframe tbody tr th {\n        vertical-align: top;\n    }\n\n    .dataframe thead th {\n        text-align: right;\n    }\n</style>\n<table border=\"1\" class=\"dataframe\">\n  <thead>\n    <tr style=\"text-align: right;\">\n      <th></th>\n      <th>국어</th>\n      <th>영어</th>\n    </tr>\n    <tr>\n      <th>지원번호</th>\n      <th></th>\n      <th></th>\n    </tr>\n  </thead>\n  <tbody>\n    <tr>\n      <th>1번</th>\n      <td>90</td>\n      <td>85</td>\n    </tr>\n    <tr>\n      <th>2번</th>\n      <td>40</td>\n      <td>35</td>\n    </tr>\n  </tbody>\n</table>\n</div>"
     },
     "execution_count": 46,
     "metadata": {},
     "output_type": "execute_result"
    }
   ],
   "source": [
    "df.iloc[[0,1],[3,4]]"
   ],
   "metadata": {
    "collapsed": false
   }
  },
  {
   "cell_type": "code",
   "execution_count": 47,
   "outputs": [
    {
     "data": {
      "text/plain": "      국어  영어   수학  과학  사회\n지원번호                     \n1번    90  85  100  95  85\n2번    40  35   50  55  25\n3번    80  75   70  80  75\n4번    40  60   70  75  80\n5번    15  20   10  35  10",
      "text/html": "<div>\n<style scoped>\n    .dataframe tbody tr th:only-of-type {\n        vertical-align: middle;\n    }\n\n    .dataframe tbody tr th {\n        vertical-align: top;\n    }\n\n    .dataframe thead th {\n        text-align: right;\n    }\n</style>\n<table border=\"1\" class=\"dataframe\">\n  <thead>\n    <tr style=\"text-align: right;\">\n      <th></th>\n      <th>국어</th>\n      <th>영어</th>\n      <th>수학</th>\n      <th>과학</th>\n      <th>사회</th>\n    </tr>\n    <tr>\n      <th>지원번호</th>\n      <th></th>\n      <th></th>\n      <th></th>\n      <th></th>\n      <th></th>\n    </tr>\n  </thead>\n  <tbody>\n    <tr>\n      <th>1번</th>\n      <td>90</td>\n      <td>85</td>\n      <td>100</td>\n      <td>95</td>\n      <td>85</td>\n    </tr>\n    <tr>\n      <th>2번</th>\n      <td>40</td>\n      <td>35</td>\n      <td>50</td>\n      <td>55</td>\n      <td>25</td>\n    </tr>\n    <tr>\n      <th>3번</th>\n      <td>80</td>\n      <td>75</td>\n      <td>70</td>\n      <td>80</td>\n      <td>75</td>\n    </tr>\n    <tr>\n      <th>4번</th>\n      <td>40</td>\n      <td>60</td>\n      <td>70</td>\n      <td>75</td>\n      <td>80</td>\n    </tr>\n    <tr>\n      <th>5번</th>\n      <td>15</td>\n      <td>20</td>\n      <td>10</td>\n      <td>35</td>\n      <td>10</td>\n    </tr>\n  </tbody>\n</table>\n</div>"
     },
     "execution_count": 47,
     "metadata": {},
     "output_type": "execute_result"
    }
   ],
   "source": [
    "df.iloc[0:5, 3:8] # 0~4 위치의 학생 중에서 3~7(국어~사회)번째 데이터"
   ],
   "metadata": {
    "collapsed": false
   }
  },
  {
   "cell_type": "markdown",
   "source": [
    "# 09.데이터 선택(조건)"
   ],
   "metadata": {
    "collapsed": false
   }
  },
  {
   "cell_type": "code",
   "execution_count": 48,
   "outputs": [
    {
     "data": {
      "text/plain": "지원번호\n1번     True\n2번    False\n3번    False\n4번     True\n5번     True\n6번     True\n7번     True\n8번     True\nName: 키, dtype: bool"
     },
     "execution_count": 48,
     "metadata": {},
     "output_type": "execute_result"
    }
   ],
   "source": [
    "df['키'] >=185"
   ],
   "metadata": {
    "collapsed": false
   }
  },
  {
   "cell_type": "code",
   "execution_count": 49,
   "outputs": [
    {
     "data": {
      "text/plain": "True"
     },
     "execution_count": 49,
     "metadata": {},
     "output_type": "execute_result"
    }
   ],
   "source": [
    "num=df.loc['1번','키']>=185\n",
    "num"
   ],
   "metadata": {
    "collapsed": false
   }
  },
  {
   "cell_type": "code",
   "execution_count": 2,
   "outputs": [
    {
     "ename": "NameError",
     "evalue": "name 'df' is not defined",
     "output_type": "error",
     "traceback": [
      "\u001B[0;31m---------------------------------------------------------------------------\u001B[0m",
      "\u001B[0;31mNameError\u001B[0m                                 Traceback (most recent call last)",
      "\u001B[0;32m/var/folders/r4/h5tmjmlj1wj54cmxzmf66mw40000gn/T/ipykernel_55916/1311274993.py\u001B[0m in \u001B[0;36m<module>\u001B[0;34m\u001B[0m\n\u001B[0;32m----> 1\u001B[0;31m \u001B[0mfilt\u001B[0m \u001B[0;34m=\u001B[0m \u001B[0mdf\u001B[0m\u001B[0;34m[\u001B[0m\u001B[0;34m'키'\u001B[0m\u001B[0;34m]\u001B[0m\u001B[0;34m>=\u001B[0m\u001B[0;36m185\u001B[0m\u001B[0;34m\u001B[0m\u001B[0;34m\u001B[0m\u001B[0m\n\u001B[0m\u001B[1;32m      2\u001B[0m \u001B[0mdf\u001B[0m\u001B[0;34m[\u001B[0m\u001B[0mfilt\u001B[0m\u001B[0;34m]\u001B[0m\u001B[0;34m\u001B[0m\u001B[0;34m\u001B[0m\u001B[0m\n\u001B[1;32m      3\u001B[0m \u001B[0;34m\u001B[0m\u001B[0m\n",
      "\u001B[0;31mNameError\u001B[0m: name 'df' is not defined"
     ]
    }
   ],
   "source": [
    "filt = df['키']>=185\n",
    "df[filt]"
   ],
   "metadata": {
    "collapsed": false
   }
  },
  {
   "cell_type": "code",
   "execution_count": 51,
   "outputs": [
    {
     "data": {
      "text/plain": "       이름   학교    키  국어  영어  수학  과학  사회        SW특기\n지원번호                                               \n2번    정대만  북산고  184  40  35  50  55  25        Java\n3번    송태섭  북산고  168  80  75  70  80  75  Javascript",
      "text/html": "<div>\n<style scoped>\n    .dataframe tbody tr th:only-of-type {\n        vertical-align: middle;\n    }\n\n    .dataframe tbody tr th {\n        vertical-align: top;\n    }\n\n    .dataframe thead th {\n        text-align: right;\n    }\n</style>\n<table border=\"1\" class=\"dataframe\">\n  <thead>\n    <tr style=\"text-align: right;\">\n      <th></th>\n      <th>이름</th>\n      <th>학교</th>\n      <th>키</th>\n      <th>국어</th>\n      <th>영어</th>\n      <th>수학</th>\n      <th>과학</th>\n      <th>사회</th>\n      <th>SW특기</th>\n    </tr>\n    <tr>\n      <th>지원번호</th>\n      <th></th>\n      <th></th>\n      <th></th>\n      <th></th>\n      <th></th>\n      <th></th>\n      <th></th>\n      <th></th>\n      <th></th>\n    </tr>\n  </thead>\n  <tbody>\n    <tr>\n      <th>2번</th>\n      <td>정대만</td>\n      <td>북산고</td>\n      <td>184</td>\n      <td>40</td>\n      <td>35</td>\n      <td>50</td>\n      <td>55</td>\n      <td>25</td>\n      <td>Java</td>\n    </tr>\n    <tr>\n      <th>3번</th>\n      <td>송태섭</td>\n      <td>북산고</td>\n      <td>168</td>\n      <td>80</td>\n      <td>75</td>\n      <td>70</td>\n      <td>80</td>\n      <td>75</td>\n      <td>Javascript</td>\n    </tr>\n  </tbody>\n</table>\n</div>"
     },
     "execution_count": 51,
     "metadata": {},
     "output_type": "execute_result"
    }
   ],
   "source": [
    "df[~filt]"
   ],
   "metadata": {
    "collapsed": false
   }
  },
  {
   "cell_type": "code",
   "execution_count": 52,
   "outputs": [
    {
     "data": {
      "text/plain": "       이름   학교    키   국어   영어   수학  과학  사회    SW특기\n지원번호                                              \n1번    채치수  북산고  197   90   85  100  95  85  Python\n4번    서태웅  북산고  187   40   60   70  75  80     NaN\n5번    강백호  북산고  188   15   20   10  35  10     NaN\n6번    변덕규  능남고  202   80  100   95  85  80       C\n7번    황태산  능남고  188   55   65   45  40  35  PYTHON\n8번    윤대협  능남고  190  100   85   90  95  95      C#",
      "text/html": "<div>\n<style scoped>\n    .dataframe tbody tr th:only-of-type {\n        vertical-align: middle;\n    }\n\n    .dataframe tbody tr th {\n        vertical-align: top;\n    }\n\n    .dataframe thead th {\n        text-align: right;\n    }\n</style>\n<table border=\"1\" class=\"dataframe\">\n  <thead>\n    <tr style=\"text-align: right;\">\n      <th></th>\n      <th>이름</th>\n      <th>학교</th>\n      <th>키</th>\n      <th>국어</th>\n      <th>영어</th>\n      <th>수학</th>\n      <th>과학</th>\n      <th>사회</th>\n      <th>SW특기</th>\n    </tr>\n    <tr>\n      <th>지원번호</th>\n      <th></th>\n      <th></th>\n      <th></th>\n      <th></th>\n      <th></th>\n      <th></th>\n      <th></th>\n      <th></th>\n      <th></th>\n    </tr>\n  </thead>\n  <tbody>\n    <tr>\n      <th>1번</th>\n      <td>채치수</td>\n      <td>북산고</td>\n      <td>197</td>\n      <td>90</td>\n      <td>85</td>\n      <td>100</td>\n      <td>95</td>\n      <td>85</td>\n      <td>Python</td>\n    </tr>\n    <tr>\n      <th>4번</th>\n      <td>서태웅</td>\n      <td>북산고</td>\n      <td>187</td>\n      <td>40</td>\n      <td>60</td>\n      <td>70</td>\n      <td>75</td>\n      <td>80</td>\n      <td>NaN</td>\n    </tr>\n    <tr>\n      <th>5번</th>\n      <td>강백호</td>\n      <td>북산고</td>\n      <td>188</td>\n      <td>15</td>\n      <td>20</td>\n      <td>10</td>\n      <td>35</td>\n      <td>10</td>\n      <td>NaN</td>\n    </tr>\n    <tr>\n      <th>6번</th>\n      <td>변덕규</td>\n      <td>능남고</td>\n      <td>202</td>\n      <td>80</td>\n      <td>100</td>\n      <td>95</td>\n      <td>85</td>\n      <td>80</td>\n      <td>C</td>\n    </tr>\n    <tr>\n      <th>7번</th>\n      <td>황태산</td>\n      <td>능남고</td>\n      <td>188</td>\n      <td>55</td>\n      <td>65</td>\n      <td>45</td>\n      <td>40</td>\n      <td>35</td>\n      <td>PYTHON</td>\n    </tr>\n    <tr>\n      <th>8번</th>\n      <td>윤대협</td>\n      <td>능남고</td>\n      <td>190</td>\n      <td>100</td>\n      <td>85</td>\n      <td>90</td>\n      <td>95</td>\n      <td>95</td>\n      <td>C#</td>\n    </tr>\n  </tbody>\n</table>\n</div>"
     },
     "execution_count": 52,
     "metadata": {},
     "output_type": "execute_result"
    }
   ],
   "source": [
    "df[df['키']>=185]"
   ],
   "metadata": {
    "collapsed": false
   }
  },
  {
   "cell_type": "code",
   "execution_count": 53,
   "outputs": [
    {
     "data": {
      "text/plain": "지원번호\n1번    100\n4번     70\n5번     10\n6번     95\n7번     45\n8번     90\nName: 수학, dtype: int64"
     },
     "execution_count": 53,
     "metadata": {},
     "output_type": "execute_result"
    }
   ],
   "source": [
    "df.loc[df['키']>=185,'수학']"
   ],
   "metadata": {
    "collapsed": false
   }
  },
  {
   "cell_type": "code",
   "execution_count": 54,
   "outputs": [
    {
     "data": {
      "text/plain": "       이름   수학  과학\n지원번호              \n1번    채치수  100  95\n4번    서태웅   70  75\n5번    강백호   10  35\n6번    변덕규   95  85\n7번    황태산   45  40\n8번    윤대협   90  95",
      "text/html": "<div>\n<style scoped>\n    .dataframe tbody tr th:only-of-type {\n        vertical-align: middle;\n    }\n\n    .dataframe tbody tr th {\n        vertical-align: top;\n    }\n\n    .dataframe thead th {\n        text-align: right;\n    }\n</style>\n<table border=\"1\" class=\"dataframe\">\n  <thead>\n    <tr style=\"text-align: right;\">\n      <th></th>\n      <th>이름</th>\n      <th>수학</th>\n      <th>과학</th>\n    </tr>\n    <tr>\n      <th>지원번호</th>\n      <th></th>\n      <th></th>\n      <th></th>\n    </tr>\n  </thead>\n  <tbody>\n    <tr>\n      <th>1번</th>\n      <td>채치수</td>\n      <td>100</td>\n      <td>95</td>\n    </tr>\n    <tr>\n      <th>4번</th>\n      <td>서태웅</td>\n      <td>70</td>\n      <td>75</td>\n    </tr>\n    <tr>\n      <th>5번</th>\n      <td>강백호</td>\n      <td>10</td>\n      <td>35</td>\n    </tr>\n    <tr>\n      <th>6번</th>\n      <td>변덕규</td>\n      <td>95</td>\n      <td>85</td>\n    </tr>\n    <tr>\n      <th>7번</th>\n      <td>황태산</td>\n      <td>45</td>\n      <td>40</td>\n    </tr>\n    <tr>\n      <th>8번</th>\n      <td>윤대협</td>\n      <td>90</td>\n      <td>95</td>\n    </tr>\n  </tbody>\n</table>\n</div>"
     },
     "execution_count": 54,
     "metadata": {},
     "output_type": "execute_result"
    }
   ],
   "source": [
    "df.loc[df['키']>=185,['이름','수학','과학']]\n"
   ],
   "metadata": {
    "collapsed": false
   }
  },
  {
   "cell_type": "markdown",
   "source": [
    "## 다양한 조건\n",
    "### &그리고"
   ],
   "metadata": {
    "collapsed": false
   }
  },
  {
   "cell_type": "code",
   "execution_count": 55,
   "outputs": [
    {
     "data": {
      "text/plain": "       이름   학교    키  국어  영어   수학  과학  사회    SW특기\n지원번호                                            \n1번    채치수  북산고  197  90  85  100  95  85  Python\n4번    서태웅  북산고  187  40  60   70  75  80     NaN\n5번    강백호  북산고  188  15  20   10  35  10     NaN",
      "text/html": "<div>\n<style scoped>\n    .dataframe tbody tr th:only-of-type {\n        vertical-align: middle;\n    }\n\n    .dataframe tbody tr th {\n        vertical-align: top;\n    }\n\n    .dataframe thead th {\n        text-align: right;\n    }\n</style>\n<table border=\"1\" class=\"dataframe\">\n  <thead>\n    <tr style=\"text-align: right;\">\n      <th></th>\n      <th>이름</th>\n      <th>학교</th>\n      <th>키</th>\n      <th>국어</th>\n      <th>영어</th>\n      <th>수학</th>\n      <th>과학</th>\n      <th>사회</th>\n      <th>SW특기</th>\n    </tr>\n    <tr>\n      <th>지원번호</th>\n      <th></th>\n      <th></th>\n      <th></th>\n      <th></th>\n      <th></th>\n      <th></th>\n      <th></th>\n      <th></th>\n      <th></th>\n    </tr>\n  </thead>\n  <tbody>\n    <tr>\n      <th>1번</th>\n      <td>채치수</td>\n      <td>북산고</td>\n      <td>197</td>\n      <td>90</td>\n      <td>85</td>\n      <td>100</td>\n      <td>95</td>\n      <td>85</td>\n      <td>Python</td>\n    </tr>\n    <tr>\n      <th>4번</th>\n      <td>서태웅</td>\n      <td>북산고</td>\n      <td>187</td>\n      <td>40</td>\n      <td>60</td>\n      <td>70</td>\n      <td>75</td>\n      <td>80</td>\n      <td>NaN</td>\n    </tr>\n    <tr>\n      <th>5번</th>\n      <td>강백호</td>\n      <td>북산고</td>\n      <td>188</td>\n      <td>15</td>\n      <td>20</td>\n      <td>10</td>\n      <td>35</td>\n      <td>10</td>\n      <td>NaN</td>\n    </tr>\n  </tbody>\n</table>\n</div>"
     },
     "execution_count": 55,
     "metadata": {},
     "output_type": "execute_result"
    }
   ],
   "source": [
    "df.loc[(df['키']>=185) & (df['학교']=='북산고')]"
   ],
   "metadata": {
    "collapsed": false
   }
  },
  {
   "cell_type": "markdown",
   "source": [
    "### | 또는"
   ],
   "metadata": {
    "collapsed": false
   }
  },
  {
   "cell_type": "code",
   "execution_count": 56,
   "outputs": [
    {
     "data": {
      "text/plain": "       이름   학교    키  국어   영어  수학  과학  사회        SW특기\n지원번호                                                \n3번    송태섭  북산고  168  80   75  70  80  75  Javascript\n6번    변덕규  능남고  202  80  100  95  85  80           C",
      "text/html": "<div>\n<style scoped>\n    .dataframe tbody tr th:only-of-type {\n        vertical-align: middle;\n    }\n\n    .dataframe tbody tr th {\n        vertical-align: top;\n    }\n\n    .dataframe thead th {\n        text-align: right;\n    }\n</style>\n<table border=\"1\" class=\"dataframe\">\n  <thead>\n    <tr style=\"text-align: right;\">\n      <th></th>\n      <th>이름</th>\n      <th>학교</th>\n      <th>키</th>\n      <th>국어</th>\n      <th>영어</th>\n      <th>수학</th>\n      <th>과학</th>\n      <th>사회</th>\n      <th>SW특기</th>\n    </tr>\n    <tr>\n      <th>지원번호</th>\n      <th></th>\n      <th></th>\n      <th></th>\n      <th></th>\n      <th></th>\n      <th></th>\n      <th></th>\n      <th></th>\n      <th></th>\n    </tr>\n  </thead>\n  <tbody>\n    <tr>\n      <th>3번</th>\n      <td>송태섭</td>\n      <td>북산고</td>\n      <td>168</td>\n      <td>80</td>\n      <td>75</td>\n      <td>70</td>\n      <td>80</td>\n      <td>75</td>\n      <td>Javascript</td>\n    </tr>\n    <tr>\n      <th>6번</th>\n      <td>변덕규</td>\n      <td>능남고</td>\n      <td>202</td>\n      <td>80</td>\n      <td>100</td>\n      <td>95</td>\n      <td>85</td>\n      <td>80</td>\n      <td>C</td>\n    </tr>\n  </tbody>\n</table>\n</div>"
     },
     "execution_count": 56,
     "metadata": {},
     "output_type": "execute_result"
    }
   ],
   "source": [
    "df.loc[(df['키']<170) | (df['키'] > 200)]\n"
   ],
   "metadata": {
    "collapsed": false
   }
  },
  {
   "cell_type": "code",
   "execution_count": 57,
   "outputs": [
    {
     "data": {
      "text/plain": "       이름   학교    키  국어  영어  수학  과학  사회        SW특기\n지원번호                                               \n3번    송태섭  북산고  168  80  75  70  80  75  Javascript",
      "text/html": "<div>\n<style scoped>\n    .dataframe tbody tr th:only-of-type {\n        vertical-align: middle;\n    }\n\n    .dataframe tbody tr th {\n        vertical-align: top;\n    }\n\n    .dataframe thead th {\n        text-align: right;\n    }\n</style>\n<table border=\"1\" class=\"dataframe\">\n  <thead>\n    <tr style=\"text-align: right;\">\n      <th></th>\n      <th>이름</th>\n      <th>학교</th>\n      <th>키</th>\n      <th>국어</th>\n      <th>영어</th>\n      <th>수학</th>\n      <th>과학</th>\n      <th>사회</th>\n      <th>SW특기</th>\n    </tr>\n    <tr>\n      <th>지원번호</th>\n      <th></th>\n      <th></th>\n      <th></th>\n      <th></th>\n      <th></th>\n      <th></th>\n      <th></th>\n      <th></th>\n      <th></th>\n    </tr>\n  </thead>\n  <tbody>\n    <tr>\n      <th>3번</th>\n      <td>송태섭</td>\n      <td>북산고</td>\n      <td>168</td>\n      <td>80</td>\n      <td>75</td>\n      <td>70</td>\n      <td>80</td>\n      <td>75</td>\n      <td>Javascript</td>\n    </tr>\n  </tbody>\n</table>\n</div>"
     },
     "execution_count": 57,
     "metadata": {},
     "output_type": "execute_result"
    }
   ],
   "source": [
    "filt = df['이름'].str.startswith('송')\n",
    "df[filt]"
   ],
   "metadata": {
    "collapsed": false
   }
  },
  {
   "cell_type": "code",
   "execution_count": 58,
   "outputs": [
    {
     "data": {
      "text/plain": "       이름   학교    키  국어  영어  수학  과학  사회        SW특기\n지원번호                                               \n3번    송태섭  북산고  168  80  75  70  80  75  Javascript\n4번    서태웅  북산고  187  40  60  70  75  80         NaN\n7번    황태산  능남고  188  55  65  45  40  35      PYTHON",
      "text/html": "<div>\n<style scoped>\n    .dataframe tbody tr th:only-of-type {\n        vertical-align: middle;\n    }\n\n    .dataframe tbody tr th {\n        vertical-align: top;\n    }\n\n    .dataframe thead th {\n        text-align: right;\n    }\n</style>\n<table border=\"1\" class=\"dataframe\">\n  <thead>\n    <tr style=\"text-align: right;\">\n      <th></th>\n      <th>이름</th>\n      <th>학교</th>\n      <th>키</th>\n      <th>국어</th>\n      <th>영어</th>\n      <th>수학</th>\n      <th>과학</th>\n      <th>사회</th>\n      <th>SW특기</th>\n    </tr>\n    <tr>\n      <th>지원번호</th>\n      <th></th>\n      <th></th>\n      <th></th>\n      <th></th>\n      <th></th>\n      <th></th>\n      <th></th>\n      <th></th>\n      <th></th>\n    </tr>\n  </thead>\n  <tbody>\n    <tr>\n      <th>3번</th>\n      <td>송태섭</td>\n      <td>북산고</td>\n      <td>168</td>\n      <td>80</td>\n      <td>75</td>\n      <td>70</td>\n      <td>80</td>\n      <td>75</td>\n      <td>Javascript</td>\n    </tr>\n    <tr>\n      <th>4번</th>\n      <td>서태웅</td>\n      <td>북산고</td>\n      <td>187</td>\n      <td>40</td>\n      <td>60</td>\n      <td>70</td>\n      <td>75</td>\n      <td>80</td>\n      <td>NaN</td>\n    </tr>\n    <tr>\n      <th>7번</th>\n      <td>황태산</td>\n      <td>능남고</td>\n      <td>188</td>\n      <td>55</td>\n      <td>65</td>\n      <td>45</td>\n      <td>40</td>\n      <td>35</td>\n      <td>PYTHON</td>\n    </tr>\n  </tbody>\n</table>\n</div>"
     },
     "execution_count": 58,
     "metadata": {},
     "output_type": "execute_result"
    }
   ],
   "source": [
    "filt = df['이름'].str.contains('태')\n",
    "df[filt]"
   ],
   "metadata": {
    "collapsed": false
   }
  },
  {
   "cell_type": "code",
   "execution_count": 59,
   "outputs": [
    {
     "data": {
      "text/plain": "       이름   학교    키   국어   영어   수학  과학  사회    SW특기\n지원번호                                              \n1번    채치수  북산고  197   90   85  100  95  85  Python\n2번    정대만  북산고  184   40   35   50  55  25    Java\n5번    강백호  북산고  188   15   20   10  35  10     NaN\n6번    변덕규  능남고  202   80  100   95  85  80       C\n8번    윤대협  능남고  190  100   85   90  95  95      C#",
      "text/html": "<div>\n<style scoped>\n    .dataframe tbody tr th:only-of-type {\n        vertical-align: middle;\n    }\n\n    .dataframe tbody tr th {\n        vertical-align: top;\n    }\n\n    .dataframe thead th {\n        text-align: right;\n    }\n</style>\n<table border=\"1\" class=\"dataframe\">\n  <thead>\n    <tr style=\"text-align: right;\">\n      <th></th>\n      <th>이름</th>\n      <th>학교</th>\n      <th>키</th>\n      <th>국어</th>\n      <th>영어</th>\n      <th>수학</th>\n      <th>과학</th>\n      <th>사회</th>\n      <th>SW특기</th>\n    </tr>\n    <tr>\n      <th>지원번호</th>\n      <th></th>\n      <th></th>\n      <th></th>\n      <th></th>\n      <th></th>\n      <th></th>\n      <th></th>\n      <th></th>\n      <th></th>\n    </tr>\n  </thead>\n  <tbody>\n    <tr>\n      <th>1번</th>\n      <td>채치수</td>\n      <td>북산고</td>\n      <td>197</td>\n      <td>90</td>\n      <td>85</td>\n      <td>100</td>\n      <td>95</td>\n      <td>85</td>\n      <td>Python</td>\n    </tr>\n    <tr>\n      <th>2번</th>\n      <td>정대만</td>\n      <td>북산고</td>\n      <td>184</td>\n      <td>40</td>\n      <td>35</td>\n      <td>50</td>\n      <td>55</td>\n      <td>25</td>\n      <td>Java</td>\n    </tr>\n    <tr>\n      <th>5번</th>\n      <td>강백호</td>\n      <td>북산고</td>\n      <td>188</td>\n      <td>15</td>\n      <td>20</td>\n      <td>10</td>\n      <td>35</td>\n      <td>10</td>\n      <td>NaN</td>\n    </tr>\n    <tr>\n      <th>6번</th>\n      <td>변덕규</td>\n      <td>능남고</td>\n      <td>202</td>\n      <td>80</td>\n      <td>100</td>\n      <td>95</td>\n      <td>85</td>\n      <td>80</td>\n      <td>C</td>\n    </tr>\n    <tr>\n      <th>8번</th>\n      <td>윤대협</td>\n      <td>능남고</td>\n      <td>190</td>\n      <td>100</td>\n      <td>85</td>\n      <td>90</td>\n      <td>95</td>\n      <td>95</td>\n      <td>C#</td>\n    </tr>\n  </tbody>\n</table>\n</div>"
     },
     "execution_count": 59,
     "metadata": {},
     "output_type": "execute_result"
    }
   ],
   "source": [
    "df[~filt]"
   ],
   "metadata": {
    "collapsed": false
   }
  },
  {
   "cell_type": "markdown",
   "source": [],
   "metadata": {
    "collapsed": false
   }
  },
  {
   "cell_type": "code",
   "execution_count": 60,
   "outputs": [],
   "source": [
    "langs = [\"Python\",\"Java\"]\n",
    "filt = df['SW특기'].isin(langs)"
   ],
   "metadata": {
    "collapsed": false
   }
  },
  {
   "cell_type": "code",
   "execution_count": 61,
   "outputs": [
    {
     "data": {
      "text/plain": "       이름   학교    키  국어  영어   수학  과학  사회    SW특기\n지원번호                                            \n1번    채치수  북산고  197  90  85  100  95  85  Python\n2번    정대만  북산고  184  40  35   50  55  25    Java",
      "text/html": "<div>\n<style scoped>\n    .dataframe tbody tr th:only-of-type {\n        vertical-align: middle;\n    }\n\n    .dataframe tbody tr th {\n        vertical-align: top;\n    }\n\n    .dataframe thead th {\n        text-align: right;\n    }\n</style>\n<table border=\"1\" class=\"dataframe\">\n  <thead>\n    <tr style=\"text-align: right;\">\n      <th></th>\n      <th>이름</th>\n      <th>학교</th>\n      <th>키</th>\n      <th>국어</th>\n      <th>영어</th>\n      <th>수학</th>\n      <th>과학</th>\n      <th>사회</th>\n      <th>SW특기</th>\n    </tr>\n    <tr>\n      <th>지원번호</th>\n      <th></th>\n      <th></th>\n      <th></th>\n      <th></th>\n      <th></th>\n      <th></th>\n      <th></th>\n      <th></th>\n      <th></th>\n    </tr>\n  </thead>\n  <tbody>\n    <tr>\n      <th>1번</th>\n      <td>채치수</td>\n      <td>북산고</td>\n      <td>197</td>\n      <td>90</td>\n      <td>85</td>\n      <td>100</td>\n      <td>95</td>\n      <td>85</td>\n      <td>Python</td>\n    </tr>\n    <tr>\n      <th>2번</th>\n      <td>정대만</td>\n      <td>북산고</td>\n      <td>184</td>\n      <td>40</td>\n      <td>35</td>\n      <td>50</td>\n      <td>55</td>\n      <td>25</td>\n      <td>Java</td>\n    </tr>\n  </tbody>\n</table>\n</div>"
     },
     "execution_count": 61,
     "metadata": {},
     "output_type": "execute_result"
    }
   ],
   "source": [
    "df[filt]"
   ],
   "metadata": {
    "collapsed": false
   }
  },
  {
   "cell_type": "code",
   "execution_count": 62,
   "outputs": [
    {
     "data": {
      "text/plain": "       이름   학교    키   국어   영어   수학  과학  사회        SW특기\n지원번호                                                  \n1번    채치수  북산고  197   90   85  100  95  85      Python\n2번    정대만  북산고  184   40   35   50  55  25        Java\n3번    송태섭  북산고  168   80   75   70  80  75  Javascript\n4번    서태웅  북산고  187   40   60   70  75  80         NaN\n5번    강백호  북산고  188   15   20   10  35  10         NaN\n6번    변덕규  능남고  202   80  100   95  85  80           C\n7번    황태산  능남고  188   55   65   45  40  35      PYTHON\n8번    윤대협  능남고  190  100   85   90  95  95          C#",
      "text/html": "<div>\n<style scoped>\n    .dataframe tbody tr th:only-of-type {\n        vertical-align: middle;\n    }\n\n    .dataframe tbody tr th {\n        vertical-align: top;\n    }\n\n    .dataframe thead th {\n        text-align: right;\n    }\n</style>\n<table border=\"1\" class=\"dataframe\">\n  <thead>\n    <tr style=\"text-align: right;\">\n      <th></th>\n      <th>이름</th>\n      <th>학교</th>\n      <th>키</th>\n      <th>국어</th>\n      <th>영어</th>\n      <th>수학</th>\n      <th>과학</th>\n      <th>사회</th>\n      <th>SW특기</th>\n    </tr>\n    <tr>\n      <th>지원번호</th>\n      <th></th>\n      <th></th>\n      <th></th>\n      <th></th>\n      <th></th>\n      <th></th>\n      <th></th>\n      <th></th>\n      <th></th>\n    </tr>\n  </thead>\n  <tbody>\n    <tr>\n      <th>1번</th>\n      <td>채치수</td>\n      <td>북산고</td>\n      <td>197</td>\n      <td>90</td>\n      <td>85</td>\n      <td>100</td>\n      <td>95</td>\n      <td>85</td>\n      <td>Python</td>\n    </tr>\n    <tr>\n      <th>2번</th>\n      <td>정대만</td>\n      <td>북산고</td>\n      <td>184</td>\n      <td>40</td>\n      <td>35</td>\n      <td>50</td>\n      <td>55</td>\n      <td>25</td>\n      <td>Java</td>\n    </tr>\n    <tr>\n      <th>3번</th>\n      <td>송태섭</td>\n      <td>북산고</td>\n      <td>168</td>\n      <td>80</td>\n      <td>75</td>\n      <td>70</td>\n      <td>80</td>\n      <td>75</td>\n      <td>Javascript</td>\n    </tr>\n    <tr>\n      <th>4번</th>\n      <td>서태웅</td>\n      <td>북산고</td>\n      <td>187</td>\n      <td>40</td>\n      <td>60</td>\n      <td>70</td>\n      <td>75</td>\n      <td>80</td>\n      <td>NaN</td>\n    </tr>\n    <tr>\n      <th>5번</th>\n      <td>강백호</td>\n      <td>북산고</td>\n      <td>188</td>\n      <td>15</td>\n      <td>20</td>\n      <td>10</td>\n      <td>35</td>\n      <td>10</td>\n      <td>NaN</td>\n    </tr>\n    <tr>\n      <th>6번</th>\n      <td>변덕규</td>\n      <td>능남고</td>\n      <td>202</td>\n      <td>80</td>\n      <td>100</td>\n      <td>95</td>\n      <td>85</td>\n      <td>80</td>\n      <td>C</td>\n    </tr>\n    <tr>\n      <th>7번</th>\n      <td>황태산</td>\n      <td>능남고</td>\n      <td>188</td>\n      <td>55</td>\n      <td>65</td>\n      <td>45</td>\n      <td>40</td>\n      <td>35</td>\n      <td>PYTHON</td>\n    </tr>\n    <tr>\n      <th>8번</th>\n      <td>윤대협</td>\n      <td>능남고</td>\n      <td>190</td>\n      <td>100</td>\n      <td>85</td>\n      <td>90</td>\n      <td>95</td>\n      <td>95</td>\n      <td>C#</td>\n    </tr>\n  </tbody>\n</table>\n</div>"
     },
     "execution_count": 62,
     "metadata": {},
     "output_type": "execute_result"
    }
   ],
   "source": [
    "df"
   ],
   "metadata": {
    "collapsed": false
   }
  },
  {
   "cell_type": "code",
   "execution_count": 63,
   "outputs": [],
   "source": [
    "langs = ['python','java']\n",
    "filt = df['SW특기'].str.lower().isin(langs)"
   ],
   "metadata": {
    "collapsed": false
   }
  },
  {
   "cell_type": "code",
   "execution_count": 64,
   "outputs": [
    {
     "data": {
      "text/plain": "       이름   학교    키  국어  영어   수학  과학  사회    SW특기\n지원번호                                            \n1번    채치수  북산고  197  90  85  100  95  85  Python\n2번    정대만  북산고  184  40  35   50  55  25    Java\n7번    황태산  능남고  188  55  65   45  40  35  PYTHON",
      "text/html": "<div>\n<style scoped>\n    .dataframe tbody tr th:only-of-type {\n        vertical-align: middle;\n    }\n\n    .dataframe tbody tr th {\n        vertical-align: top;\n    }\n\n    .dataframe thead th {\n        text-align: right;\n    }\n</style>\n<table border=\"1\" class=\"dataframe\">\n  <thead>\n    <tr style=\"text-align: right;\">\n      <th></th>\n      <th>이름</th>\n      <th>학교</th>\n      <th>키</th>\n      <th>국어</th>\n      <th>영어</th>\n      <th>수학</th>\n      <th>과학</th>\n      <th>사회</th>\n      <th>SW특기</th>\n    </tr>\n    <tr>\n      <th>지원번호</th>\n      <th></th>\n      <th></th>\n      <th></th>\n      <th></th>\n      <th></th>\n      <th></th>\n      <th></th>\n      <th></th>\n      <th></th>\n    </tr>\n  </thead>\n  <tbody>\n    <tr>\n      <th>1번</th>\n      <td>채치수</td>\n      <td>북산고</td>\n      <td>197</td>\n      <td>90</td>\n      <td>85</td>\n      <td>100</td>\n      <td>95</td>\n      <td>85</td>\n      <td>Python</td>\n    </tr>\n    <tr>\n      <th>2번</th>\n      <td>정대만</td>\n      <td>북산고</td>\n      <td>184</td>\n      <td>40</td>\n      <td>35</td>\n      <td>50</td>\n      <td>55</td>\n      <td>25</td>\n      <td>Java</td>\n    </tr>\n    <tr>\n      <th>7번</th>\n      <td>황태산</td>\n      <td>능남고</td>\n      <td>188</td>\n      <td>55</td>\n      <td>65</td>\n      <td>45</td>\n      <td>40</td>\n      <td>35</td>\n      <td>PYTHON</td>\n    </tr>\n  </tbody>\n</table>\n</div>"
     },
     "execution_count": 64,
     "metadata": {},
     "output_type": "execute_result"
    }
   ],
   "source": [
    "df[filt]"
   ],
   "metadata": {
    "collapsed": false
   }
  },
  {
   "cell_type": "code",
   "execution_count": 65,
   "outputs": [
    {
     "ename": "ValueError",
     "evalue": "Cannot mask with non-boolean array containing NA / NaN values",
     "output_type": "error",
     "traceback": [
      "\u001B[0;31m---------------------------------------------------------------------------\u001B[0m",
      "\u001B[0;31mValueError\u001B[0m                                Traceback (most recent call last)",
      "\u001B[0;32m/var/folders/r4/h5tmjmlj1wj54cmxzmf66mw40000gn/T/ipykernel_49441/594443263.py\u001B[0m in \u001B[0;36m<module>\u001B[0;34m\u001B[0m\n\u001B[1;32m      1\u001B[0m \u001B[0mfilt\u001B[0m \u001B[0;34m=\u001B[0m \u001B[0mdf\u001B[0m\u001B[0;34m[\u001B[0m\u001B[0;34m'SW특기'\u001B[0m\u001B[0;34m]\u001B[0m\u001B[0;34m.\u001B[0m\u001B[0mstr\u001B[0m\u001B[0;34m.\u001B[0m\u001B[0mcontains\u001B[0m\u001B[0;34m(\u001B[0m\u001B[0;34m'Java'\u001B[0m\u001B[0;34m)\u001B[0m\u001B[0;34m\u001B[0m\u001B[0;34m\u001B[0m\u001B[0m\n\u001B[0;32m----> 2\u001B[0;31m \u001B[0mdf\u001B[0m\u001B[0;34m[\u001B[0m\u001B[0mfilt\u001B[0m\u001B[0;34m]\u001B[0m\u001B[0;34m\u001B[0m\u001B[0;34m\u001B[0m\u001B[0m\n\u001B[0m",
      "\u001B[0;32m~/opt/anaconda3/lib/python3.9/site-packages/pandas/core/frame.py\u001B[0m in \u001B[0;36m__getitem__\u001B[0;34m(self, key)\u001B[0m\n\u001B[1;32m   3446\u001B[0m \u001B[0;34m\u001B[0m\u001B[0m\n\u001B[1;32m   3447\u001B[0m         \u001B[0;31m# Do we have a (boolean) 1d indexer?\u001B[0m\u001B[0;34m\u001B[0m\u001B[0;34m\u001B[0m\u001B[0m\n\u001B[0;32m-> 3448\u001B[0;31m         \u001B[0;32mif\u001B[0m \u001B[0mcom\u001B[0m\u001B[0;34m.\u001B[0m\u001B[0mis_bool_indexer\u001B[0m\u001B[0;34m(\u001B[0m\u001B[0mkey\u001B[0m\u001B[0;34m)\u001B[0m\u001B[0;34m:\u001B[0m\u001B[0;34m\u001B[0m\u001B[0;34m\u001B[0m\u001B[0m\n\u001B[0m\u001B[1;32m   3449\u001B[0m             \u001B[0;32mreturn\u001B[0m \u001B[0mself\u001B[0m\u001B[0;34m.\u001B[0m\u001B[0m_getitem_bool_array\u001B[0m\u001B[0;34m(\u001B[0m\u001B[0mkey\u001B[0m\u001B[0;34m)\u001B[0m\u001B[0;34m\u001B[0m\u001B[0;34m\u001B[0m\u001B[0m\n\u001B[1;32m   3450\u001B[0m \u001B[0;34m\u001B[0m\u001B[0m\n",
      "\u001B[0;32m~/opt/anaconda3/lib/python3.9/site-packages/pandas/core/common.py\u001B[0m in \u001B[0;36mis_bool_indexer\u001B[0;34m(key)\u001B[0m\n\u001B[1;32m    137\u001B[0m                     \u001B[0;31m# Don't raise on e.g. [\"A\", \"B\", np.nan], see\u001B[0m\u001B[0;34m\u001B[0m\u001B[0;34m\u001B[0m\u001B[0m\n\u001B[1;32m    138\u001B[0m                     \u001B[0;31m#  test_loc_getitem_list_of_labels_categoricalindex_with_na\u001B[0m\u001B[0;34m\u001B[0m\u001B[0;34m\u001B[0m\u001B[0m\n\u001B[0;32m--> 139\u001B[0;31m                     \u001B[0;32mraise\u001B[0m \u001B[0mValueError\u001B[0m\u001B[0;34m(\u001B[0m\u001B[0mna_msg\u001B[0m\u001B[0;34m)\u001B[0m\u001B[0;34m\u001B[0m\u001B[0;34m\u001B[0m\u001B[0m\n\u001B[0m\u001B[1;32m    140\u001B[0m                 \u001B[0;32mreturn\u001B[0m \u001B[0;32mFalse\u001B[0m\u001B[0;34m\u001B[0m\u001B[0;34m\u001B[0m\u001B[0m\n\u001B[1;32m    141\u001B[0m             \u001B[0;32mreturn\u001B[0m \u001B[0;32mTrue\u001B[0m\u001B[0;34m\u001B[0m\u001B[0;34m\u001B[0m\u001B[0m\n",
      "\u001B[0;31mValueError\u001B[0m: Cannot mask with non-boolean array containing NA / NaN values"
     ]
    }
   ],
   "source": [
    "filt = df['SW특기'].str.contains('Java')\n",
    "df[filt]"
   ],
   "metadata": {
    "collapsed": false
   }
  },
  {
   "cell_type": "code",
   "execution_count": 66,
   "outputs": [
    {
     "data": {
      "text/plain": "       이름   학교    키  국어  영어  수학  과학  사회        SW특기\n지원번호                                               \n2번    정대만  북산고  184  40  35  50  55  25        Java\n3번    송태섭  북산고  168  80  75  70  80  75  Javascript\n4번    서태웅  북산고  187  40  60  70  75  80         NaN\n5번    강백호  북산고  188  15  20  10  35  10         NaN",
      "text/html": "<div>\n<style scoped>\n    .dataframe tbody tr th:only-of-type {\n        vertical-align: middle;\n    }\n\n    .dataframe tbody tr th {\n        vertical-align: top;\n    }\n\n    .dataframe thead th {\n        text-align: right;\n    }\n</style>\n<table border=\"1\" class=\"dataframe\">\n  <thead>\n    <tr style=\"text-align: right;\">\n      <th></th>\n      <th>이름</th>\n      <th>학교</th>\n      <th>키</th>\n      <th>국어</th>\n      <th>영어</th>\n      <th>수학</th>\n      <th>과학</th>\n      <th>사회</th>\n      <th>SW특기</th>\n    </tr>\n    <tr>\n      <th>지원번호</th>\n      <th></th>\n      <th></th>\n      <th></th>\n      <th></th>\n      <th></th>\n      <th></th>\n      <th></th>\n      <th></th>\n      <th></th>\n    </tr>\n  </thead>\n  <tbody>\n    <tr>\n      <th>2번</th>\n      <td>정대만</td>\n      <td>북산고</td>\n      <td>184</td>\n      <td>40</td>\n      <td>35</td>\n      <td>50</td>\n      <td>55</td>\n      <td>25</td>\n      <td>Java</td>\n    </tr>\n    <tr>\n      <th>3번</th>\n      <td>송태섭</td>\n      <td>북산고</td>\n      <td>168</td>\n      <td>80</td>\n      <td>75</td>\n      <td>70</td>\n      <td>80</td>\n      <td>75</td>\n      <td>Javascript</td>\n    </tr>\n    <tr>\n      <th>4번</th>\n      <td>서태웅</td>\n      <td>북산고</td>\n      <td>187</td>\n      <td>40</td>\n      <td>60</td>\n      <td>70</td>\n      <td>75</td>\n      <td>80</td>\n      <td>NaN</td>\n    </tr>\n    <tr>\n      <th>5번</th>\n      <td>강백호</td>\n      <td>북산고</td>\n      <td>188</td>\n      <td>15</td>\n      <td>20</td>\n      <td>10</td>\n      <td>35</td>\n      <td>10</td>\n      <td>NaN</td>\n    </tr>\n  </tbody>\n</table>\n</div>"
     },
     "execution_count": 66,
     "metadata": {},
     "output_type": "execute_result"
    }
   ],
   "source": [
    "filt = df['SW특기'].str.contains('Java', na=True)\n",
    "df[filt]"
   ],
   "metadata": {
    "collapsed": false
   }
  },
  {
   "cell_type": "code",
   "execution_count": null,
   "outputs": [],
   "source": [],
   "metadata": {
    "collapsed": false
   }
  },
  {
   "cell_type": "code",
   "execution_count": 67,
   "outputs": [
    {
     "data": {
      "text/plain": "       이름   학교    키  국어  영어  수학  과학  사회        SW특기\n지원번호                                               \n2번    정대만  북산고  184  40  35  50  55  25        Java\n3번    송태섭  북산고  168  80  75  70  80  75  Javascript",
      "text/html": "<div>\n<style scoped>\n    .dataframe tbody tr th:only-of-type {\n        vertical-align: middle;\n    }\n\n    .dataframe tbody tr th {\n        vertical-align: top;\n    }\n\n    .dataframe thead th {\n        text-align: right;\n    }\n</style>\n<table border=\"1\" class=\"dataframe\">\n  <thead>\n    <tr style=\"text-align: right;\">\n      <th></th>\n      <th>이름</th>\n      <th>학교</th>\n      <th>키</th>\n      <th>국어</th>\n      <th>영어</th>\n      <th>수학</th>\n      <th>과학</th>\n      <th>사회</th>\n      <th>SW특기</th>\n    </tr>\n    <tr>\n      <th>지원번호</th>\n      <th></th>\n      <th></th>\n      <th></th>\n      <th></th>\n      <th></th>\n      <th></th>\n      <th></th>\n      <th></th>\n      <th></th>\n    </tr>\n  </thead>\n  <tbody>\n    <tr>\n      <th>2번</th>\n      <td>정대만</td>\n      <td>북산고</td>\n      <td>184</td>\n      <td>40</td>\n      <td>35</td>\n      <td>50</td>\n      <td>55</td>\n      <td>25</td>\n      <td>Java</td>\n    </tr>\n    <tr>\n      <th>3번</th>\n      <td>송태섭</td>\n      <td>북산고</td>\n      <td>168</td>\n      <td>80</td>\n      <td>75</td>\n      <td>70</td>\n      <td>80</td>\n      <td>75</td>\n      <td>Javascript</td>\n    </tr>\n  </tbody>\n</table>\n</div>"
     },
     "execution_count": 67,
     "metadata": {},
     "output_type": "execute_result"
    }
   ],
   "source": [
    "filt = df['SW특기'].str.contains('Java', na=False)\n",
    "df[filt]"
   ],
   "metadata": {
    "collapsed": false
   }
  },
  {
   "cell_type": "code",
   "execution_count": 69,
   "outputs": [
    {
     "data": {
      "text/plain": "지원번호\n1번    False\n2번     True\n3번     True\n4번     True\n5번     True\n6번    False\n7번    False\n8번    False\nName: SW특기, dtype: bool"
     },
     "execution_count": 69,
     "metadata": {},
     "output_type": "execute_result"
    }
   ],
   "source": [
    "df['SW특기'].str.contains('Java', na=True)"
   ],
   "metadata": {
    "collapsed": false
   }
  },
  {
   "cell_type": "code",
   "execution_count": null,
   "outputs": [],
   "source": [],
   "metadata": {
    "collapsed": false
   }
  }
 ],
 "metadata": {
  "kernelspec": {
   "display_name": "Python 3",
   "language": "python",
   "name": "python3"
  },
  "language_info": {
   "codemirror_mode": {
    "name": "ipython",
    "version": 2
   },
   "file_extension": ".py",
   "mimetype": "text/x-python",
   "name": "python",
   "nbconvert_exporter": "python",
   "pygments_lexer": "ipython2",
   "version": "2.7.6"
  }
 },
 "nbformat": 4,
 "nbformat_minor": 0
}
