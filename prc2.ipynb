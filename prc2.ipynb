{
 "cells": [
  {
   "cell_type": "code",
   "execution_count": null,
   "metadata": {
    "collapsed": true
   },
   "outputs": [],
   "source": []
  },
  {
   "cell_type": "code",
   "execution_count": 20,
   "outputs": [],
   "source": [
    "import pandas as pd\n",
    "\n",
    "df=pd.read_excel(\"daejeon19.xlsx\")"
   ],
   "metadata": {
    "collapsed": false
   }
  },
  {
   "cell_type": "code",
   "execution_count": 21,
   "outputs": [],
   "source": [
    "filt=df['사고유형']=='차대사람 - 횡단중'\n",
    "df[filt].to_excel('daejeon19_21.xlsx')"
   ],
   "metadata": {
    "collapsed": false
   }
  },
  {
   "cell_type": "markdown",
   "source": [
    "# 사고시간별"
   ],
   "metadata": {
    "collapsed": false
   }
  },
  {
   "cell_type": "code",
   "execution_count": 33,
   "outputs": [
    {
     "data": {
      "text/plain": "47"
     },
     "execution_count": 33,
     "metadata": {},
     "output_type": "execute_result"
    }
   ],
   "source": [
    "df=pd.read_excel('daejeon15_17.xlsx')\n",
    "\n",
    "filt = df['사고일시'].str.contains('00시')\n",
    "len(df[filt])\n",
    "filt1 = df['사고일시'].str.contains('01시')\n",
    "len(df[filt1])\n",
    "filt2 = df['사고일시'].str.contains('02시')\n",
    "len(df[filt2])\n",
    "filt3 = df['사고일시'].str.contains('03시')\n",
    "len(df[filt3])\n",
    "filt4 = df['사고일시'].str.contains('04시')\n",
    "len(df[filt4])\n",
    "filt5 = df['사고일시'].str.contains('05시')\n",
    "len(df[filt5])\n",
    "filt6 = df['사고일시'].str.contains('06시')\n",
    "len(df[filt6])\n",
    "filt7 = df['사고일시'].str.contains('07시')\n",
    "len(df[filt7])\n",
    "filt8 = df['사고일시'].str.contains('08시')\n",
    "len(df[filt8])\n",
    "filt9 = df['사고일시'].str.contains('09시')\n",
    "len(df[filt9])\n",
    "filt10 = df['사고일시'].str.contains('10시')\n",
    "len(df[filt10])\n",
    "filt11 = df['사고일시'].str.contains('11시')\n",
    "len(df[filt11])\n",
    "filt12 = df['사고일시'].str.contains('12시')\n",
    "len(df[filt12])\n",
    "filt13 = df['사고일시'].str.contains('13시')\n",
    "len(df[filt13])\n",
    "filt14 = df['사고일시'].str.contains('14시')\n",
    "len(df[filt14])\n",
    "filt15 = df['사고일시'].str.contains('15시')\n",
    "len(df[filt15])\n",
    "filt16 = df['사고일시'].str.contains('16시')\n",
    "len(df[filt16])\n",
    "filt17 = df['사고일시'].str.contains('17시')\n",
    "len(df[filt17])\n",
    "filt18 = df['사고일시'].str.contains('18시')\n",
    "len(df[filt18])\n",
    "filt19 = df['사고일시'].str.contains('19시')\n",
    "len(df[filt19])\n",
    "filt20 = df['사고일시'].str.contains('20시')\n",
    "len(df[filt20])\n",
    "filt21 = df['사고일시'].str.contains('21시')\n",
    "len(df[filt21])\n",
    "filt22 = df['사고일시'].str.contains('22시')\n",
    "len(df[filt22])\n",
    "filt23 = df['사고일시'].str.contains('23시')\n",
    "len(df[filt23])\n"
   ],
   "metadata": {
    "collapsed": false
   }
  },
  {
   "cell_type": "markdown",
   "source": [
    "# 피해운전자 상해정도"
   ],
   "metadata": {
    "collapsed": false
   }
  },
  {
   "cell_type": "code",
   "execution_count": 16,
   "outputs": [
    {
     "data": {
      "text/plain": "사고번호          737\n사고일시          737\n요일            737\n시군구           737\n사고내용          737\n사망자수          737\n중상자수          737\n경상자수          737\n부상신고자수        737\n사고유형          737\n법규위반          737\n노면상태          737\n기상상태          737\n도로형태          737\n가해운전자 차종      737\n가해운전자 성별      737\n가해운전자 연령      737\n가해운전자 상해정도    737\n피해운전자 차종      737\n피해운전자 성별      737\n피해운전자 연령      737\n피해운전자 상해정도    737\ndtype: int64"
     },
     "execution_count": 16,
     "metadata": {},
     "output_type": "execute_result"
    }
   ],
   "source": [
    "import pandas as pd\n",
    "\n",
    "df=pd.read_excel('daejeon15_17.xlsx')\n",
    "\n",
    "\n",
    "# filt1 = (df['피해운전자 상해정도']=='중상') | (df['피해운전자 상해정도']=='사망')\n",
    "# filt2 = df['피해운전자 상해정도']=='경상'\n",
    "# df[filt1].replace(1)\n",
    "# df[filt2].replace(0)\n",
    "df['피해운전자 상해정도'].replace({'사망' : 1,'중상' : 1, '경상' :0 },inplace=True)\n",
    "filt1 = df['피해운전자 상해정도']==1\n",
    "filt2 = df['피해운전자 상해정도']==0\n",
    "\n",
    "df[filt1].count()\n",
    "df[filt2].count()"
   ],
   "metadata": {
    "collapsed": false
   }
  },
  {
   "cell_type": "markdown",
   "source": [
    "# 기상상태별"
   ],
   "metadata": {
    "collapsed": false
   }
  },
  {
   "cell_type": "code",
   "execution_count": 18,
   "outputs": [
    {
     "data": {
      "text/plain": "                  사고번호               사고일시   요일            시군구  사고내용  사망자수  \\\n7     2015010500100504    2015년 1월 5일 19시  월요일   대전광역시 중구 대사동  경상사고     0   \n29    2015012100100509   2015년 1월 21일 21시  수요일   대전광역시 중구 태평동  중상사고     0   \n36    2015012500100089   2015년 1월 25일 07시  일요일   대전광역시 서구 월평동  중상사고     0   \n37    2015012500100297   2015년 1월 25일 18시  일요일   대전광역시 유성구 궁동  중상사고     0   \n39    2015012600100488   2015년 1월 26일 20시  월요일   대전광역시 동구 성남동  중상사고     0   \n...                ...                ...  ...            ...   ...   ...   \n1436  2017100100100357   2017년 10월 1일 17시  일요일   대전광역시 서구 괴정동  경상사고     0   \n1441  2017100600100151   2017년 10월 6일 10시  금요일   대전광역시 대덕구 법동  중상사고     0   \n1483  2017111000100482  2017년 11월 10일 17시  금요일   대전광역시 중구 유천동  중상사고     0   \n1496  2017112400100158  2017년 11월 24일 06시  금요일   대전광역시 서구 용문동  중상사고     0   \n1521  2017121000100485  2017년 12월 10일 22시  일요일  대전광역시 유성구 봉명동  중상사고     0   \n\n      중상자수  경상자수  부상신고자수        사고유형  ... 기상상태            도로형태 가해운전자 차종  \\\n7        0     1       0  차대사람 - 횡단중  ...    비     단일로 - 횡단보도상       승용   \n29       1     0       0  차대사람 - 횡단중  ...    비      교차로 - 교차로안       승용   \n36       1     0       0  차대사람 - 횡단중  ...    비     교차로 - 교차로부근       승용   \n37       1     1       0  차대사람 - 횡단중  ...    비     단일로 - 횡단보도상       승용   \n39       1     0       0  차대사람 - 횡단중  ...    비     교차로 - 교차로부근       승용   \n...    ...   ...     ...         ...  ...  ...             ...      ...   \n1436     0     1       0  차대사람 - 횡단중  ...    비  교차로 - 교차로횡단보도내       승용   \n1441     1     0       0  차대사람 - 횡단중  ...    비  교차로 - 교차로횡단보도내       승용   \n1483     1     0       0  차대사람 - 횡단중  ...    비  교차로 - 교차로횡단보도내       승용   \n1496     1     0       0  차대사람 - 횡단중  ...    비  교차로 - 교차로횡단보도내       승용   \n1521     1     0       0  차대사람 - 횡단중  ...    비     교차로 - 교차로부근       승용   \n\n     가해운전자 성별 가해운전자 연령 가해운전자 상해정도 피해운전자 차종 피해운전자 성별 피해운전자 연령 피해운전자 상해정도  \n7           남      30세       상해없음      보행자        여      63세         경상  \n29          남      46세       상해없음      보행자        남      15세         중상  \n36          남      49세       상해없음      보행자        여      61세         중상  \n37          여      53세       상해없음      보행자        여      43세         중상  \n39          남      41세       상해없음      보행자        여      55세         중상  \n...       ...      ...        ...      ...      ...      ...        ...  \n1436        여      28세       상해없음      보행자        여      51세         경상  \n1441        남      61세       상해없음      보행자        여      76세         중상  \n1483        남      79세       상해없음      보행자        남      13세         중상  \n1496        남      57세       상해없음      보행자        여      41세         중상  \n1521        남      54세       상해없음      보행자        여      63세         중상  \n\n[158 rows x 22 columns]",
      "text/html": "<div>\n<style scoped>\n    .dataframe tbody tr th:only-of-type {\n        vertical-align: middle;\n    }\n\n    .dataframe tbody tr th {\n        vertical-align: top;\n    }\n\n    .dataframe thead th {\n        text-align: right;\n    }\n</style>\n<table border=\"1\" class=\"dataframe\">\n  <thead>\n    <tr style=\"text-align: right;\">\n      <th></th>\n      <th>사고번호</th>\n      <th>사고일시</th>\n      <th>요일</th>\n      <th>시군구</th>\n      <th>사고내용</th>\n      <th>사망자수</th>\n      <th>중상자수</th>\n      <th>경상자수</th>\n      <th>부상신고자수</th>\n      <th>사고유형</th>\n      <th>...</th>\n      <th>기상상태</th>\n      <th>도로형태</th>\n      <th>가해운전자 차종</th>\n      <th>가해운전자 성별</th>\n      <th>가해운전자 연령</th>\n      <th>가해운전자 상해정도</th>\n      <th>피해운전자 차종</th>\n      <th>피해운전자 성별</th>\n      <th>피해운전자 연령</th>\n      <th>피해운전자 상해정도</th>\n    </tr>\n  </thead>\n  <tbody>\n    <tr>\n      <th>7</th>\n      <td>2015010500100504</td>\n      <td>2015년 1월 5일 19시</td>\n      <td>월요일</td>\n      <td>대전광역시 중구 대사동</td>\n      <td>경상사고</td>\n      <td>0</td>\n      <td>0</td>\n      <td>1</td>\n      <td>0</td>\n      <td>차대사람 - 횡단중</td>\n      <td>...</td>\n      <td>비</td>\n      <td>단일로 - 횡단보도상</td>\n      <td>승용</td>\n      <td>남</td>\n      <td>30세</td>\n      <td>상해없음</td>\n      <td>보행자</td>\n      <td>여</td>\n      <td>63세</td>\n      <td>경상</td>\n    </tr>\n    <tr>\n      <th>29</th>\n      <td>2015012100100509</td>\n      <td>2015년 1월 21일 21시</td>\n      <td>수요일</td>\n      <td>대전광역시 중구 태평동</td>\n      <td>중상사고</td>\n      <td>0</td>\n      <td>1</td>\n      <td>0</td>\n      <td>0</td>\n      <td>차대사람 - 횡단중</td>\n      <td>...</td>\n      <td>비</td>\n      <td>교차로 - 교차로안</td>\n      <td>승용</td>\n      <td>남</td>\n      <td>46세</td>\n      <td>상해없음</td>\n      <td>보행자</td>\n      <td>남</td>\n      <td>15세</td>\n      <td>중상</td>\n    </tr>\n    <tr>\n      <th>36</th>\n      <td>2015012500100089</td>\n      <td>2015년 1월 25일 07시</td>\n      <td>일요일</td>\n      <td>대전광역시 서구 월평동</td>\n      <td>중상사고</td>\n      <td>0</td>\n      <td>1</td>\n      <td>0</td>\n      <td>0</td>\n      <td>차대사람 - 횡단중</td>\n      <td>...</td>\n      <td>비</td>\n      <td>교차로 - 교차로부근</td>\n      <td>승용</td>\n      <td>남</td>\n      <td>49세</td>\n      <td>상해없음</td>\n      <td>보행자</td>\n      <td>여</td>\n      <td>61세</td>\n      <td>중상</td>\n    </tr>\n    <tr>\n      <th>37</th>\n      <td>2015012500100297</td>\n      <td>2015년 1월 25일 18시</td>\n      <td>일요일</td>\n      <td>대전광역시 유성구 궁동</td>\n      <td>중상사고</td>\n      <td>0</td>\n      <td>1</td>\n      <td>1</td>\n      <td>0</td>\n      <td>차대사람 - 횡단중</td>\n      <td>...</td>\n      <td>비</td>\n      <td>단일로 - 횡단보도상</td>\n      <td>승용</td>\n      <td>여</td>\n      <td>53세</td>\n      <td>상해없음</td>\n      <td>보행자</td>\n      <td>여</td>\n      <td>43세</td>\n      <td>중상</td>\n    </tr>\n    <tr>\n      <th>39</th>\n      <td>2015012600100488</td>\n      <td>2015년 1월 26일 20시</td>\n      <td>월요일</td>\n      <td>대전광역시 동구 성남동</td>\n      <td>중상사고</td>\n      <td>0</td>\n      <td>1</td>\n      <td>0</td>\n      <td>0</td>\n      <td>차대사람 - 횡단중</td>\n      <td>...</td>\n      <td>비</td>\n      <td>교차로 - 교차로부근</td>\n      <td>승용</td>\n      <td>남</td>\n      <td>41세</td>\n      <td>상해없음</td>\n      <td>보행자</td>\n      <td>여</td>\n      <td>55세</td>\n      <td>중상</td>\n    </tr>\n    <tr>\n      <th>...</th>\n      <td>...</td>\n      <td>...</td>\n      <td>...</td>\n      <td>...</td>\n      <td>...</td>\n      <td>...</td>\n      <td>...</td>\n      <td>...</td>\n      <td>...</td>\n      <td>...</td>\n      <td>...</td>\n      <td>...</td>\n      <td>...</td>\n      <td>...</td>\n      <td>...</td>\n      <td>...</td>\n      <td>...</td>\n      <td>...</td>\n      <td>...</td>\n      <td>...</td>\n      <td>...</td>\n    </tr>\n    <tr>\n      <th>1436</th>\n      <td>2017100100100357</td>\n      <td>2017년 10월 1일 17시</td>\n      <td>일요일</td>\n      <td>대전광역시 서구 괴정동</td>\n      <td>경상사고</td>\n      <td>0</td>\n      <td>0</td>\n      <td>1</td>\n      <td>0</td>\n      <td>차대사람 - 횡단중</td>\n      <td>...</td>\n      <td>비</td>\n      <td>교차로 - 교차로횡단보도내</td>\n      <td>승용</td>\n      <td>여</td>\n      <td>28세</td>\n      <td>상해없음</td>\n      <td>보행자</td>\n      <td>여</td>\n      <td>51세</td>\n      <td>경상</td>\n    </tr>\n    <tr>\n      <th>1441</th>\n      <td>2017100600100151</td>\n      <td>2017년 10월 6일 10시</td>\n      <td>금요일</td>\n      <td>대전광역시 대덕구 법동</td>\n      <td>중상사고</td>\n      <td>0</td>\n      <td>1</td>\n      <td>0</td>\n      <td>0</td>\n      <td>차대사람 - 횡단중</td>\n      <td>...</td>\n      <td>비</td>\n      <td>교차로 - 교차로횡단보도내</td>\n      <td>승용</td>\n      <td>남</td>\n      <td>61세</td>\n      <td>상해없음</td>\n      <td>보행자</td>\n      <td>여</td>\n      <td>76세</td>\n      <td>중상</td>\n    </tr>\n    <tr>\n      <th>1483</th>\n      <td>2017111000100482</td>\n      <td>2017년 11월 10일 17시</td>\n      <td>금요일</td>\n      <td>대전광역시 중구 유천동</td>\n      <td>중상사고</td>\n      <td>0</td>\n      <td>1</td>\n      <td>0</td>\n      <td>0</td>\n      <td>차대사람 - 횡단중</td>\n      <td>...</td>\n      <td>비</td>\n      <td>교차로 - 교차로횡단보도내</td>\n      <td>승용</td>\n      <td>남</td>\n      <td>79세</td>\n      <td>상해없음</td>\n      <td>보행자</td>\n      <td>남</td>\n      <td>13세</td>\n      <td>중상</td>\n    </tr>\n    <tr>\n      <th>1496</th>\n      <td>2017112400100158</td>\n      <td>2017년 11월 24일 06시</td>\n      <td>금요일</td>\n      <td>대전광역시 서구 용문동</td>\n      <td>중상사고</td>\n      <td>0</td>\n      <td>1</td>\n      <td>0</td>\n      <td>0</td>\n      <td>차대사람 - 횡단중</td>\n      <td>...</td>\n      <td>비</td>\n      <td>교차로 - 교차로횡단보도내</td>\n      <td>승용</td>\n      <td>남</td>\n      <td>57세</td>\n      <td>상해없음</td>\n      <td>보행자</td>\n      <td>여</td>\n      <td>41세</td>\n      <td>중상</td>\n    </tr>\n    <tr>\n      <th>1521</th>\n      <td>2017121000100485</td>\n      <td>2017년 12월 10일 22시</td>\n      <td>일요일</td>\n      <td>대전광역시 유성구 봉명동</td>\n      <td>중상사고</td>\n      <td>0</td>\n      <td>1</td>\n      <td>0</td>\n      <td>0</td>\n      <td>차대사람 - 횡단중</td>\n      <td>...</td>\n      <td>비</td>\n      <td>교차로 - 교차로부근</td>\n      <td>승용</td>\n      <td>남</td>\n      <td>54세</td>\n      <td>상해없음</td>\n      <td>보행자</td>\n      <td>여</td>\n      <td>63세</td>\n      <td>중상</td>\n    </tr>\n  </tbody>\n</table>\n<p>158 rows × 22 columns</p>\n</div>"
     },
     "execution_count": 18,
     "metadata": {},
     "output_type": "execute_result"
    }
   ],
   "source": [
    "import pandas as pd\n",
    "\n",
    "df=pd.read_excel('daejeon15_17.xlsx')\n",
    "\n",
    "filt_rain = df['기상상태']=='비'\n",
    "filt_cloud = df['기상상태']=='흐림'\n",
    "filt_snow = df['기상상태']=='눈'\n",
    "\n",
    "df[filt_rain]"
   ],
   "metadata": {
    "collapsed": false
   }
  },
  {
   "cell_type": "code",
   "execution_count": null,
   "outputs": [],
   "source": [
    "import pandas as pd\n",
    "\n",
    "df=pd.read_excel('daejeon15_17.xlsx')\n",
    "\n",
    "values = []\n",
    "x=['sunny','cloudy','rain','snow']\n",
    "\n",
    "filt_rain = df['기상상태']=='비'\n",
    "filt_cloud = df['기상상태']=='흐림'\n",
    "filt_snow = df['기상상태']=='눈'\n",
    "\n",
    "rain_num = len(df[filt_rain])\n",
    "cloud_num = len(df[filt_cloud])\n",
    "snow_num = len(df[filt_snow])\n",
    "sunny_num =len(df[~filt_rain & ~filt_snow & ~filt_cloud])\n",
    "\n",
    "df[filt_rain]\n",
    "df"
   ],
   "metadata": {
    "collapsed": false
   }
  },
  {
   "cell_type": "markdown",
   "source": [
    "# 시군구 분류"
   ],
   "metadata": {
    "collapsed": false
   }
  },
  {
   "cell_type": "code",
   "execution_count": 24,
   "outputs": [],
   "source": [
    "import pandas as pd\n",
    "df=pd.read_excel('daejeon19_21.xlsx')\n",
    "\n",
    "filt = df['시군구'].str.contains('동구')\n",
    "df[filt].to_excel('daejeon_donggu.xlsx')\n",
    "\n",
    "filt1 = df['시군구'].str.contains('서구')\n",
    "df[filt1].to_excel('daejeon_seogu.xlsx')\n",
    "\n",
    "filt2 = df['시군구'].str.contains('대덕구')\n",
    "df[filt2].to_excel('daejeon_daedukgu.xlsx')\n",
    "\n",
    "filt3 = df['시군구'].str.contains('유성구')\n",
    "df[filt3].to_excel('daejeon_yusung.xlsx')\n",
    "\n",
    "filt4 = df['시군구'].str.contains('중구')\n",
    "df[filt4].to_excel('daejeon_joonggu.xlsx')\n"
   ],
   "metadata": {
    "collapsed": false
   }
  },
  {
   "cell_type": "code",
   "execution_count": 28,
   "outputs": [],
   "source": [
    "df = pd.read_excel('/Users/jeon-eunkyu/Downloads/대전광역시_횡단보도_20230105.xlsx')\n",
    "\n",
    "filt = df['집중조명시설유무']=='Y'\n",
    "df[filt].head()\n",
    "df[filt].to_excel('daejeon_light_info.xlsx')\n",
    "\n",
    "\n"
   ],
   "metadata": {
    "collapsed": false
   }
  },
  {
   "cell_type": "markdown",
   "source": [
    "# 데이터 가공"
   ],
   "metadata": {
    "collapsed": false
   }
  },
  {
   "cell_type": "code",
   "execution_count": 48,
   "outputs": [],
   "source": [
    "df = pd.read_excel('daejeon_summer15-17.xlsx')\n",
    "\n",
    "df['피해운전자 상해정도'].replace({'사망' : 1,'중상' : 1, '경상' :0,'부상신고' : 0, '상해없음' : 0 },inplace=True)\n",
    "# filt1 = df['피해운전자 상해정도']==1\n",
    "# filt2 = df['피해운전자 상해정도']==0\n",
    "\n",
    "df['기상상태'].replace({'맑음' : 0,'흐림': 1, '비':2, '눈':2, '기타' : 3},inplace=True)\n",
    "# filt_sunny = df['기상상태']==0\n",
    "# filt_cloud = df['기상상태']==1\n",
    "# filt_snow = df['기상상태']==2\n",
    "\n",
    "df['피해운전자 연령'] = df['피해운전자 연령'].str[:-1]\n",
    "def changeAge(age) :\n",
    "    if int(age)<20 & int(age)>0 :\n",
    "        return 0\n",
    "    elif int(age)>65 :\n",
    "        return 2\n",
    "    else :\n",
    "        return 1\n",
    "\n",
    "df['피해운전자 연령'] = df['피해운전자 연령'].apply(changeAge)\n",
    "\n",
    "df.to_excel('realdata.xlsx')\n",
    "\n",
    "# 날씨// 맑음 : 0, 흐림 : 1, 비or 눈 : 2, 기타 : 3\n",
    "# 피해자연령// 0~20 : 0, 20~65 : 1, 65~ : 2\n",
    "# 부상정도// 상해없음, 부상, 경상 : 0, 중상,사망 : 1\n"
   ],
   "metadata": {
    "collapsed": false
   }
  },
  {
   "cell_type": "code",
   "execution_count": 49,
   "outputs": [],
   "source": [
    "df = pd.read_excel('daejeon_summer19-21.xlsx')\n",
    "\n",
    "df['피해운전자 상해정도'].replace({'사망' : 1,'중상' : 1, '경상' :0,'부상신고' : 0, '상해없음' : 0 },inplace=True)\n",
    "# filt1 = df['피해운전자 상해정도']==1\n",
    "# filt2 = df['피해운전자 상해정도']==0\n",
    "\n",
    "df['기상상태'].replace({'맑음' : 0,'흐림': 1, '비':2, '눈':2, '기타' : 3},inplace=True)\n",
    "# filt_sunny = df['기상상태']==0\n",
    "# filt_cloud = df['기상상태']==1\n",
    "# filt_snow = df['기상상태']==2\n",
    "\n",
    "df['피해운전자 연령'] = df['피해운전자 연령'].str[:-1]\n",
    "\n",
    "def changeAge(age) :\n",
    "    if int(age)<20 & int(age)>0 :\n",
    "        return 0\n",
    "    elif int(age)>65 :\n",
    "        return 2\n",
    "    else :\n",
    "        return 1\n",
    "\n",
    "df['피해운전자 연령'] = df['피해운전자 연령'].apply(changeAge)\n",
    "\n",
    "df.to_excel('realdata19_21.xlsx')\n",
    "\n"
   ],
   "metadata": {
    "collapsed": false
   }
  },
  {
   "cell_type": "code",
   "execution_count": 46,
   "outputs": [
    {
     "name": "stderr",
     "output_type": "stream",
     "text": [
      "findfont: Font family ['Malgun Gothic'] not found. Falling back to DejaVu Sans.\n",
      "findfont: Font family ['Malgun Gothic'] not found. Falling back to DejaVu Sans.\n",
      "/Users/jeon-eunkyu/opt/anaconda3/lib/python3.9/site-packages/matplotlib/backends/backend_agg.py:240: RuntimeWarning: Glyph 49324 missing from current font.\n",
      "  font.set_text(s, 0.0, flags=flags)\n",
      "/Users/jeon-eunkyu/opt/anaconda3/lib/python3.9/site-packages/matplotlib/backends/backend_agg.py:240: RuntimeWarning: Glyph 44256 missing from current font.\n",
      "  font.set_text(s, 0.0, flags=flags)\n",
      "/Users/jeon-eunkyu/opt/anaconda3/lib/python3.9/site-packages/matplotlib/backends/backend_agg.py:240: RuntimeWarning: Glyph 48264 missing from current font.\n",
      "  font.set_text(s, 0.0, flags=flags)\n",
      "/Users/jeon-eunkyu/opt/anaconda3/lib/python3.9/site-packages/matplotlib/backends/backend_agg.py:240: RuntimeWarning: Glyph 54840 missing from current font.\n",
      "  font.set_text(s, 0.0, flags=flags)\n",
      "/Users/jeon-eunkyu/opt/anaconda3/lib/python3.9/site-packages/matplotlib/backends/backend_agg.py:240: RuntimeWarning: Glyph 47581 missing from current font.\n",
      "  font.set_text(s, 0.0, flags=flags)\n",
      "/Users/jeon-eunkyu/opt/anaconda3/lib/python3.9/site-packages/matplotlib/backends/backend_agg.py:240: RuntimeWarning: Glyph 51088 missing from current font.\n",
      "  font.set_text(s, 0.0, flags=flags)\n",
      "/Users/jeon-eunkyu/opt/anaconda3/lib/python3.9/site-packages/matplotlib/backends/backend_agg.py:240: RuntimeWarning: Glyph 49688 missing from current font.\n",
      "  font.set_text(s, 0.0, flags=flags)\n",
      "/Users/jeon-eunkyu/opt/anaconda3/lib/python3.9/site-packages/matplotlib/backends/backend_agg.py:240: RuntimeWarning: Glyph 51473 missing from current font.\n",
      "  font.set_text(s, 0.0, flags=flags)\n",
      "/Users/jeon-eunkyu/opt/anaconda3/lib/python3.9/site-packages/matplotlib/backends/backend_agg.py:240: RuntimeWarning: Glyph 49345 missing from current font.\n",
      "  font.set_text(s, 0.0, flags=flags)\n",
      "/Users/jeon-eunkyu/opt/anaconda3/lib/python3.9/site-packages/matplotlib/backends/backend_agg.py:240: RuntimeWarning: Glyph 44221 missing from current font.\n",
      "  font.set_text(s, 0.0, flags=flags)\n",
      "/Users/jeon-eunkyu/opt/anaconda3/lib/python3.9/site-packages/matplotlib/backends/backend_agg.py:240: RuntimeWarning: Glyph 48512 missing from current font.\n",
      "  font.set_text(s, 0.0, flags=flags)\n",
      "/Users/jeon-eunkyu/opt/anaconda3/lib/python3.9/site-packages/matplotlib/backends/backend_agg.py:240: RuntimeWarning: Glyph 49888 missing from current font.\n",
      "  font.set_text(s, 0.0, flags=flags)\n",
      "/Users/jeon-eunkyu/opt/anaconda3/lib/python3.9/site-packages/matplotlib/backends/backend_agg.py:240: RuntimeWarning: Glyph 44592 missing from current font.\n",
      "  font.set_text(s, 0.0, flags=flags)\n",
      "/Users/jeon-eunkyu/opt/anaconda3/lib/python3.9/site-packages/matplotlib/backends/backend_agg.py:240: RuntimeWarning: Glyph 53468 missing from current font.\n",
      "  font.set_text(s, 0.0, flags=flags)\n",
      "/Users/jeon-eunkyu/opt/anaconda3/lib/python3.9/site-packages/matplotlib/backends/backend_agg.py:240: RuntimeWarning: Glyph 54588 missing from current font.\n",
      "  font.set_text(s, 0.0, flags=flags)\n",
      "/Users/jeon-eunkyu/opt/anaconda3/lib/python3.9/site-packages/matplotlib/backends/backend_agg.py:240: RuntimeWarning: Glyph 54644 missing from current font.\n",
      "  font.set_text(s, 0.0, flags=flags)\n",
      "/Users/jeon-eunkyu/opt/anaconda3/lib/python3.9/site-packages/matplotlib/backends/backend_agg.py:240: RuntimeWarning: Glyph 50868 missing from current font.\n",
      "  font.set_text(s, 0.0, flags=flags)\n",
      "/Users/jeon-eunkyu/opt/anaconda3/lib/python3.9/site-packages/matplotlib/backends/backend_agg.py:240: RuntimeWarning: Glyph 51204 missing from current font.\n",
      "  font.set_text(s, 0.0, flags=flags)\n",
      "/Users/jeon-eunkyu/opt/anaconda3/lib/python3.9/site-packages/matplotlib/backends/backend_agg.py:240: RuntimeWarning: Glyph 50672 missing from current font.\n",
      "  font.set_text(s, 0.0, flags=flags)\n",
      "/Users/jeon-eunkyu/opt/anaconda3/lib/python3.9/site-packages/matplotlib/backends/backend_agg.py:240: RuntimeWarning: Glyph 47161 missing from current font.\n",
      "  font.set_text(s, 0.0, flags=flags)\n",
      "/Users/jeon-eunkyu/opt/anaconda3/lib/python3.9/site-packages/matplotlib/backends/backend_agg.py:240: RuntimeWarning: Glyph 51221 missing from current font.\n",
      "  font.set_text(s, 0.0, flags=flags)\n",
      "/Users/jeon-eunkyu/opt/anaconda3/lib/python3.9/site-packages/matplotlib/backends/backend_agg.py:240: RuntimeWarning: Glyph 46020 missing from current font.\n",
      "  font.set_text(s, 0.0, flags=flags)\n",
      "/Users/jeon-eunkyu/opt/anaconda3/lib/python3.9/site-packages/matplotlib/backends/backend_agg.py:203: RuntimeWarning: Glyph 49324 missing from current font.\n",
      "  font.set_text(s, 0, flags=flags)\n",
      "/Users/jeon-eunkyu/opt/anaconda3/lib/python3.9/site-packages/matplotlib/backends/backend_agg.py:203: RuntimeWarning: Glyph 44256 missing from current font.\n",
      "  font.set_text(s, 0, flags=flags)\n",
      "/Users/jeon-eunkyu/opt/anaconda3/lib/python3.9/site-packages/matplotlib/backends/backend_agg.py:203: RuntimeWarning: Glyph 48264 missing from current font.\n",
      "  font.set_text(s, 0, flags=flags)\n",
      "/Users/jeon-eunkyu/opt/anaconda3/lib/python3.9/site-packages/matplotlib/backends/backend_agg.py:203: RuntimeWarning: Glyph 54840 missing from current font.\n",
      "  font.set_text(s, 0, flags=flags)\n",
      "/Users/jeon-eunkyu/opt/anaconda3/lib/python3.9/site-packages/matplotlib/backends/backend_agg.py:203: RuntimeWarning: Glyph 47581 missing from current font.\n",
      "  font.set_text(s, 0, flags=flags)\n",
      "/Users/jeon-eunkyu/opt/anaconda3/lib/python3.9/site-packages/matplotlib/backends/backend_agg.py:203: RuntimeWarning: Glyph 51088 missing from current font.\n",
      "  font.set_text(s, 0, flags=flags)\n",
      "/Users/jeon-eunkyu/opt/anaconda3/lib/python3.9/site-packages/matplotlib/backends/backend_agg.py:203: RuntimeWarning: Glyph 49688 missing from current font.\n",
      "  font.set_text(s, 0, flags=flags)\n",
      "/Users/jeon-eunkyu/opt/anaconda3/lib/python3.9/site-packages/matplotlib/backends/backend_agg.py:203: RuntimeWarning: Glyph 51473 missing from current font.\n",
      "  font.set_text(s, 0, flags=flags)\n",
      "/Users/jeon-eunkyu/opt/anaconda3/lib/python3.9/site-packages/matplotlib/backends/backend_agg.py:203: RuntimeWarning: Glyph 49345 missing from current font.\n",
      "  font.set_text(s, 0, flags=flags)\n",
      "/Users/jeon-eunkyu/opt/anaconda3/lib/python3.9/site-packages/matplotlib/backends/backend_agg.py:203: RuntimeWarning: Glyph 44221 missing from current font.\n",
      "  font.set_text(s, 0, flags=flags)\n",
      "/Users/jeon-eunkyu/opt/anaconda3/lib/python3.9/site-packages/matplotlib/backends/backend_agg.py:203: RuntimeWarning: Glyph 48512 missing from current font.\n",
      "  font.set_text(s, 0, flags=flags)\n",
      "/Users/jeon-eunkyu/opt/anaconda3/lib/python3.9/site-packages/matplotlib/backends/backend_agg.py:203: RuntimeWarning: Glyph 49888 missing from current font.\n",
      "  font.set_text(s, 0, flags=flags)\n",
      "/Users/jeon-eunkyu/opt/anaconda3/lib/python3.9/site-packages/matplotlib/backends/backend_agg.py:203: RuntimeWarning: Glyph 44592 missing from current font.\n",
      "  font.set_text(s, 0, flags=flags)\n",
      "/Users/jeon-eunkyu/opt/anaconda3/lib/python3.9/site-packages/matplotlib/backends/backend_agg.py:203: RuntimeWarning: Glyph 53468 missing from current font.\n",
      "  font.set_text(s, 0, flags=flags)\n",
      "/Users/jeon-eunkyu/opt/anaconda3/lib/python3.9/site-packages/matplotlib/backends/backend_agg.py:203: RuntimeWarning: Glyph 54588 missing from current font.\n",
      "  font.set_text(s, 0, flags=flags)\n",
      "/Users/jeon-eunkyu/opt/anaconda3/lib/python3.9/site-packages/matplotlib/backends/backend_agg.py:203: RuntimeWarning: Glyph 54644 missing from current font.\n",
      "  font.set_text(s, 0, flags=flags)\n",
      "/Users/jeon-eunkyu/opt/anaconda3/lib/python3.9/site-packages/matplotlib/backends/backend_agg.py:203: RuntimeWarning: Glyph 50868 missing from current font.\n",
      "  font.set_text(s, 0, flags=flags)\n",
      "/Users/jeon-eunkyu/opt/anaconda3/lib/python3.9/site-packages/matplotlib/backends/backend_agg.py:203: RuntimeWarning: Glyph 51204 missing from current font.\n",
      "  font.set_text(s, 0, flags=flags)\n",
      "/Users/jeon-eunkyu/opt/anaconda3/lib/python3.9/site-packages/matplotlib/backends/backend_agg.py:203: RuntimeWarning: Glyph 50672 missing from current font.\n",
      "  font.set_text(s, 0, flags=flags)\n",
      "/Users/jeon-eunkyu/opt/anaconda3/lib/python3.9/site-packages/matplotlib/backends/backend_agg.py:203: RuntimeWarning: Glyph 47161 missing from current font.\n",
      "  font.set_text(s, 0, flags=flags)\n",
      "/Users/jeon-eunkyu/opt/anaconda3/lib/python3.9/site-packages/matplotlib/backends/backend_agg.py:203: RuntimeWarning: Glyph 51221 missing from current font.\n",
      "  font.set_text(s, 0, flags=flags)\n",
      "/Users/jeon-eunkyu/opt/anaconda3/lib/python3.9/site-packages/matplotlib/backends/backend_agg.py:203: RuntimeWarning: Glyph 46020 missing from current font.\n",
      "  font.set_text(s, 0, flags=flags)\n"
     ]
    },
    {
     "data": {
      "text/plain": "<Figure size 432x288 with 12 Axes>",
      "image/png": "[encoded data removed]"
     },
     "metadata": {
      "needs_background": "light"
     },
     "output_type": "display_data"
    }
   ],
   "source": [
    "import matplotlib.pyplot as plt\n",
    "from matplotlib import rc\n",
    "from matplotlib import font_manager\n",
    "f_path = \"/Users/jeon-eunkyu/Library/Fonts/KoPub Dotum Bold.ttf\"\n",
    "font_manager.FontProperties(fname=f_path).get_name()\n",
    "rc('font', family='Malgun Gothic')\n",
    "\n",
    "\n",
    "dta = pd.read_excel('realdata.xlsx')\n",
    "dta[['기상상태','피해운전자 연령','피해운전자 상해정도']]\n",
    "dta.hist()\n",
    "plt.show()"
   ],
   "metadata": {
    "collapsed": false
   }
  },
  {
   "cell_type": "code",
   "execution_count": null,
   "outputs": [],
   "source": [],
   "metadata": {
    "collapsed": false
   }
  },
  {
   "cell_type": "code",
   "execution_count": null,
   "outputs": [],
   "source": [],
   "metadata": {
    "collapsed": false
   }
  }
 ],
 "metadata": {
  "kernelspec": {
   "display_name": "Python 3",
   "language": "python",
   "name": "python3"
  },
  "language_info": {
   "codemirror_mode": {
    "name": "ipython",
    "version": 2
   },
   "file_extension": ".py",
   "mimetype": "text/x-python",
   "name": "python",
   "nbconvert_exporter": "python",
   "pygments_lexer": "ipython2",
   "version": "2.7.6"
  }
 },
 "nbformat": 4,
 "nbformat_minor": 0
}
